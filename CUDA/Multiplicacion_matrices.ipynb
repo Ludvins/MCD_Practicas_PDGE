{
  "nbformat": 4,
  "nbformat_minor": 0,
  "metadata": {
    "colab": {
      "name": "Multiplicacion_matrices.ipynb",
      "provenance": [],
      "authorship_tag": "ABX9TyOSY1oQBbHDpJOfeTp6/+QD",
      "include_colab_link": true
    },
    "kernelspec": {
      "name": "python3",
      "display_name": "Python 3"
    },
    "accelerator": "GPU"
  },
  "cells": [
    {
      "cell_type": "markdown",
      "metadata": {
        "id": "view-in-github",
        "colab_type": "text"
      },
      "source": [
        "<a href=\"https://colab.research.google.com/github/Ludvins/Practicas_PDGE/blob/master/CUDA/Multiplicacion_matrices.ipynb\" target=\"_parent\"><img src=\"https://colab.research.google.com/assets/colab-badge.svg\" alt=\"Open In Colab\"/></a>"
      ]
    },
    {
      "cell_type": "markdown",
      "metadata": {
        "id": "kA2gC7QblMmO"
      },
      "source": [
        "# Multiplicación en CPU"
      ]
    },
    {
      "cell_type": "code",
      "metadata": {
        "id": "Kti9K705k_NW",
        "outputId": "c4cb1252-61ac-48e9-ab04-66785454bd5b",
        "colab": {
          "base_uri": "https://localhost:8080/"
        }
      },
      "source": [
        "%%writefile mat_cpu.cu\n",
        "#include <stdio.h>\n",
        "const int N = 16;\n",
        "\n",
        "// Computa la multiplicación de matrices en CPU\n",
        "void matrixMultCPU(int a[N][N], int b[N][N], int c[N][N]) {\n",
        "  int n,m;\n",
        "  for (int i = 0; i < N; i++) {\n",
        "    for (int j = 0; j < N; j++) {\n",
        "      int sum = 0;\n",
        "      for (int k = 0; k < N; k++) {\n",
        "        m = a[i][k];\n",
        "        n = b[k][j];\n",
        "        sum += m * n;\n",
        "      }\n",
        "      c[i][j] = sum;\n",
        "    }\n",
        "  }\n",
        "}\n",
        "\n",
        "int main() {\n",
        "  int a[N][N], b[N][N], c[N][N];\n",
        "\n",
        "  /* inicializando variables con datos*/\n",
        "  for (int i = 0; i < N; i++) {\n",
        "    for (int j = 0; j < N; j++) {\n",
        "      a[i][j] = j;\n",
        "      b[i][j] = j;\n",
        "    }\n",
        "  }\n",
        "\n",
        "\n",
        "  matrixMultCPU(a, b, c);\n",
        "\n",
        "  // Comprueba resultados\n",
        "  int errores = 0;\n",
        "  // imprimiendo\n",
        "  for (int y = 0; y < N; y++) {\n",
        "    for (int x = 0; x < N; x++) {\n",
        "        if (c[y][x] != 120*x)\n",
        "          errores++;\n",
        "    }\n",
        "  }\n",
        "  if (errores == 0)\n",
        "    printf(\"Resultado correcto\");\n",
        "  else\n",
        "    printf(\"Errores: %d\", errores);\n",
        "  return 0;\n",
        "}"
      ],
      "execution_count": 46,
      "outputs": [
        {
          "output_type": "stream",
          "text": [
            "Overwriting mat_cpu.cu\n"
          ],
          "name": "stdout"
        }
      ]
    },
    {
      "cell_type": "code",
      "metadata": {
        "id": "b8I5n8pNl9lR",
        "outputId": "95b25bfd-dc95-4596-eadd-f3002caabbbc",
        "colab": {
          "base_uri": "https://localhost:8080/"
        }
      },
      "source": [
        "!/usr/local/cuda/bin/nvcc -arch=sm_35 -rdc=true mat_cpu.cu -o mat_cpu -lcudadevrt\n",
        "!./mat_cpu"
      ],
      "execution_count": 47,
      "outputs": [
        {
          "output_type": "stream",
          "text": [
            "Resultado correcto"
          ],
          "name": "stdout"
        }
      ]
    },
    {
      "cell_type": "markdown",
      "metadata": {
        "id": "d1cZYnHWnERJ"
      },
      "source": [
        "# Multiplicación en GPU"
      ]
    },
    {
      "cell_type": "markdown",
      "metadata": {
        "id": "sgkDxFIjnGbG"
      },
      "source": [
        "## Memoria no compartida"
      ]
    },
    {
      "cell_type": "code",
      "metadata": {
        "id": "Fz3_Nv1KnOPk",
        "outputId": "db056463-8af8-476c-be25-4c0884e36015",
        "colab": {
          "base_uri": "https://localhost:8080/"
        }
      },
      "source": [
        "%%writefile mat_gpu.cu\n",
        "#include <stdio.h>\n",
        "const int N = 16;\n",
        "\n",
        "// Computa la multiplicación de matrices en GPU sin memoria compartida\n",
        "__global__ void matrixMultGPU(int *a, int *b, int *c) {\n",
        "  int k, sum = 0;\n",
        "  int fil = threadIdx.x + blockDim.x * blockIdx.x;\n",
        "  int col = threadIdx.y + blockDim.y * blockIdx.y;\n",
        "  if (col < N && fil < N) {\n",
        "    for (k = 0; k < N; k++) {\n",
        "      sum += a[fil * N + k] * b[k * N + col];\n",
        "    }\n",
        "    c[fil * N + col] = sum;\n",
        "  }\n",
        "}\n",
        "\n",
        "int main() {\n",
        "  int *a, *b, *c;\n",
        "\n",
        "  int size = N * N * sizeof(int);\n",
        "\n",
        "  cudaMallocManaged(&a, size);\n",
        "  cudaMallocManaged(&b, size);\n",
        "  cudaMallocManaged(&c, size);\n",
        "\n",
        "  /* inicializando variables con datos*/\n",
        "  for (int i = 0; i < N; i++) {\n",
        "    int cont = 0;\n",
        "    for (int j = 0; j < N; j++) {\n",
        "      a[i*N + j] = cont;\n",
        "      b[i*N + j] = cont;\n",
        "      cont++;\n",
        "    }\n",
        "  }\n",
        "\n",
        "  // Tamaño de grid y bloque\n",
        "  dim3 dimGrid(1, 1);\n",
        "  dim3 dimBlock(N, N);\n",
        "\n",
        "  matrixMultGPU<<<dimGrid, dimBlock>>>(a, b, c);\n",
        "  \n",
        "  cudaDeviceSynchronize();\n",
        "\n",
        "  // Comprueba resultados\n",
        "  int errores = 0;\n",
        "  // imprimiendo\n",
        "  for (int y = 0; y < N; y++) {\n",
        "    for (int x = 0; x < N; x++) {\n",
        "        if (c[y*N + x] != 120*x)\n",
        "          errores++;\n",
        "    }\n",
        "  }\n",
        "  if (errores == 0)\n",
        "    printf(\"Resultado correcto\");\n",
        "  else\n",
        "    printf(\"Errores: %d\", errores);\n",
        "\n",
        "  cudaFree(a);\n",
        "  cudaFree(b);\n",
        "  cudaFree(c);\n",
        "\n",
        "  return 0;\n",
        "}"
      ],
      "execution_count": 50,
      "outputs": [
        {
          "output_type": "stream",
          "text": [
            "Overwriting mat_gpu.cu\n"
          ],
          "name": "stdout"
        }
      ]
    },
    {
      "cell_type": "code",
      "metadata": {
        "id": "AWnT1dWEnYVk",
        "outputId": "97845610-4a34-4b76-e3f4-3d98db5669ea",
        "colab": {
          "base_uri": "https://localhost:8080/"
        }
      },
      "source": [
        "!/usr/local/cuda/bin/nvcc -arch=sm_35 -rdc=true mat_gpu.cu -o mat_gpu -lcudadevrt\n",
        "!./mat_gpu"
      ],
      "execution_count": 51,
      "outputs": [
        {
          "output_type": "stream",
          "text": [
            "Resultado correcto"
          ],
          "name": "stdout"
        }
      ]
    },
    {
      "cell_type": "markdown",
      "metadata": {
        "id": "r8mM75xXndbv"
      },
      "source": [
        "## Memoria compartida"
      ]
    },
    {
      "cell_type": "code",
      "metadata": {
        "id": "r_GDTqyljLIW",
        "outputId": "cbd6a39d-8105-406f-f8bd-305dabcb57d7",
        "colab": {
          "base_uri": "https://localhost:8080/"
        }
      },
      "source": [
        "%%writefile mat_gpu2.cu\n",
        "#include <stdio.h>\n",
        "// Tamaño de matrices\n",
        "const int N = 16;\n",
        "// Tamaño de mosaico\n",
        "const int M = 8;\n",
        "\n",
        "// Computa la multiplicación de matrices en GPU con memoria compartida y B traspuesta\n",
        "__global__ void matrixMultGPU2(int* A, int* B, int* C, int N) {\n",
        "    \n",
        "    int sum = 0;\n",
        "    int tx = threadIdx.x;\n",
        "    int ty = threadIdx.y;\n",
        "    int i = blockIdx.x * blockDim.x + tx;\n",
        "    int j = blockIdx.y * blockDim.y + ty;\n",
        "\n",
        "    __shared__ int As[M][M];\n",
        "    __shared__ int Bs[M][M];\n",
        "\n",
        "    // Recorre los mosaicos de A y B necesarios para computar la submatriz de C\n",
        "    for (int tile = 0; tile < (N/M); tile++){\n",
        "        // Carga los mosaicos (M x M) de A y B en paralelo (y de forma traspuesta)\n",
        "        As[ty][tx] = A[(i * N) + (ty + (tile*M))];\n",
        "        Bs[ty][tx] = B[((tx + (tile * M))*N) + j];\n",
        "\n",
        "        __syncthreads();\n",
        "\n",
        "        // Computa los resultados para la submatriz de C\n",
        "        for (int k = 0; k < M; k++)\n",
        "          sum += As[k][tx] * Bs[ty][k];\n",
        "\n",
        "        __syncthreads();\n",
        "    }\n",
        "    // Escribe en paralelo los resultados obtenidos por el bloque\n",
        "    C[i * N + j] = sum;\n",
        "}\n",
        "\n",
        "int main() {\n",
        "  int *a, *b, *c;\n",
        "\n",
        "  int size = N * N * sizeof(int);\n",
        "\n",
        "  cudaMallocManaged(&a, size);\n",
        "  cudaMallocManaged(&b, size);\n",
        "  cudaMallocManaged(&c, size);\n",
        "\n",
        "  /* inicializando variables con datos*/\n",
        "  for (int i = 0; i < N; i++) {\n",
        "    int cont = 0;\n",
        "    for (int j = 0; j < N; j++) {\n",
        "      a[i*N + j] = cont;\n",
        "      b[i*N + j] = cont;\n",
        "      cont++;\n",
        "    }\n",
        "  }\n",
        "\n",
        "  // Tamaño de grid y bloque\n",
        "  dim3 dimGrid(N/M, N/M);\n",
        "  dim3 dimBlock(M, M);\n",
        "\n",
        "  matrixMultGPU2<<<dimGrid, dimBlock>>>(a, b, c, N);\n",
        "\n",
        "  cudaDeviceSynchronize();\n",
        "\n",
        "  // Comprueba resultados\n",
        "  int errores = 0;\n",
        "  // imprimiendo\n",
        "  for (int y = 0; y < N; y++) {\n",
        "    for (int x = 0; x < N; x++) {\n",
        "        if (c[y*N + x] != 120*x)\n",
        "          errores++;\n",
        "    }\n",
        "  }\n",
        "  if (errores == 0)\n",
        "    printf(\"Resultado correcto\");\n",
        "  else\n",
        "    printf(\"Errores: %d\", errores);\n",
        "\n",
        "  return 0;\n",
        "}"
      ],
      "execution_count": 52,
      "outputs": [
        {
          "output_type": "stream",
          "text": [
            "Overwriting mat_gpu2.cu\n"
          ],
          "name": "stdout"
        }
      ]
    },
    {
      "cell_type": "code",
      "metadata": {
        "id": "I4C940mGqTTN",
        "outputId": "99b6bcf0-2151-4f43-d10f-c9d47c08a57e",
        "colab": {
          "base_uri": "https://localhost:8080/"
        }
      },
      "source": [
        "!/usr/local/cuda/bin/nvcc -arch=sm_35 -rdc=true mat_gpu2.cu -o mat_gpu2 -lcudadevrt\n",
        "!./mat_gpu2\n",
        "!nvprof ./mat_gpu2"
      ],
      "execution_count": 59,
      "outputs": [
        {
          "output_type": "stream",
          "text": [
            "Resultado correcto==1530== NVPROF is profiling process 1530, command: ./mat_gpu2\n",
            "Resultado correcto==1530== Profiling application: ./mat_gpu2\n",
            "==1530== Profiling result:\n",
            "            Type  Time(%)      Time     Calls       Avg       Min       Max  Name\n",
            " GPU activities:  100.00%  459.03us         1  459.03us  459.03us  459.03us  matrixMultGPU2(int*, int*, int*, int)\n",
            "      API calls:   99.47%  204.39ms         3  68.130ms  6.8310us  204.36ms  cudaMallocManaged\n",
            "                    0.23%  465.62us         1  465.62us  465.62us  465.62us  cudaDeviceSynchronize\n",
            "                    0.19%  388.56us         1  388.56us  388.56us  388.56us  cuDeviceTotalMem\n",
            "                    0.08%  159.57us        97  1.6450us     153ns  73.804us  cuDeviceGetAttribute\n",
            "                    0.02%  41.582us         1  41.582us  41.582us  41.582us  cudaLaunchKernel\n",
            "                    0.01%  28.532us         1  28.532us  28.532us  28.532us  cuDeviceGetName\n",
            "                    0.00%  3.2400us         1  3.2400us  3.2400us  3.2400us  cuDeviceGetPCIBusId\n",
            "                    0.00%  1.8890us         3     629ns     163ns  1.3650us  cuDeviceGetCount\n",
            "                    0.00%  1.2360us         2     618ns     232ns  1.0040us  cuDeviceGet\n",
            "                    0.00%     316ns         1     316ns     316ns     316ns  cuDeviceGetUuid\n",
            "\n",
            "==1530== Unified Memory profiling result:\n",
            "Device \"Tesla T4 (0)\"\n",
            "   Count  Avg Size  Min Size  Max Size  Total Size  Total Time  Name\n",
            "       2  32.000KB  4.0000KB  60.000KB  64.00000KB  11.77600us  Host To Device\n",
            "       2  32.000KB  4.0000KB  60.000KB  64.00000KB  8.032000us  Device To Host\n",
            "       1         -         -         -           -  452.7680us  Gpu page fault groups\n",
            "Total CPU Page faults: 2\n"
          ],
          "name": "stdout"
        }
      ]
    },
    {
      "cell_type": "markdown",
      "metadata": {
        "id": "ER-HzBhcngz0"
      },
      "source": [
        "# Medición de tiempos"
      ]
    },
    {
      "cell_type": "markdown",
      "metadata": {
        "id": "8OVduU4usZly"
      },
      "source": [
        "## Tiempos en CPU"
      ]
    },
    {
      "cell_type": "markdown",
      "metadata": {
        "id": "Cc6b1IV6sbPG"
      },
      "source": [
        "## Tiempos en GPU"
      ]
    },
    {
      "cell_type": "code",
      "metadata": {
        "id": "4IluEtxWAnw5",
        "outputId": "2540fc97-7c96-42ef-f958-a54e89badf9f",
        "colab": {
          "base_uri": "https://localhost:8080/"
        }
      },
      "source": [
        "%%writefile mat.cu\n",
        "#include <stdio.h>\n",
        "// Tamaño de matrices\n",
        "const int N = 16;\n",
        "// Tamaño de mosaico\n",
        "const int M = 8;\n",
        "\n",
        "// Computa la multiplicación de matrices en GPU sin memoria compartida\n",
        "__global__ void matrixMultGPU(int *a, int *b, int *c) {\n",
        "  int k, sum = 0;\n",
        "  int col = threadIdx.x + blockDim.x * blockIdx.x;\n",
        "  int fil = threadIdx.y + blockDim.y * blockIdx.y;\n",
        "  if (col < N && fil < N) {\n",
        "    for (k = 0; k < N; k++) {\n",
        "      sum += a[fil * N + k] * b[k * N + col];\n",
        "    }\n",
        "    c[fil * N + col] = sum;\n",
        "  }\n",
        "}\n",
        "\n",
        "// Computa la multiplicación de matrices en GPU con memoria compartida y B traspuesta\n",
        "__global__ void matrixMultGPUComp(int* A, int* B, int* C) {\n",
        "    \n",
        "    int sum = 0;\n",
        "    int tx = threadIdx.x;\n",
        "    int ty = threadIdx.y;\n",
        "    int i = blockIdx.x * blockDim.x + tx;\n",
        "    int j = blockIdx.y * blockDim.y + ty;\n",
        "\n",
        "    __shared__ int As[M][M];\n",
        "    __shared__ int Bs[M][M];\n",
        "\n",
        "    // Recorre los mosaicos de A y B necesarios para computar la submatriz de C\n",
        "    for (int tile = 0; tile < (N/M); tile++){\n",
        "        // Carga los mosaicos (M x M) de A y B en paralelo (y de forma traspuesta)\n",
        "        As[ty][tx] = A[(i * N) + (ty + (tile*M))];\n",
        "        Bs[ty][tx] = B[((tx + (tile * M))*N) + j];\n",
        "\n",
        "        __syncthreads();\n",
        "\n",
        "        // Computa los resultados para la submatriz de C\n",
        "        for (int k = 0; k < M; k++)\n",
        "          sum += As[k][tx] * Bs[ty][k];\n",
        "\n",
        "        __syncthreads();\n",
        "    }\n",
        "    // Escribe en paralelo los resultados obtenidos por el bloque\n",
        "    C[i * N + j] = sum;\n",
        "}\n",
        "\n",
        "int main() {\n",
        "  int *a, *b, *c;\n",
        "\n",
        "  int size = N * N * sizeof(int);\n",
        "\n",
        "  cudaMallocManaged(&a, size);\n",
        "  cudaMallocManaged(&b, size);\n",
        "  cudaMallocManaged(&c, size);\n",
        "\n",
        "  /* inicializando variables con datos*/\n",
        "  for (int i = 0; i < N; i++) {\n",
        "    int cont = 0;\n",
        "    for (int j = 0; j < N; j++) {\n",
        "      a[i*N + j] = cont;\n",
        "      b[i*N + j] = cont;\n",
        "      cont++;\n",
        "    }\n",
        "  }\n",
        "\n",
        "  // Tamaño de grid y bloque\n",
        "  //dim3 dimGrid(1, 1);\n",
        "  //dim3 dimBlock(N, N);\n",
        "\n",
        "  // Tamaño de grid y bloque\n",
        "  dim3 dimGrid(N/M, N/M);\n",
        "  dim3 dimBlock(M, M);\n",
        "\n",
        "  cudaEvent_t start;\n",
        "  cudaEventCreate(&start);\n",
        "\n",
        "  cudaEvent_t stop;\n",
        "  cudaEventCreate(&stop);\n",
        "\n",
        "  cudaEventRecord(start, NULL);\n",
        "\n",
        "  int nIter = 1000;\n",
        "  for (int i = 0; i < nIter; i++){\n",
        "      matrixMultGPU<<<dimGrid, dimBlock>>>(a, b, c);\n",
        "  }\n",
        "  cudaDeviceSynchronize();\n",
        "\n",
        "  cudaEventRecord(stop, NULL);\n",
        "  cudaEventSynchronize(stop);\n",
        "\n",
        "  float msecTotal = 0.0f;\n",
        "  cudaEventElapsedTime(&msecTotal, start, stop);\n",
        "\n",
        "  float msecPerKernelExecution = msecTotal / nIter;\n",
        "  double flopsPerMMull = 2.0 * N * N * N;\n",
        "  double gigaFlops = (flopsPerMMull * 1.0e-9f) / (msecPerKernelExecution / 1000.0f);\n",
        "\n",
        "  // Comprueba resultados\n",
        "  int errores = 0;\n",
        "  // imprimiendo\n",
        "  for (int y = 0; y < N; y++) {\n",
        "    for (int x = 0; x < N; x++) {\n",
        "        if (c[y*N + x] != N*(N-1)/2*x)\n",
        "          errores++;\n",
        "    }\n",
        "  }\n",
        "  if (errores != 0)\n",
        "    printf(\"Errores: %d\\n\", errores);\n",
        "\n",
        "  printf(\"GFLOPS: %f\\n\", gigaFlops);\n",
        "\n",
        "\n",
        "  cudaFree(a);\n",
        "  cudaFree(b);\n",
        "  cudaFree(c);\n",
        "\n",
        "  return 0;\n",
        "}"
      ],
      "execution_count": 2,
      "outputs": [
        {
          "output_type": "stream",
          "text": [
            "Writing mat.cu\n"
          ],
          "name": "stdout"
        }
      ]
    },
    {
      "cell_type": "markdown",
      "metadata": {
        "id": "EUSZkj8JyP62"
      },
      "source": [
        "## Sin memoria compartida:"
      ]
    },
    {
      "cell_type": "code",
      "metadata": {
        "id": "uzRma4s5FC6I",
        "outputId": "3179654f-8ecd-4c02-b74e-79892f360339",
        "colab": {
          "base_uri": "https://localhost:8080/"
        }
      },
      "source": [
        "!sed -i '/const int N = /c\\const int N = 16;' mat.cu\n",
        "!/usr/local/cuda/bin/nvcc -arch=sm_35 -rdc=true mat.cu -o mat -lcudadevrt\n",
        "!nvprof ./mat"
      ],
      "execution_count": 81,
      "outputs": [
        {
          "output_type": "stream",
          "text": [
            "==2463== NVPROF is profiling process 2463, command: ./mat\n",
            "GFLOPS: 1.216291\n",
            "==2463== Profiling application: ./mat\n",
            "==2463== Profiling result:\n",
            "            Type  Time(%)      Time     Calls       Avg       Min       Max  Name\n",
            " GPU activities:  100.00%  3.0923ms      1000  3.0920us  2.5600us  478.71us  matrixMultGPU(int*, int*, int*)\n",
            "      API calls:   96.75%  211.72ms         3  70.574ms  5.7390us  211.69ms  cudaMallocManaged\n",
            "                    2.91%  6.3601ms      1000  6.3600us  4.8930us  29.878us  cudaLaunchKernel\n",
            "                    0.17%  382.70us         1  382.70us  382.70us  382.70us  cuDeviceTotalMem\n",
            "                    0.07%  147.56us        97  1.5210us     135ns  62.414us  cuDeviceGetAttribute\n",
            "                    0.06%  122.00us         3  40.667us  12.327us  79.301us  cudaFree\n",
            "                    0.01%  29.367us         1  29.367us  29.367us  29.367us  cuDeviceGetName\n",
            "                    0.01%  20.080us         2  10.040us  1.2080us  18.872us  cudaEventCreate\n",
            "                    0.01%  16.729us         2  8.3640us  3.7970us  12.932us  cudaEventRecord\n",
            "                    0.01%  12.529us         1  12.529us  12.529us  12.529us  cudaDeviceSynchronize\n",
            "                    0.00%  7.0960us         1  7.0960us  7.0960us  7.0960us  cudaEventSynchronize\n",
            "                    0.00%  3.5490us         1  3.5490us  3.5490us  3.5490us  cuDeviceGetPCIBusId\n",
            "                    0.00%  2.0720us         1  2.0720us  2.0720us  2.0720us  cudaEventElapsedTime\n",
            "                    0.00%  1.6410us         3     547ns     160ns  1.0540us  cuDeviceGetCount\n",
            "                    0.00%  1.6170us         2     808ns     310ns  1.3070us  cuDeviceGet\n",
            "                    0.00%     270ns         1     270ns     270ns     270ns  cuDeviceGetUuid\n",
            "\n",
            "==2463== Unified Memory profiling result:\n",
            "Device \"Tesla T4 (0)\"\n",
            "   Count  Avg Size  Min Size  Max Size  Total Size  Total Time  Name\n",
            "       2  32.000KB  4.0000KB  60.000KB  64.00000KB  11.29600us  Host To Device\n",
            "       2  32.000KB  4.0000KB  60.000KB  64.00000KB  8.544000us  Device To Host\n",
            "       1         -         -         -           -  473.6640us  Gpu page fault groups\n",
            "Total CPU Page faults: 2\n"
          ],
          "name": "stdout"
        }
      ]
    },
    {
      "cell_type": "code",
      "metadata": {
        "id": "ah364smx9Cz-",
        "outputId": "e512578c-0e12-4297-97c2-00e579fa6009",
        "colab": {
          "base_uri": "https://localhost:8080/"
        }
      },
      "source": [
        "!sed -i '/const int N = /c\\const int N = 32;' mat.cu\n",
        "!/usr/local/cuda/bin/nvcc -arch=sm_35 -rdc=true mat.cu -o mat -lcudadevrt\n",
        "!nvprof ./mat"
      ],
      "execution_count": 82,
      "outputs": [
        {
          "output_type": "stream",
          "text": [
            "==2512== NVPROF is profiling process 2512, command: ./mat\n",
            "GFLOPS: 10.005422\n",
            "==2512== Profiling application: ./mat\n",
            "==2512== Profiling result:\n",
            "            Type  Time(%)      Time     Calls       Avg       Min       Max  Name\n",
            " GPU activities:  100.00%  3.6924ms      1000  3.6920us  3.0710us  584.46us  matrixMultGPU(int*, int*, int*)\n",
            "      API calls:   96.95%  222.44ms         3  74.147ms  6.0530us  222.41ms  cudaMallocManaged\n",
            "                    2.69%  6.1803ms      1000  6.1800us  4.6400us  32.548us  cudaLaunchKernel\n",
            "                    0.17%  391.89us         1  391.89us  391.89us  391.89us  cuDeviceTotalMem\n",
            "                    0.08%  180.03us        97  1.8550us     154ns  67.870us  cuDeviceGetAttribute\n",
            "                    0.06%  138.31us         3  46.102us  10.977us  81.254us  cudaFree\n",
            "                    0.02%  44.720us         1  44.720us  44.720us  44.720us  cuDeviceGetName\n",
            "                    0.01%  16.392us         2  8.1960us  1.2990us  15.093us  cudaEventCreate\n",
            "                    0.01%  14.960us         2  7.4800us  4.4790us  10.481us  cudaEventRecord\n",
            "                    0.01%  12.024us         1  12.024us  12.024us  12.024us  cudaDeviceSynchronize\n",
            "                    0.00%  7.4720us         1  7.4720us  7.4720us  7.4720us  cudaEventSynchronize\n",
            "                    0.00%  3.5560us         1  3.5560us  3.5560us  3.5560us  cuDeviceGetPCIBusId\n",
            "                    0.00%  2.1680us         1  2.1680us  2.1680us  2.1680us  cudaEventElapsedTime\n",
            "                    0.00%  1.9870us         3     662ns     153ns  1.4050us  cuDeviceGetCount\n",
            "                    0.00%  1.3220us         2     661ns     312ns  1.0100us  cuDeviceGet\n",
            "                    0.00%     339ns         1     339ns     339ns     339ns  cuDeviceGetUuid\n",
            "\n",
            "==2512== Unified Memory profiling result:\n",
            "Device \"Tesla T4 (0)\"\n",
            "   Count  Avg Size  Min Size  Max Size  Total Size  Total Time  Name\n",
            "       2  32.000KB  8.0000KB  56.000KB  64.00000KB  11.68000us  Host To Device\n",
            "       3  21.333KB  4.0000KB  52.000KB  64.00000KB  10.08000us  Device To Host\n",
            "       1         -         -         -           -  574.8800us  Gpu page fault groups\n",
            "Total CPU Page faults: 2\n"
          ],
          "name": "stdout"
        }
      ]
    },
    {
      "cell_type": "code",
      "metadata": {
        "id": "Zn5YMGWl9DxU",
        "outputId": "1ec05af1-8912-4766-9147-d5d9082cd6bf",
        "colab": {
          "base_uri": "https://localhost:8080/"
        }
      },
      "source": [
        "!sed -i '/const int N = /c\\const int N = 64;' mat.cu\n",
        "!/usr/local/cuda/bin/nvcc -arch=sm_35 -rdc=true mat.cu -o mat -lcudadevrt\n",
        "!nvprof ./mat"
      ],
      "execution_count": 83,
      "outputs": [
        {
          "output_type": "stream",
          "text": [
            "==2561== NVPROF is profiling process 2561, command: ./mat\n",
            "GFLOPS: 59.856129\n",
            "==2561== Profiling application: ./mat\n",
            "==2561== Profiling result:\n",
            "            Type  Time(%)      Time     Calls       Avg       Min       Max  Name\n",
            " GPU activities:  100.00%  7.4704ms      1000  7.4700us  6.8800us  466.07us  matrixMultGPU(int*, int*, int*)\n",
            "      API calls:   95.83%  211.19ms         3  70.398ms  6.3200us  211.17ms  cudaMallocManaged\n",
            "                    3.00%  6.6017ms      1000  6.6010us  4.6550us  108.66us  cudaLaunchKernel\n",
            "                    0.81%  1.7842ms         1  1.7842ms  1.7842ms  1.7842ms  cudaDeviceSynchronize\n",
            "                    0.18%  396.58us         1  396.58us  396.58us  396.58us  cuDeviceTotalMem\n",
            "                    0.10%  216.13us        97  2.2280us     160ns  113.98us  cuDeviceGetAttribute\n",
            "                    0.05%  116.34us         3  38.779us  13.670us  69.261us  cudaFree\n",
            "                    0.01%  28.172us         1  28.172us  28.172us  28.172us  cuDeviceGetName\n",
            "                    0.01%  14.522us         2  7.2610us  4.9090us  9.6130us  cudaEventRecord\n",
            "                    0.01%  13.533us         2  6.7660us  1.1300us  12.403us  cudaEventCreate\n",
            "                    0.00%  6.9120us         1  6.9120us  6.9120us  6.9120us  cudaEventSynchronize\n",
            "                    0.00%  3.7500us         1  3.7500us  3.7500us  3.7500us  cuDeviceGetPCIBusId\n",
            "                    0.00%  2.2580us         3     752ns     201ns  1.4950us  cuDeviceGetCount\n",
            "                    0.00%  2.1300us         1  2.1300us  2.1300us  2.1300us  cudaEventElapsedTime\n",
            "                    0.00%  1.1070us         2     553ns     258ns     849ns  cuDeviceGet\n",
            "                    0.00%     296ns         1     296ns     296ns     296ns  cuDeviceGetUuid\n",
            "\n",
            "==2561== Unified Memory profiling result:\n",
            "Device \"Tesla T4 (0)\"\n",
            "   Count  Avg Size  Min Size  Max Size  Total Size  Total Time  Name\n",
            "       2  32.000KB  20.000KB  44.000KB  64.00000KB  10.94400us  Host To Device\n",
            "       3  21.333KB  4.0000KB  32.000KB  64.00000KB  9.472000us  Device To Host\n",
            "       1         -         -         -           -  453.7920us  Gpu page fault groups\n",
            "Total CPU Page faults: 2\n"
          ],
          "name": "stdout"
        }
      ]
    },
    {
      "cell_type": "code",
      "metadata": {
        "id": "meJFb2YJ9E3w",
        "outputId": "c1b8fa88-486b-4377-c710-d5a521f16380",
        "colab": {
          "base_uri": "https://localhost:8080/"
        }
      },
      "source": [
        "!sed -i '/const int N = /c\\const int N = 128;' mat.cu\n",
        "!/usr/local/cuda/bin/nvcc -arch=sm_35 -rdc=true mat.cu -o mat -lcudadevrt\n",
        "!nvprof ./mat"
      ],
      "execution_count": 84,
      "outputs": [
        {
          "output_type": "stream",
          "text": [
            "==2612== NVPROF is profiling process 2612, command: ./mat\n",
            "GFLOPS: 121.721129\n",
            "==2612== Profiling application: ./mat\n",
            "==2612== Profiling result:\n",
            "            Type  Time(%)      Time     Calls       Avg       Min       Max  Name\n",
            " GPU activities:  100.00%  33.171ms      1000  33.170us  32.447us  566.86us  matrixMultGPU(int*, int*, int*)\n",
            "      API calls:   86.00%  213.90ms         3  71.300ms  6.1230us  213.87ms  cudaMallocManaged\n",
            "                   11.13%  27.679ms         1  27.679ms  27.679ms  27.679ms  cudaDeviceSynchronize\n",
            "                    2.57%  6.4010ms      1000  6.4010us  4.6330us  160.25us  cudaLaunchKernel\n",
            "                    0.15%  381.66us         1  381.66us  381.66us  381.66us  cuDeviceTotalMem\n",
            "                    0.06%  149.40us        97  1.5400us     143ns  62.588us  cuDeviceGetAttribute\n",
            "                    0.05%  129.95us         3  43.316us  12.012us  79.386us  cudaFree\n",
            "                    0.01%  30.506us         1  30.506us  30.506us  30.506us  cuDeviceGetName\n",
            "                    0.01%  18.264us         2  9.1320us  8.0560us  10.208us  cudaEventRecord\n",
            "                    0.00%  11.959us         2  5.9790us     739ns  11.220us  cudaEventCreate\n",
            "                    0.00%  6.3820us         1  6.3820us  6.3820us  6.3820us  cudaEventSynchronize\n",
            "                    0.00%  3.2740us         1  3.2740us  3.2740us  3.2740us  cuDeviceGetPCIBusId\n",
            "                    0.00%  2.0820us         1  2.0820us  2.0820us  2.0820us  cudaEventElapsedTime\n",
            "                    0.00%  1.9550us         3     651ns     225ns  1.2350us  cuDeviceGetCount\n",
            "                    0.00%  1.3480us         2     674ns     441ns     907ns  cuDeviceGet\n",
            "                    0.00%     268ns         1     268ns     268ns     268ns  cuDeviceGetUuid\n",
            "\n",
            "==2612== Unified Memory profiling result:\n",
            "Device \"Tesla T4 (0)\"\n",
            "   Count  Avg Size  Min Size  Max Size  Total Size  Total Time  Name\n",
            "       6  21.333KB  8.0000KB  60.000KB  128.0000KB  27.32800us  Host To Device\n",
            "       2  32.000KB  4.0000KB  60.000KB  64.00000KB  7.968000us  Device To Host\n",
            "       2         -         -         -           -  530.3360us  Gpu page fault groups\n",
            "Total CPU Page faults: 3\n"
          ],
          "name": "stdout"
        }
      ]
    },
    {
      "cell_type": "code",
      "metadata": {
        "id": "USvwaSSH9GjJ",
        "outputId": "85922fb0-b3ab-4b80-8fd8-b982e8959511",
        "colab": {
          "base_uri": "https://localhost:8080/"
        }
      },
      "source": [
        "!sed -i '/const int N = /c\\const int N = 512;' mat.cu\n",
        "!/usr/local/cuda/bin/nvcc -arch=sm_35 -rdc=true mat.cu -o mat -lcudadevrt\n",
        "!nvprof ./mat"
      ],
      "execution_count": 85,
      "outputs": [
        {
          "output_type": "stream",
          "text": [
            "==2661== NVPROF is profiling process 2661, command: ./mat\n",
            "GFLOPS: 324.711640\n",
            "==2661== Profiling application: ./mat\n",
            "==2661== Profiling result:\n",
            "            Type  Time(%)      Time     Calls       Avg       Min       Max  Name\n",
            " GPU activities:  100.00%  825.86ms      1000  825.86us  668.55us  3.7685ms  matrixMultGPU(int*, int*, int*)\n",
            "      API calls:   79.35%  817.51ms         1  817.51ms  817.51ms  817.51ms  cudaDeviceSynchronize\n",
            "                   19.75%  203.52ms         3  67.840ms  18.862us  203.48ms  cudaMallocManaged\n",
            "                    0.81%  8.3421ms      1000  8.3420us  4.7530us  99.959us  cudaLaunchKernel\n",
            "                    0.04%  370.97us         1  370.97us  370.97us  370.97us  cuDeviceTotalMem\n",
            "                    0.03%  329.19us         3  109.73us  50.810us  173.66us  cudaFree\n",
            "                    0.01%  139.99us        97  1.4430us     145ns  58.257us  cuDeviceGetAttribute\n",
            "                    0.00%  28.190us         1  28.190us  28.190us  28.190us  cuDeviceGetName\n",
            "                    0.00%  24.269us         2  12.134us  9.2610us  15.008us  cudaEventRecord\n",
            "                    0.00%  15.383us         2  7.6910us     893ns  14.490us  cudaEventCreate\n",
            "                    0.00%  4.1890us         1  4.1890us  4.1890us  4.1890us  cudaEventSynchronize\n",
            "                    0.00%  3.4180us         1  3.4180us  3.4180us  3.4180us  cuDeviceGetPCIBusId\n",
            "                    0.00%  2.1530us         1  2.1530us  2.1530us  2.1530us  cudaEventElapsedTime\n",
            "                    0.00%  1.8470us         3     615ns     198ns  1.2340us  cuDeviceGetCount\n",
            "                    0.00%  1.4670us         2     733ns     324ns  1.1430us  cuDeviceGet\n",
            "                    0.00%     281ns         1     281ns     281ns     281ns  cuDeviceGetUuid\n",
            "\n",
            "==2661== Unified Memory profiling result:\n",
            "Device \"Tesla T4 (0)\"\n",
            "   Count  Avg Size  Min Size  Max Size  Total Size  Total Time  Name\n",
            "      24  85.333KB  4.0000KB  736.00KB  2.000000MB  236.5760us  Host To Device\n",
            "      10  102.40KB  4.0000KB  508.00KB  1.000000MB  90.94400us  Device To Host\n",
            "      11         -         -         -           -  1.954560ms  Gpu page fault groups\n",
            "Total CPU Page faults: 14\n"
          ],
          "name": "stdout"
        }
      ]
    },
    {
      "cell_type": "markdown",
      "metadata": {
        "id": "daJpucLkykM5"
      },
      "source": [
        "## Con memoria compartida"
      ]
    },
    {
      "cell_type": "code",
      "metadata": {
        "id": "fepdRaqVyjT7",
        "outputId": "25bfcc7e-f526-414f-ace6-12ecfd6d2275",
        "colab": {
          "base_uri": "https://localhost:8080/"
        }
      },
      "source": [
        "!sed -i '/matrixMultGPU<<<dimGrid, dimBlock>>>(a, b, c);/c\\matrixMultGPUComp<<<dimGrid, dimBlock>>>(a, b, c);' mat.cu\n",
        "!sed -i '/const int N = /c\\const int N = 16;' mat.cu\n",
        "!/usr/local/cuda/bin/nvcc -arch=sm_35 -rdc=true mat.cu -o mat -lcudadevrt\n",
        "!nvprof ./mat"
      ],
      "execution_count": 86,
      "outputs": [
        {
          "output_type": "stream",
          "text": [
            "==2711== NVPROF is profiling process 2711, command: ./mat\n",
            "GFLOPS: 1.076970\n",
            "==2711== Profiling application: ./mat\n",
            "==2711== Profiling result:\n",
            "            Type  Time(%)      Time     Calls       Avg       Min       Max  Name\n",
            " GPU activities:  100.00%  1.7038ms      1000  1.7030us  1.3110us  375.57us  matrixMultGPUComp(int*, int*, int*)\n",
            "      API calls:   96.18%  199.51ms         3  66.502ms  6.3450us  199.48ms  cudaMallocManaged\n",
            "                    3.45%  7.1567ms      1000  7.1560us  5.0270us  97.368us  cudaLaunchKernel\n",
            "                    0.21%  443.23us         1  443.23us  443.23us  443.23us  cuDeviceTotalMem\n",
            "                    0.07%  138.38us        97  1.4260us     142ns  57.884us  cuDeviceGetAttribute\n",
            "                    0.05%  107.06us         3  35.685us  12.939us  64.390us  cudaFree\n",
            "                    0.01%  28.485us         1  28.485us  28.485us  28.485us  cuDeviceGetName\n",
            "                    0.01%  14.737us         2  7.3680us  3.9850us  10.752us  cudaEventRecord\n",
            "                    0.01%  12.190us         1  12.190us  12.190us  12.190us  cudaDeviceSynchronize\n",
            "                    0.00%  8.1830us         2  4.0910us  1.3460us  6.8370us  cudaEventCreate\n",
            "                    0.00%  6.5760us         1  6.5760us  6.5760us  6.5760us  cudaEventSynchronize\n",
            "                    0.00%  3.3360us         1  3.3360us  3.3360us  3.3360us  cuDeviceGetPCIBusId\n",
            "                    0.00%  2.0970us         1  2.0970us  2.0970us  2.0970us  cudaEventElapsedTime\n",
            "                    0.00%  1.9860us         3     662ns     193ns  1.3180us  cuDeviceGetCount\n",
            "                    0.00%  1.1760us         2     588ns     303ns     873ns  cuDeviceGet\n",
            "                    0.00%     321ns         1     321ns     321ns     321ns  cuDeviceGetUuid\n",
            "\n",
            "==2711== Unified Memory profiling result:\n",
            "Device \"Tesla T4 (0)\"\n",
            "   Count  Avg Size  Min Size  Max Size  Total Size  Total Time  Name\n",
            "       2  32.000KB  4.0000KB  60.000KB  64.00000KB  10.04800us  Host To Device\n",
            "       2  32.000KB  4.0000KB  60.000KB  64.00000KB  7.136000us  Device To Host\n",
            "       1         -         -         -           -  372.6400us  Gpu page fault groups\n",
            "Total CPU Page faults: 2\n"
          ],
          "name": "stdout"
        }
      ]
    },
    {
      "cell_type": "code",
      "metadata": {
        "id": "D73bFLKB9dYI",
        "outputId": "6e6799c2-dff4-42e6-dea3-2f4b0e0a12c7",
        "colab": {
          "base_uri": "https://localhost:8080/"
        }
      },
      "source": [
        "!sed -i '/const int N = /c\\const int N = 32;' mat.cu\n",
        "!/usr/local/cuda/bin/nvcc -arch=sm_35 -rdc=true mat.cu -o mat -lcudadevrt\n",
        "!nvprof ./mat"
      ],
      "execution_count": 87,
      "outputs": [
        {
          "output_type": "stream",
          "text": [
            "==2760== NVPROF is profiling process 2760, command: ./mat\n",
            "GFLOPS: 9.164951\n",
            "==2760== Profiling application: ./mat\n",
            "==2760== Profiling result:\n",
            "            Type  Time(%)      Time     Calls       Avg       Min       Max  Name\n",
            " GPU activities:  100.00%  4.6596ms      1000  4.6590us  4.1600us  426.84us  matrixMultGPUComp(int*, int*, int*)\n",
            "      API calls:   96.38%  199.36ms         3  66.452ms  6.5610us  199.33ms  cudaMallocManaged\n",
            "                    3.26%  6.7452ms      1000  6.7450us  4.9150us  101.02us  cudaLaunchKernel\n",
            "                    0.19%  392.28us         1  392.28us  392.28us  392.28us  cuDeviceTotalMem\n",
            "                    0.07%  153.69us        97  1.5840us     146ns  58.239us  cuDeviceGetAttribute\n",
            "                    0.06%  128.92us         3  42.972us  13.155us  72.183us  cudaFree\n",
            "                    0.01%  23.871us         1  23.871us  23.871us  23.871us  cuDeviceGetName\n",
            "                    0.01%  14.825us         2  7.4120us  4.0270us  10.798us  cudaEventRecord\n",
            "                    0.01%  13.445us         1  13.445us  13.445us  13.445us  cudaDeviceSynchronize\n",
            "                    0.00%  7.6640us         2  3.8320us  1.2520us  6.4120us  cudaEventCreate\n",
            "                    0.00%  6.5970us         1  6.5970us  6.5970us  6.5970us  cudaEventSynchronize\n",
            "                    0.00%  3.1430us         1  3.1430us  3.1430us  3.1430us  cuDeviceGetPCIBusId\n",
            "                    0.00%  2.0140us         1  2.0140us  2.0140us  2.0140us  cudaEventElapsedTime\n",
            "                    0.00%  1.9580us         3     652ns     144ns  1.1400us  cuDeviceGetCount\n",
            "                    0.00%  1.0740us         2     537ns     228ns     846ns  cuDeviceGet\n",
            "                    0.00%     310ns         1     310ns     310ns     310ns  cuDeviceGetUuid\n",
            "\n",
            "==2760== Unified Memory profiling result:\n",
            "Device \"Tesla T4 (0)\"\n",
            "   Count  Avg Size  Min Size  Max Size  Total Size  Total Time  Name\n",
            "       2  32.000KB  8.0000KB  56.000KB  64.00000KB  10.43200us  Host To Device\n",
            "       3  21.333KB  4.0000KB  52.000KB  64.00000KB  9.440000us  Device To Host\n",
            "       1         -         -         -           -  418.2080us  Gpu page fault groups\n",
            "Total CPU Page faults: 2\n"
          ],
          "name": "stdout"
        }
      ]
    },
    {
      "cell_type": "code",
      "metadata": {
        "id": "BRyjfdg_Ix_7",
        "outputId": "b891cb4e-d230-4866-ea5e-1101d13b7b94",
        "colab": {
          "base_uri": "https://localhost:8080/"
        }
      },
      "source": [
        "!sed -i '/const int N = /c\\const int N = 64;' mat.cu\n",
        "!/usr/local/cuda/bin/nvcc -arch=sm_35 -rdc=true mat.cu -o mat -lcudadevrt\n",
        "!nvprof ./mat"
      ],
      "execution_count": 88,
      "outputs": [
        {
          "output_type": "stream",
          "text": [
            "==2809== NVPROF is profiling process 2809, command: ./mat\n",
            "GFLOPS: 54.456322\n",
            "==2809== Profiling application: ./mat\n",
            "==2809== Profiling result:\n",
            "            Type  Time(%)      Time     Calls       Avg       Min       Max  Name\n",
            " GPU activities:  100.00%  8.3443ms      1000  8.3440us  7.8390us  420.47us  matrixMultGPUComp(int*, int*, int*)\n",
            "      API calls:   95.15%  196.51ms         3  65.503ms  6.1570us  196.48ms  cudaMallocManaged\n",
            "                    3.28%  6.7798ms      1000  6.7790us  4.6480us  81.972us  cudaLaunchKernel\n",
            "                    1.20%  2.4763ms         1  2.4763ms  2.4763ms  2.4763ms  cudaDeviceSynchronize\n",
            "                    0.20%  407.47us         1  407.47us  407.47us  407.47us  cuDeviceTotalMem\n",
            "                    0.08%  159.88us        97  1.6480us     137ns  76.533us  cuDeviceGetAttribute\n",
            "                    0.06%  127.38us         3  42.459us  13.767us  82.510us  cudaFree\n",
            "                    0.01%  29.874us         1  29.874us  29.874us  29.874us  cuDeviceGetName\n",
            "                    0.01%  13.436us         2  6.7180us  4.1070us  9.3290us  cudaEventRecord\n",
            "                    0.00%  8.9110us         2  4.4550us  1.0140us  7.8970us  cudaEventCreate\n",
            "                    0.00%  6.0840us         1  6.0840us  6.0840us  6.0840us  cudaEventSynchronize\n",
            "                    0.00%  3.4340us         1  3.4340us  3.4340us  3.4340us  cuDeviceGetPCIBusId\n",
            "                    0.00%  2.0330us         1  2.0330us  2.0330us  2.0330us  cudaEventElapsedTime\n",
            "                    0.00%  1.8690us         3     623ns     171ns  1.2540us  cuDeviceGetCount\n",
            "                    0.00%  1.1740us         2     587ns     272ns     902ns  cuDeviceGet\n",
            "                    0.00%     285ns         1     285ns     285ns     285ns  cuDeviceGetUuid\n",
            "\n",
            "==2809== Unified Memory profiling result:\n",
            "Device \"Tesla T4 (0)\"\n",
            "   Count  Avg Size  Min Size  Max Size  Total Size  Total Time  Name\n",
            "       2  32.000KB  20.000KB  44.000KB  64.00000KB  11.04000us  Host To Device\n",
            "       3  21.333KB  4.0000KB  32.000KB  64.00000KB  9.376000us  Device To Host\n",
            "       1         -         -         -           -  408.5440us  Gpu page fault groups\n",
            "Total CPU Page faults: 2\n"
          ],
          "name": "stdout"
        }
      ]
    },
    {
      "cell_type": "code",
      "metadata": {
        "id": "A6f1tG6nKtlY",
        "outputId": "6fc98e9d-bf11-46b3-af81-c5b264079727",
        "colab": {
          "base_uri": "https://localhost:8080/"
        }
      },
      "source": [
        "!sed -i '/const int N = /c\\const int N = 128;' mat.cu\n",
        "!/usr/local/cuda/bin/nvcc -arch=sm_35 -rdc=true mat.cu -o mat -lcudadevrt\n",
        "!nvprof ./mat"
      ],
      "execution_count": 89,
      "outputs": [
        {
          "output_type": "stream",
          "text": [
            "==2858== NVPROF is profiling process 2858, command: ./mat\n",
            "GFLOPS: 119.013755\n",
            "==2858== Profiling application: ./mat\n",
            "==2858== Profiling result:\n",
            "            Type  Time(%)      Time     Calls       Avg       Min       Max  Name\n",
            " GPU activities:  100.00%  33.925ms      1000  33.925us  32.831us  685.61us  matrixMultGPUComp(int*, int*, int*)\n",
            "      API calls:   85.15%  203.50ms         3  67.833ms  6.1030us  203.47ms  cudaMallocManaged\n",
            "                   11.14%  26.611ms         1  26.611ms  26.611ms  26.611ms  cudaDeviceSynchronize\n",
            "                    3.43%  8.1950ms      1000  8.1950us  4.5590us  663.98us  cudaLaunchKernel\n",
            "                    0.15%  350.23us         1  350.23us  350.23us  350.23us  cuDeviceTotalMem\n",
            "                    0.06%  137.87us        97  1.4210us     132ns  58.358us  cuDeviceGetAttribute\n",
            "                    0.05%  116.76us         3  38.919us  12.012us  72.066us  cudaFree\n",
            "                    0.01%  27.126us         1  27.126us  27.126us  27.126us  cuDeviceGetName\n",
            "                    0.01%  19.260us         2  9.6300us  7.0740us  12.186us  cudaEventRecord\n",
            "                    0.00%  6.3350us         1  6.3350us  6.3350us  6.3350us  cudaEventSynchronize\n",
            "                    0.00%  6.2400us         2  3.1200us     635ns  5.6050us  cudaEventCreate\n",
            "                    0.00%  3.3340us         1  3.3340us  3.3340us  3.3340us  cuDeviceGetPCIBusId\n",
            "                    0.00%  2.1700us         3     723ns     167ns  1.5850us  cuDeviceGetCount\n",
            "                    0.00%  2.0560us         1  2.0560us  2.0560us  2.0560us  cudaEventElapsedTime\n",
            "                    0.00%  1.2460us         2     623ns     314ns     932ns  cuDeviceGet\n",
            "                    0.00%     262ns         1     262ns     262ns     262ns  cuDeviceGetUuid\n",
            "\n",
            "==2858== Unified Memory profiling result:\n",
            "Device \"Tesla T4 (0)\"\n",
            "   Count  Avg Size  Min Size  Max Size  Total Size  Total Time  Name\n",
            "       2  64.000KB  60.000KB  68.000KB  128.0000KB  16.48000us  Host To Device\n",
            "       2  32.000KB  4.0000KB  60.000KB  64.00000KB  8.448000us  Device To Host\n",
            "       2         -         -         -           -  643.2320us  Gpu page fault groups\n",
            "Total CPU Page faults: 3\n"
          ],
          "name": "stdout"
        }
      ]
    },
    {
      "cell_type": "code",
      "metadata": {
        "id": "9r5hPqxT9gwv",
        "outputId": "45ce4df5-b617-4f83-d12f-b85482e3a82a",
        "colab": {
          "base_uri": "https://localhost:8080/"
        }
      },
      "source": [
        "!sed -i '/const int N = /c\\const int N = 512;' mat.cu\n",
        "!/usr/local/cuda/bin/nvcc -arch=sm_35 -rdc=true mat.cu -o mat -lcudadevrt\n",
        "!nvprof ./mat"
      ],
      "execution_count": 3,
      "outputs": [
        {
          "output_type": "stream",
          "text": [
            "==247== NVPROF is profiling process 247, command: ./mat\n",
            "GFLOPS: 374.523663\n",
            "==247== Profiling application: ./mat\n",
            "==247== Profiling result:\n",
            "            Type  Time(%)      Time     Calls       Avg       Min       Max  Name\n",
            " GPU activities:  100.00%  715.92ms      1000  715.92us  685.99us  2.1665ms  matrixMultGPU(int*, int*, int*)\n",
            "      API calls:   70.58%  710.04ms         1  710.04ms  710.04ms  710.04ms  cudaDeviceSynchronize\n",
            "                   28.70%  288.73ms         3  96.243ms  18.365us  288.69ms  cudaMallocManaged\n",
            "                    0.62%  6.2437ms      1000  6.2430us  4.1620us  109.35us  cudaLaunchKernel\n",
            "                    0.04%  429.32us         1  429.32us  429.32us  429.32us  cuDeviceTotalMem\n",
            "                    0.03%  271.15us         3  90.384us  50.055us  126.49us  cudaFree\n",
            "                    0.02%  159.27us        97  1.6410us     135ns  71.547us  cuDeviceGetAttribute\n",
            "                    0.00%  26.068us         2  13.034us  9.5050us  16.563us  cudaEventRecord\n",
            "                    0.00%  16.108us         1  16.108us  16.108us  16.108us  cuDeviceGetName\n",
            "                    0.00%  12.206us         2  6.1030us     787ns  11.419us  cudaEventCreate\n",
            "                    0.00%  6.0940us         1  6.0940us  6.0940us  6.0940us  cudaEventSynchronize\n",
            "                    0.00%  3.2900us         1  3.2900us  3.2900us  3.2900us  cuDeviceGetPCIBusId\n",
            "                    0.00%  2.2490us         1  2.2490us  2.2490us  2.2490us  cudaEventElapsedTime\n",
            "                    0.00%  2.1530us         3     717ns     141ns  1.4450us  cuDeviceGetCount\n",
            "                    0.00%  1.9330us         2     966ns     264ns  1.6690us  cuDeviceGet\n",
            "                    0.00%     268ns         1     268ns     268ns     268ns  cuDeviceGetUuid\n",
            "\n",
            "==247== Unified Memory profiling result:\n",
            "Device \"Tesla P100-PCIE-16GB (0)\"\n",
            "   Count  Avg Size  Min Size  Max Size  Total Size  Total Time  Name\n",
            "      19  107.79KB  4.0000KB  512.00KB  2.000000MB  214.9440us  Host To Device\n",
            "      10  102.40KB  4.0000KB  508.00KB  1.000000MB  90.65600us  Device To Host\n",
            "      12         -         -         -           -  1.384704ms  Gpu page fault groups\n",
            "Total CPU Page faults: 14\n"
          ],
          "name": "stdout"
        }
      ]
    },
    {
      "cell_type": "code",
      "metadata": {
        "id": "_ekzK4br9kMs"
      },
      "source": [
        ""
      ],
      "execution_count": null,
      "outputs": []
    }
  ]
}