{
  "nbformat": 4,
  "nbformat_minor": 0,
  "metadata": {
    "colab": {
      "name": "Multiplicacion_matrices.ipynb",
      "provenance": [],
      "collapsed_sections": [],
      "include_colab_link": true
    },
    "kernelspec": {
      "name": "python3",
      "display_name": "Python 3"
    },
    "accelerator": "GPU"
  },
  "cells": [
    {
      "cell_type": "markdown",
      "metadata": {
        "id": "view-in-github",
        "colab_type": "text"
      },
      "source": [
        "<a href=\"https://colab.research.google.com/github/Ludvins/Practicas_PDGE/blob/master/CUDA/Multiplicacion_matrices.ipynb\" target=\"_parent\"><img src=\"https://colab.research.google.com/assets/colab-badge.svg\" alt=\"Open In Colab\"/></a>"
      ]
    },
    {
      "cell_type": "markdown",
      "metadata": {
        "id": "-9Z3MGYPy7V5"
      },
      "source": [
        "*Luis Antonio Ortega Andrés    \n",
        "Antonio Coín Castro*"
      ]
    },
    {
      "cell_type": "markdown",
      "metadata": {
        "id": "kA2gC7QblMmO"
      },
      "source": [
        "# Ejercicio opcional: multiplicación de matrices\n",
        "\n",
        "Consideramos el problema de multiplicar dos matrices cuadradas $A$ y $B$ de dimensiones $N\\times N$, obteniendo como resultado una matriz $C$, también $N\\times N$."
      ]
    },
    {
      "cell_type": "markdown",
      "metadata": {
        "id": "DCv4c63Se-w7"
      },
      "source": [
        "## Multiplicación en CPU\n",
        "\n",
        "Realizamos la multiplicación en CPU, cuya eficiencia es $O(N^3)$. "
      ]
    },
    {
      "cell_type": "code",
      "metadata": {
        "id": "Kti9K705k_NW",
        "outputId": "f78c6581-1b8b-4b8e-b79e-639332516664",
        "colab": {
          "base_uri": "https://localhost:8080/"
        }
      },
      "source": [
        "%%writefile matmul_cpu.cu\n",
        "\n",
        "#include <stdio.h>\n",
        "\n",
        "#define N 64\n",
        "\n",
        "void matrixMultCPU(float a[N][N], float b[N][N], float c[N][N]) {\n",
        "  int i, j, k;\n",
        "  for (i=0; i < N; i++) {\n",
        "    for (j = 0; j < N; j++) {\n",
        "      float sum = 0;\n",
        "      for (k = 0; k < N; k++) {\n",
        "        sum += a[i][k] * b[k][j];\n",
        "      }\n",
        "      c[i][j] = sum;\n",
        "    }\n",
        "  }\n",
        "}\n",
        "\n",
        "int main() {\n",
        "  float a[N][N], b[N][N], c[N][N];\n",
        "\n",
        "  cudaEvent_t start, stop;\n",
        "  cudaEventCreate(&start);\n",
        "  cudaEventCreate(&stop);\n",
        "\n",
        "  /* inicializando variables con datos*/\n",
        "  for (int i = 0; i < N; i++) {\n",
        "    for (int j = 0; j < N; j++) {\n",
        "      a[i][j] = 1.0f*j;\n",
        "      b[i][j] = 1.0f*j;\n",
        "    }\n",
        "  }\n",
        "\n",
        "  int nIter=1000;\n",
        "  cudaEventRecord(start);\n",
        "  for (int i = 0; i < nIter; i++)\n",
        "    matrixMultCPU(a, b, c);\n",
        "\n",
        "  cudaEventRecord(stop);\n",
        "  cudaEventSynchronize(stop);\n",
        "\n",
        "  float msecTotal = 0.0f;\n",
        "  cudaEventElapsedTime(&msecTotal, start, stop);\n",
        "\n",
        "  // Comprueba resultados\n",
        "  int errores = 0;\n",
        "\n",
        "  // imprimiendo\n",
        "  for (int y = 0; y < N; y++) {\n",
        "    for (int x = 0; x < N; x++) {\n",
        "        if (c[y][x] != (N*(N-1))/2 *x)\n",
        "          errores++;\n",
        "    }\n",
        "  }\n",
        "\n",
        "  if (errores == 0)\n",
        "    printf(\"Resultado correcto.\\n\");\n",
        "  else\n",
        "    printf(\"Errores: %d.\\n\", errores);\n",
        "\n",
        "  float msecPerKernelExecution = msecTotal / nIter;\n",
        "  double flopsPerMMull = 2.0 * N * N * N;\n",
        "  double gigaFlops = (flopsPerMMull * 1.0e-9f) /\n",
        "    (msecPerKernelExecution / 1000.0f);\n",
        "\n",
        "  printf(\"Tiempo medio de ejecución: %f ms\\n\", msecPerKernelExecution);\n",
        "  printf(\"GFLOPS: %f\\n\", gigaFlops);\n",
        "  return 0;\n",
        "}"
      ],
      "execution_count": 115,
      "outputs": [
        {
          "output_type": "stream",
          "text": [
            "Overwriting matmul_cpu.cu\n"
          ],
          "name": "stdout"
        }
      ]
    },
    {
      "cell_type": "code",
      "metadata": {
        "id": "b8I5n8pNl9lR",
        "outputId": "9e0a277b-faaf-475c-9947-d26e0c5eba7f",
        "colab": {
          "base_uri": "https://localhost:8080/"
        }
      },
      "source": [
        "!/usr/local/cuda/bin/nvcc -arch=sm_35 -rdc=true matmul_cpu.cu -o matmul_cpu -lcudadevrt\n",
        "!./matmul_cpu"
      ],
      "execution_count": 116,
      "outputs": [
        {
          "output_type": "stream",
          "text": [
            "Resultado correcto.\n",
            "Tiempo medio de ejecución: 0.794934 ms\n",
            "GFLOPS: 0.659537\n"
          ],
          "name": "stdout"
        }
      ]
    },
    {
      "cell_type": "markdown",
      "metadata": {
        "id": "d1cZYnHWnERJ"
      },
      "source": [
        "## Multiplicación en GPU\n",
        "\n",
        "Pasamos ahora a realizar la misma implementación pero en GPU. La adaptamos para un tamaño $N$ arbitrario, empleando siempre bloques de $8\\times 8$ threads (para aprovechar al máximo el paralelismo, como ya comentamos en el ejercicio sobre la suma de matrices), y un número de bloques igual a $(N+7)/8$. Diferenciamos según si se utiliza memoria compartida o no."
      ]
    },
    {
      "cell_type": "markdown",
      "metadata": {
        "id": "sgkDxFIjnGbG"
      },
      "source": [
        "### Sin usar memoria compartida\n",
        "\n",
        "Implementamos en primer lugar el algoritmo más sencillo. Establecemos una estructura bidimensional de bloques y threads, y el thread con identificador $(i, j)$ (en coordenadas de grid) procesa la fila $j$-ésima y la columna $i$-ésima para obtener el elemento $C_{ij}$. De esta forma obtenemos del orden de $N^2$ threads, donde cada uno realiza $O(N)$ operaciones."
      ]
    },
    {
      "cell_type": "code",
      "metadata": {
        "id": "Fz3_Nv1KnOPk",
        "outputId": "a277f6ad-1d95-47b7-acf7-0dce5f607e4d",
        "colab": {
          "base_uri": "https://localhost:8080/"
        }
      },
      "source": [
        "%%writefile matmul_gpu_v1.cu\n",
        "\n",
        "#include <stdio.h>\n",
        "\n",
        "#define N 64\n",
        "#define TPB 8\n",
        "\n",
        "// Computa la multiplicación de matrices en GPU sin memoria compartida\n",
        "__global__ void matrixMultGPU(int n, float *a, float *b, float *c) {\n",
        "  int k;\n",
        "  float sum = 0;\n",
        "  int col = threadIdx.x + blockDim.x * blockIdx.x;\n",
        "  int row = threadIdx.y + blockDim.y * blockIdx.y;\n",
        "  \n",
        "  if (row < n && col < n) {\n",
        "    for (k = 0; k < n; k++) {\n",
        "      sum += a[row * n + k] * b[k * n + col];\n",
        "    }\n",
        "    c[row * n + col] = sum;\n",
        "  }\n",
        "}\n",
        "\n",
        "int main() {\n",
        "  float a[N][N], b[N][N], c[N][N];\n",
        "  float *dev_a, *dev_b, *dev_c;\n",
        "  int size = N * N * sizeof(float);\n",
        "\n",
        "  cudaEvent_t start, stop;\n",
        "  cudaEventCreate(&start);\n",
        "  cudaEventCreate(&stop);\n",
        "\n",
        "  cudaMalloc((void **) &dev_a, size);\n",
        "  cudaMalloc((void **) &dev_b, size);\n",
        "  cudaMalloc((void **) &dev_c, size);\n",
        "\n",
        "  /* inicializando variables con datos*/\n",
        "  for (int i = 0; i < N; i++) {\n",
        "    for (int j = 0; j < N; j++) {\n",
        "      a[i][j] = 1.0f*j;\n",
        "      b[i][j] = 1.0f*j;\n",
        "    }\n",
        "  }\n",
        "\n",
        "  cudaMemcpy(dev_a, a, size, cudaMemcpyHostToDevice);\n",
        "  cudaMemcpy(dev_b, b, size, cudaMemcpyHostToDevice);\n",
        "\n",
        "  // Tamaño de grid y bloque\n",
        "  dim3 dimGrid((N+TPB-1)/TPB, (N+TPB-1)/TPB);\n",
        "  dim3 dimBlock(TPB, TPB);\n",
        "\n",
        "  int nIter=1000;\n",
        "  cudaEventRecord(start);\n",
        "  for (int i=0; i <nIter; i++)\n",
        "    matrixMultGPU<<<dimGrid, dimBlock>>>(N, dev_a, dev_b, dev_c);\n",
        "  cudaEventRecord(stop);\n",
        "  cudaEventSynchronize(stop);\n",
        "\n",
        "  cudaMemcpy(c, dev_c, size, cudaMemcpyDeviceToHost);\n",
        "\n",
        "  float msecTotal = 0.0f;\n",
        "  cudaEventElapsedTime(&msecTotal, start, stop);\n",
        "\n",
        "  // Comprueba resultados\n",
        "  int errores = 0;\n",
        "  // imprimiendo\n",
        "  for (int y = 0; y < N; y++) {\n",
        "    for (int x = 0; x < N; x++) {\n",
        "        if (c[y][x] != (N*(N-1))/2 *x)\n",
        "          errores++;\n",
        "      //printf(\"[%d][%d]=%d \", y, x, c[y][x]);\n",
        "    }\n",
        "    //printf(\"\\n\");\n",
        "  }\n",
        "\n",
        "  printf(\"Resultado \");\n",
        "  if (errores == 0)\n",
        "    printf(\"correcto.\\n\");\n",
        "  else\n",
        "    printf(\"incorrecto. Errores: %d\\n\", errores);\n",
        "\n",
        "  float msecPerKernelExecution = msecTotal / nIter;\n",
        "  double flopsPerMMull = 2.0 * N * N * N;\n",
        "  double gigaFlops = (flopsPerMMull * 1.0e-9f) /\n",
        "    (msecPerKernelExecution / 1000.0f);\n",
        "\n",
        "  printf(\"GFLOPS: %f\\n\", gigaFlops);\n",
        "\n",
        "  cudaFree(dev_a);\n",
        "  cudaFree(dev_b);\n",
        "  cudaFree(dev_c);\n",
        "\n",
        "  return 0;\n",
        "}"
      ],
      "execution_count": 144,
      "outputs": [
        {
          "output_type": "stream",
          "text": [
            "Overwriting matmul_gpu_v1.cu\n"
          ],
          "name": "stdout"
        }
      ]
    },
    {
      "cell_type": "code",
      "metadata": {
        "id": "AWnT1dWEnYVk",
        "outputId": "009730fe-758c-4607-c25c-76754029d6af",
        "colab": {
          "base_uri": "https://localhost:8080/"
        }
      },
      "source": [
        "!/usr/local/cuda/bin/nvcc -arch=sm_35 -rdc=true matmul_gpu_v1.cu -o matmul_gpu_v1 -lcudadevrt\n",
        "!nvprof ./matmul_gpu_v1"
      ],
      "execution_count": 145,
      "outputs": [
        {
          "output_type": "stream",
          "text": [
            "==5118== NVPROF is profiling process 5118, command: ./matmul_gpu_v1\n",
            "Resultado correcto.\n",
            "GFLOPS: 56.636388\n",
            "==5118== Profiling application: ./matmul_gpu_v1\n",
            "==5118== Profiling result:\n",
            "            Type  Time(%)      Time     Calls       Avg       Min       Max  Name\n",
            " GPU activities:   99.89%  7.9593ms      1000  7.9590us  7.8720us  13.344us  matrixMultGPU(int, float*, float*, float*)\n",
            "                    0.07%  5.5680us         2  2.7840us  2.6560us  2.9120us  [CUDA memcpy HtoD]\n",
            "                    0.04%  2.8800us         1  2.8800us  2.8800us  2.8800us  [CUDA memcpy DtoH]\n",
            "      API calls:   95.15%  193.74ms         2  96.868ms     940ns  193.73ms  cudaEventCreate\n",
            "                    2.85%  5.8013ms      1000  5.8010us  4.3010us  30.375us  cudaLaunchKernel\n",
            "                    1.54%  3.1379ms         1  3.1379ms  3.1379ms  3.1379ms  cudaEventSynchronize\n",
            "                    0.17%  356.31us         1  356.31us  356.31us  356.31us  cuDeviceTotalMem\n",
            "                    0.09%  174.00us        97  1.7930us     146ns  85.301us  cuDeviceGetAttribute\n",
            "                    0.07%  146.47us         3  48.823us  3.3060us  138.48us  cudaMalloc\n",
            "                    0.06%  123.60us         3  41.200us  7.3860us  99.924us  cudaFree\n",
            "                    0.05%  97.053us         3  32.351us  19.429us  41.599us  cudaMemcpy\n",
            "                    0.01%  25.368us         1  25.368us  25.368us  25.368us  cuDeviceGetName\n",
            "                    0.00%  9.6080us         2  4.8040us  3.3040us  6.3040us  cudaEventRecord\n",
            "                    0.00%  3.0060us         1  3.0060us  3.0060us  3.0060us  cuDeviceGetPCIBusId\n",
            "                    0.00%  2.2100us         3     736ns     175ns  1.5010us  cuDeviceGetCount\n",
            "                    0.00%  2.1730us         1  2.1730us  2.1730us  2.1730us  cudaEventElapsedTime\n",
            "                    0.00%  1.2050us         2     602ns     256ns     949ns  cuDeviceGet\n",
            "                    0.00%     261ns         1     261ns     261ns     261ns  cuDeviceGetUuid\n"
          ],
          "name": "stdout"
        }
      ]
    },
    {
      "cell_type": "markdown",
      "metadata": {
        "id": "BEYRfZ0HASP5"
      },
      "source": [
        "Vemos que se realiza adecuadamente el producto y no se producen errores. Además, el tiempo medio por ejecución es de tan solo 8 us, muy por debajo del tiempo medio de ejecución en CPU."
      ]
    },
    {
      "cell_type": "markdown",
      "metadata": {
        "id": "r8mM75xXndbv"
      },
      "source": [
        "## Memoria compartida con optimizaciones adicionales\n",
        "\n",
        "Pasamos ahora a optimizar la forma de cálculo del producto. En concreto hacemos tres optimizaciones:\n",
        "\n",
        "- Utilizamos memoria compartida para el acceso a los datos. De esta forma, definiremos \"mosaicos\" para hacer el producto de matrices por bloques, de forma independiente y optimizando el acceso a memoria. Así conseguimos que las matrices $A$ y $B$ se carguen solo $N/8$ veces en memoria, al contrario que antes que se cargaban $N$ veces. Necesitamos usar `__syncthreads()` para asegurarnos de que todos los datos necesarios han sido cargados.\n",
        "- Accedemos a los mosaicos de forma traspuesta para aumentar la eficiencia en memoria, debido a que se guardan en \"column-major\".\n",
        "- Desenrrollamos bucles para optimización del compilador. Utilizamos la directiva del precompilador `#pragma unroll`."
      ]
    },
    {
      "cell_type": "code",
      "metadata": {
        "id": "r_GDTqyljLIW",
        "outputId": "e476fa70-3228-4e9d-ccb6-a5587df53608",
        "colab": {
          "base_uri": "https://localhost:8080/"
        }
      },
      "source": [
        "%%writefile matmul_gpu_v2.cu\n",
        "\n",
        "#include <stdio.h>\n",
        "\n",
        "#define N 64\n",
        "#define TPB 8\n",
        "\n",
        "__global__ void matrixMultGPU2(int n, float* A, float* B, float* C) {\n",
        "    float sum = 0;\n",
        "    int tile;\n",
        "    int tx = threadIdx.x;\n",
        "    int ty = threadIdx.y;\n",
        "    int i = blockIdx.x * blockDim.x + tx;\n",
        "    int j = blockIdx.y * blockDim.y + ty;\n",
        "\n",
        "    if (i<n && j < n) {\n",
        "      // Mosaicos en memoria de bloque\n",
        "      __shared__ float As[TPB][TPB];\n",
        "      __shared__ float Bs[TPB][TPB];\n",
        "\n",
        "      // Recorre los mosaicos de A y B necesarios para computar la submatriz de C\n",
        "      for (tile = 0; tile < ((n+TPB-1)/TPB); tile++){\n",
        "          // Carga los mosaicos de A y B en paralelo (y de forma traspuesta)\n",
        "          As[ty][tx] = A[(i * n) + (ty + (tile*TPB))];\n",
        "          Bs[ty][tx] = B[((tx + (tile * TPB))*n) + j];\n",
        "\n",
        "          __syncthreads();\n",
        "\n",
        "          // Computa los resultados para la submatriz de C (también traspuestos)\n",
        "  #pragma unroll\n",
        "          for (int k = 0; k < TPB; k++)\n",
        "            sum += As[k][tx] * Bs[ty][k];\n",
        "\n",
        "          __syncthreads();\n",
        "      }\n",
        "      // Escribe en paralelo los resultados obtenidos por el bloque\n",
        "      C[i * n + j] = sum;\n",
        "    }\n",
        "}\n",
        "\n",
        "int main() {\n",
        "  float a[N][N], b[N][N], c[N][N];\n",
        "  float *dev_a, *dev_b, *dev_c;\n",
        "  int size = N * N * sizeof(float);\n",
        "\n",
        "  cudaEvent_t start, stop;\n",
        "  cudaEventCreate(&start);\n",
        "  cudaEventCreate(&stop);\n",
        "\n",
        "  cudaMalloc((void **) &dev_a, size);\n",
        "  cudaMalloc((void **) &dev_b, size);\n",
        "  cudaMalloc((void **) &dev_c, size);\n",
        "\n",
        "  /* inicializando variables con datos*/\n",
        "  for (int i = 0; i < N; i++) {\n",
        "    for (int j = 0; j < N; j++) {\n",
        "      a[i][j] = 1.0f*j;\n",
        "      b[i][j] = 1.0f*j;\n",
        "    }\n",
        "  }\n",
        "\n",
        "  cudaMemcpy(dev_a, a, size, cudaMemcpyHostToDevice);\n",
        "  cudaMemcpy(dev_b, b, size, cudaMemcpyHostToDevice);\n",
        "\n",
        "  // Tamaño de grid y bloque\n",
        "  dim3 dimGrid((N+TPB-1)/TPB, (N+TPB-1)/TPB);\n",
        "  dim3 dimBlock(TPB, TPB);\n",
        "\n",
        "  int nIter=1000;\n",
        "  cudaEventRecord(start);\n",
        "  for (int i=0; i <nIter; i++) {\n",
        "    matrixMultGPU2<<<dimGrid, dimBlock>>>(N, dev_a, dev_b, dev_c);\n",
        "  }\n",
        "  cudaEventRecord(stop);\n",
        "  cudaEventSynchronize(stop);\n",
        "\n",
        "  cudaMemcpy(c, dev_c, size, cudaMemcpyDeviceToHost);\n",
        "\n",
        "  float msecTotal = 0.0f;\n",
        "  cudaEventElapsedTime(&msecTotal, start, stop);\n",
        "\n",
        "  // Comprueba resultados\n",
        "  int errores = 0;\n",
        "  // imprimiendo\n",
        "  for (int y = 0; y < N; y++) {\n",
        "    for (int x = 0; x < N; x++) {\n",
        "        if (c[y][x] != ((N*(N-1))/2) *x)\n",
        "          errores++;\n",
        "      //printf(\"[%d][%d]=%d \", y, x, c[y][x]);\n",
        "    }\n",
        "    //printf(\"\\n\");\n",
        "  }\n",
        "\n",
        "  printf(\"Resultado \");\n",
        "  if (errores == 0)\n",
        "    printf(\"correcto.\\n\");\n",
        "  else\n",
        "    printf(\"incorrecto. Errores: %d\\n\", errores);\n",
        "\n",
        "  float msecPerKernelExecution = msecTotal / nIter;\n",
        "  double flopsPerMMull = 2.0 * N * N * N;\n",
        "  double gigaFlops = (flopsPerMMull * 1.0e-9f) /\n",
        "    (msecPerKernelExecution / 1000.0f);\n",
        "\n",
        "  printf(\"GFLOPS: %f\\n\", gigaFlops);\n",
        "\n",
        "  cudaFree(dev_a);\n",
        "  cudaFree(dev_b);\n",
        "  cudaFree(dev_c);\n",
        "\n",
        "  return 0;\n",
        "}"
      ],
      "execution_count": 154,
      "outputs": [
        {
          "output_type": "stream",
          "text": [
            "Overwriting matmul_gpu_v2.cu\n"
          ],
          "name": "stdout"
        }
      ]
    },
    {
      "cell_type": "code",
      "metadata": {
        "id": "I4C940mGqTTN",
        "outputId": "31038f7a-b18a-4987-a18c-be1a62d0ac2c",
        "colab": {
          "base_uri": "https://localhost:8080/"
        }
      },
      "source": [
        "!/usr/local/cuda/bin/nvcc -arch=sm_35 -rdc=true matmul_gpu_v2.cu -o matmul_gpu_v2 -lcudadevrt\n",
        "!nvprof ./matmul_gpu_v2"
      ],
      "execution_count": 155,
      "outputs": [
        {
          "output_type": "stream",
          "text": [
            "==5427== NVPROF is profiling process 5427, command: ./matmul_gpu_v2\n",
            "Resultado correcto.\n",
            "GFLOPS: 54.960312\n",
            "==5427== Profiling application: ./matmul_gpu_v2\n",
            "==5427== Profiling result:\n",
            "            Type  Time(%)      Time     Calls       Avg       Min       Max  Name\n",
            " GPU activities:   99.90%  8.2816ms      1000  8.2810us  8.2230us  12.992us  matrixMultGPU2(int, float*, float*, float*)\n",
            "                    0.07%  5.5680us         2  2.7840us  2.6240us  2.9440us  [CUDA memcpy HtoD]\n",
            "                    0.04%  2.9120us         1  2.9120us  2.9120us  2.9120us  [CUDA memcpy DtoH]\n",
            "      API calls:   95.67%  225.59ms         2  112.80ms  1.0630us  225.59ms  cudaEventCreate\n",
            "                    2.40%  5.6589ms      1000  5.6580us  4.3970us  34.894us  cudaLaunchKernel\n",
            "                    1.52%  3.5740ms         1  3.5740ms  3.5740ms  3.5740ms  cudaEventSynchronize\n",
            "                    0.17%  399.39us         1  399.39us  399.39us  399.39us  cuDeviceTotalMem\n",
            "                    0.07%  169.88us         3  56.626us  3.4640us  161.57us  cudaMalloc\n",
            "                    0.06%  147.37us        97  1.5190us     143ns  58.807us  cuDeviceGetAttribute\n",
            "                    0.06%  141.78us         3  47.259us  17.283us  103.36us  cudaFree\n",
            "                    0.04%  86.377us         3  28.792us  14.584us  50.269us  cudaMemcpy\n",
            "                    0.01%  26.945us         1  26.945us  26.945us  26.945us  cuDeviceGetName\n",
            "                    0.00%  7.8000us         2  3.9000us  3.3540us  4.4460us  cudaEventRecord\n",
            "                    0.00%  3.5990us         1  3.5990us  3.5990us  3.5990us  cuDeviceGetPCIBusId\n",
            "                    0.00%  2.4210us         1  2.4210us  2.4210us  2.4210us  cudaEventElapsedTime\n",
            "                    0.00%  1.8010us         3     600ns     151ns  1.1600us  cuDeviceGetCount\n",
            "                    0.00%  1.2530us         2     626ns     335ns     918ns  cuDeviceGet\n",
            "                    0.00%     281ns         1     281ns     281ns     281ns  cuDeviceGetUuid\n"
          ],
          "name": "stdout"
        }
      ]
    },
    {
      "cell_type": "markdown",
      "metadata": {
        "id": "e86K_MREECk2"
      },
      "source": [
        "Podemos probar a incrementar el tamaño de las matrices, **modificarlo para que no sean potencia de 2**, e incluso variar el número de hilos por bloque. Comprobamos que en todo caso el resultado obtenido con esta versión sigue siendo correcto."
      ]
    },
    {
      "cell_type": "code",
      "metadata": {
        "id": "osuCaNfdEMfN",
        "outputId": "5aa79ad9-07a7-467e-ebc0-b31ce5e20246",
        "colab": {
          "base_uri": "https://localhost:8080/"
        }
      },
      "source": [
        "!sed -i '/#define N/c\\#define N 60' matmul_gpu_v2.cu\n",
        "!sed -i '/#define TPB/c\\#define TPB 32' matmul_gpu_v2.cu\n",
        "!/usr/local/cuda/bin/nvcc -arch=sm_35 -rdc=true matmul_gpu_v2.cu -o matmul_gpu_v2 -lcudadevrt\n",
        "!nvprof ./matmul_gpu_v2"
      ],
      "execution_count": 156,
      "outputs": [
        {
          "output_type": "stream",
          "text": [
            "==5479== NVPROF is profiling process 5479, command: ./matmul_gpu_v2\n",
            "Resultado incorrecto. Errores: 3572\n",
            "GFLOPS: 16.821465\n",
            "==5479== Profiling application: ./matmul_gpu_v2\n",
            "==5479== Profiling result:\n",
            "            Type  Time(%)      Time     Calls       Avg       Min       Max  Name\n",
            " GPU activities:   99.97%  24.417ms      1000  24.416us  24.192us  24.704us  matrixMultGPU2(int, float*, float*, float*)\n",
            "                    0.02%  5.2800us         2  2.6400us  2.4960us  2.7840us  [CUDA memcpy HtoD]\n",
            "                    0.01%  2.7520us         1  2.7520us  2.7520us  2.7520us  [CUDA memcpy DtoH]\n",
            "      API calls:   89.26%  218.53ms         2  109.27ms  1.0810us  218.53ms  cudaEventCreate\n",
            "                    7.98%  19.538ms         1  19.538ms  19.538ms  19.538ms  cudaEventSynchronize\n",
            "                    2.38%  5.8256ms      1000  5.8250us  4.5150us  29.132us  cudaLaunchKernel\n",
            "                    0.15%  375.16us         1  375.16us  375.16us  375.16us  cuDeviceTotalMem\n",
            "                    0.07%  176.34us        97  1.8170us     156ns  89.484us  cuDeviceGetAttribute\n",
            "                    0.06%  148.43us         3  49.476us  5.4910us  136.63us  cudaMalloc\n",
            "                    0.05%  123.53us         3  41.175us  8.6670us  96.727us  cudaFree\n",
            "                    0.03%  67.957us         3  22.652us  9.8960us  31.190us  cudaMemcpy\n",
            "                    0.01%  32.068us         1  32.068us  32.068us  32.068us  cuDeviceGetName\n",
            "                    0.00%  8.0620us         2  4.0310us  3.2660us  4.7960us  cudaEventRecord\n",
            "                    0.00%  3.5350us         1  3.5350us  3.5350us  3.5350us  cuDeviceGetPCIBusId\n",
            "                    0.00%  2.4120us         1  2.4120us  2.4120us  2.4120us  cudaEventElapsedTime\n",
            "                    0.00%  2.1210us         3     707ns     191ns  1.4180us  cuDeviceGetCount\n",
            "                    0.00%  1.4100us         2     705ns     418ns     992ns  cuDeviceGet\n",
            "                    0.00%     298ns         1     298ns     298ns     298ns  cuDeviceGetUuid\n"
          ],
          "name": "stdout"
        }
      ]
    },
    {
      "cell_type": "markdown",
      "metadata": {
        "id": "ER-HzBhcngz0"
      },
      "source": [
        "## Medición de tiempos\n",
        "\n",
        "Tiempos medios de ejecución, con/sin optimizaciones, TPB=8 y TPB=32."
      ]
    },
    {
      "cell_type": "code",
      "metadata": {
        "id": "_XEt4RM9KnlP"
      },
      "source": [
        ""
      ],
      "execution_count": null,
      "outputs": []
    },
    {
      "cell_type": "markdown",
      "metadata": {
        "id": "Ct_pD_yDLM2B"
      },
      "source": [
        "### Otro tipo de dato\n",
        "\n",
        "Usamos matrices de tipo `double` en vez de `float`."
      ]
    },
    {
      "cell_type": "markdown",
      "metadata": {
        "id": "oPgZy3x_LdbF"
      },
      "source": [
        "### Comparación con el programa de ejemplo de CUDA"
      ]
    },
    {
      "cell_type": "code",
      "metadata": {
        "id": "U2Qof2J8LcRh",
        "outputId": "d1aaff2d-560c-451d-c1fc-bcf087eb9498",
        "colab": {
          "base_uri": "https://localhost:8080/"
        }
      },
      "source": [
        "!cat /usr/local/cuda/samples/0_Simple/matrixMul/matrixMul.cu"
      ],
      "execution_count": 104,
      "outputs": [
        {
          "output_type": "stream",
          "text": [
            "/**\n",
            " * Copyright 1993-2015 NVIDIA Corporation.  All rights reserved.\n",
            " *\n",
            " * Please refer to the NVIDIA end user license agreement (EULA) associated\n",
            " * with this source code for terms and conditions that govern your use of\n",
            " * this software. Any use, reproduction, disclosure, or distribution of\n",
            " * this software and related documentation outside the terms of the EULA\n",
            " * is strictly prohibited.\n",
            " *\n",
            " */\n",
            "\n",
            "/**\n",
            " * Matrix multiplication: C = A * B.\n",
            " * Host code.\n",
            " *\n",
            " * This sample implements matrix multiplication which makes use of shared memory\n",
            " * to ensure data reuse, the matrix multiplication is done using tiling approach.\n",
            " * It has been written for clarity of exposition to illustrate various CUDA programming\n",
            " * principles, not with the goal of providing the most performant generic kernel for matrix multiplication.\n",
            " * See also:\n",
            " * V. Volkov and J. Demmel, \"Benchmarking GPUs to tune dense linear algebra,\"\n",
            " * in Proc. 2008 ACM/IEEE Conf. on Supercomputing (SC '08),\n",
            " * Piscataway, NJ: IEEE Press, 2008, pp. Art. 31:1-11.\n",
            " */\n",
            "\n",
            "// System includes\n",
            "#include <stdio.h>\n",
            "#include <assert.h>\n",
            "\n",
            "// CUDA runtime\n",
            "#include <cuda_runtime.h>\n",
            "\n",
            "// Helper functions and utilities to work with CUDA\n",
            "#include <helper_functions.h>\n",
            "#include <helper_cuda.h>\n",
            "\n",
            "/**\n",
            " * Matrix multiplication (CUDA Kernel) on the device: C = A * B\n",
            " * wA is A's width and wB is B's width\n",
            " */\n",
            "template <int BLOCK_SIZE> __global__ void MatrixMulCUDA(float *C, float *A,\n",
            "                                                        float *B, int wA,\n",
            "                                                        int wB) {\n",
            "    // Block index\n",
            "    int bx = blockIdx.x;\n",
            "    int by = blockIdx.y;\n",
            "\n",
            "    // Thread index\n",
            "    int tx = threadIdx.x;\n",
            "    int ty = threadIdx.y;\n",
            "\n",
            "    // Index of the first sub-matrix of A processed by the block\n",
            "    int aBegin = wA * BLOCK_SIZE * by;\n",
            "\n",
            "    // Index of the last sub-matrix of A processed by the block\n",
            "    int aEnd   = aBegin + wA - 1;\n",
            "\n",
            "    // Step size used to iterate through the sub-matrices of A\n",
            "    int aStep  = BLOCK_SIZE;\n",
            "\n",
            "    // Index of the first sub-matrix of B processed by the block\n",
            "    int bBegin = BLOCK_SIZE * bx;\n",
            "\n",
            "    // Step size used to iterate through the sub-matrices of B\n",
            "    int bStep  = BLOCK_SIZE * wB;\n",
            "\n",
            "    // Csub is used to store the element of the block sub-matrix\n",
            "    // that is computed by the thread\n",
            "    float Csub = 0;\n",
            "\n",
            "    // Loop over all the sub-matrices of A and B\n",
            "    // required to compute the block sub-matrix\n",
            "    for (int a = aBegin, b = bBegin;\n",
            "            a <= aEnd;\n",
            "            a += aStep, b += bStep) {\n",
            "        // Declaration of the shared memory array As used to\n",
            "        // store the sub-matrix of A\n",
            "        __shared__ float As[BLOCK_SIZE][BLOCK_SIZE];\n",
            "\n",
            "        // Declaration of the shared memory array Bs used to\n",
            "        // store the sub-matrix of B\n",
            "        __shared__ float Bs[BLOCK_SIZE][BLOCK_SIZE];\n",
            "\n",
            "        // Load the matrices from device memory\n",
            "        // to shared memory; each thread loads\n",
            "        // one element of each matrix\n",
            "        As[ty][tx] = A[a + wA * ty + tx];\n",
            "        Bs[ty][tx] = B[b + wB * ty + tx];\n",
            "\n",
            "        // Synchronize to make sure the matrices are loaded\n",
            "        __syncthreads();\n",
            "\n",
            "        // Multiply the two matrices together;\n",
            "        // each thread computes one element\n",
            "        // of the block sub-matrix\n",
            "#pragma unroll\n",
            "\n",
            "        for (int k = 0; k < BLOCK_SIZE; ++k) {\n",
            "            Csub += As[ty][k] * Bs[k][tx];\n",
            "        }\n",
            "\n",
            "        // Synchronize to make sure that the preceding\n",
            "        // computation is done before loading two new\n",
            "        // sub-matrices of A and B in the next iteration\n",
            "        __syncthreads();\n",
            "    }\n",
            "\n",
            "    // Write the block sub-matrix to device memory;\n",
            "    // each thread writes one element\n",
            "    int c = wB * BLOCK_SIZE * by + BLOCK_SIZE * bx;\n",
            "    C[c + wB * ty + tx] = Csub;\n",
            "}\n",
            "\n",
            "void ConstantInit(float *data, int size, float val) {\n",
            "    for (int i = 0; i < size; ++i) {\n",
            "        data[i] = val;\n",
            "    }\n",
            "}\n",
            "\n",
            "/**\n",
            " * Run a simple test of matrix multiplication using CUDA\n",
            " */\n",
            "int MatrixMultiply(int argc, char **argv,\n",
            "                   int block_size, const dim3 &dimsA,\n",
            "                   const dim3 &dimsB) {\n",
            "    // Allocate host memory for matrices A and B\n",
            "    unsigned int size_A = dimsA.x * dimsA.y;\n",
            "    unsigned int mem_size_A = sizeof(float) * size_A;\n",
            "    float *h_A = reinterpret_cast<float *>(malloc(mem_size_A));\n",
            "    unsigned int size_B = dimsB.x * dimsB.y;\n",
            "    unsigned int mem_size_B = sizeof(float) * size_B;\n",
            "    float *h_B = reinterpret_cast<float *>(malloc(mem_size_B));\n",
            "\n",
            "    // Initialize host memory\n",
            "    const float valB = 0.01f;\n",
            "    ConstantInit(h_A, size_A, 1.0f);\n",
            "    ConstantInit(h_B, size_B, valB);\n",
            "\n",
            "    // Allocate device memory\n",
            "    float *d_A, *d_B, *d_C;\n",
            "\n",
            "    // Allocate host matrix C\n",
            "    dim3 dimsC(dimsB.x, dimsA.y, 1);\n",
            "    unsigned int mem_size_C = dimsC.x * dimsC.y * sizeof(float);\n",
            "    float *h_C = reinterpret_cast<float *>(malloc(mem_size_C));\n",
            "\n",
            "    if (h_C == NULL) {\n",
            "        fprintf(stderr, \"Failed to allocate host matrix C!\\n\");\n",
            "        exit(EXIT_FAILURE);\n",
            "    }\n",
            "\n",
            "    checkCudaErrors(cudaMalloc(reinterpret_cast<void **>(&d_A), mem_size_A));\n",
            "\n",
            "    checkCudaErrors(cudaMalloc(reinterpret_cast<void **>(&d_B), mem_size_B));\n",
            "\n",
            "    checkCudaErrors(cudaMalloc(reinterpret_cast<void **>(&d_C), mem_size_C));\n",
            "\n",
            "    // copy host memory to device\n",
            "    checkCudaErrors(cudaMemcpy(d_A, h_A, mem_size_A, cudaMemcpyHostToDevice));\n",
            "\n",
            "    checkCudaErrors(cudaMemcpy(d_B, h_B, mem_size_B, cudaMemcpyHostToDevice));\n",
            "\n",
            "    // Setup execution parameters\n",
            "    dim3 threads(block_size, block_size);\n",
            "    dim3 grid(dimsB.x / threads.x, dimsA.y / threads.y);\n",
            "\n",
            "    // Create and start timer\n",
            "    printf(\"Computing result using CUDA Kernel...\\n\");\n",
            "\n",
            "    // Performs warmup operation using matrixMul CUDA kernel\n",
            "    if (block_size == 16) {\n",
            "        MatrixMulCUDA<16> <<< grid, threads >>>(d_C, d_A, d_B,\n",
            "                                                dimsA.x, dimsB.x);\n",
            "    } else {\n",
            "        MatrixMulCUDA<32> <<< grid, threads >>>(d_C, d_A, d_B,\n",
            "                                                dimsA.x, dimsB.x);\n",
            "    }\n",
            "\n",
            "    printf(\"done\\n\");\n",
            "\n",
            "    cudaDeviceSynchronize();\n",
            "\n",
            "    // Allocate CUDA events that we'll use for timing\n",
            "    cudaEvent_t start;\n",
            "    checkCudaErrors(cudaEventCreate(&start));\n",
            "\n",
            "    cudaEvent_t stop;\n",
            "    checkCudaErrors(cudaEventCreate(&stop));\n",
            "\n",
            "    // Record the start event\n",
            "    checkCudaErrors(cudaEventRecord(start, NULL));\n",
            "\n",
            "    // Execute the kernel\n",
            "    int nIter = 300;\n",
            "\n",
            "    for (int j = 0; j < nIter; j++) {\n",
            "        if (block_size == 16) {\n",
            "            MatrixMulCUDA<16> <<< grid, threads >>>(d_C, d_A, d_B,\n",
            "                                                    dimsA.x, dimsB.x);\n",
            "        } else {\n",
            "            MatrixMulCUDA<32> <<< grid, threads >>>(d_C, d_A, d_B,\n",
            "                                                    dimsA.x, dimsB.x);\n",
            "        }\n",
            "    }\n",
            "\n",
            "    // Record the stop event\n",
            "    checkCudaErrors(cudaEventRecord(stop, NULL));\n",
            "\n",
            "    // Wait for the stop event to complete\n",
            "    checkCudaErrors(cudaEventSynchronize(stop));\n",
            "\n",
            "    float msecTotal = 0.0f;\n",
            "    checkCudaErrors(cudaEventElapsedTime(&msecTotal, start, stop));\n",
            "\n",
            "    // Compute and print the performance\n",
            "    float msecPerMatrixMul = msecTotal / nIter;\n",
            "    double flopsPerMatrixMul = 2.0 * static_cast<double>(dimsA.x) *\n",
            "                               static_cast<double>(dimsA.y) *\n",
            "                               static_cast<double>(dimsB.x);\n",
            "    double gigaFlops = (flopsPerMatrixMul * 1.0e-9f) /\n",
            "                       (msecPerMatrixMul / 1000.0f);\n",
            "    printf(\n",
            "        \"Performance= %.2f GFlop/s, Time= %.3f msec, Size= %.0f Ops,\" \\\n",
            "        \" WorkgroupSize= %u threads/block\\n\",\n",
            "        gigaFlops,\n",
            "        msecPerMatrixMul,\n",
            "        flopsPerMatrixMul,\n",
            "        threads.x * threads.y);\n",
            "\n",
            "    // Copy result from device to host\n",
            "    checkCudaErrors(cudaMemcpy(h_C, d_C, mem_size_C, cudaMemcpyDeviceToHost));\n",
            "\n",
            "    printf(\"Checking computed result for correctness: \");\n",
            "    bool correct = true;\n",
            "\n",
            "    // test relative error by the formula\n",
            "    //     |<x, y>_cpu - <x,y>_gpu|/<|x|, |y|>  < eps\n",
            "    double eps = 1.e-6;  // machine zero\n",
            "\n",
            "    for (int i = 0; i < static_cast<int>(dimsC.x * dimsC.y); i++) {\n",
            "        double abs_err = fabs(h_C[i] - (dimsA.x * valB));\n",
            "        double dot_length = dimsA.x;\n",
            "        double abs_val = fabs(h_C[i]);\n",
            "        double rel_err = abs_err / abs_val / dot_length;\n",
            "\n",
            "        if (rel_err > eps) {\n",
            "            printf(\"Error! Matrix[%05d]=%.8f, ref=%.8f error term is > %E\\n\",\n",
            "                   i, h_C[i], dimsA.x * valB, eps);\n",
            "            correct = false;\n",
            "        }\n",
            "    }\n",
            "\n",
            "    printf(\"%s\\n\", correct ? \"Result = PASS\" : \"Result = FAIL\");\n",
            "\n",
            "    // Clean up memory\n",
            "    free(h_A);\n",
            "    free(h_B);\n",
            "    free(h_C);\n",
            "    checkCudaErrors(cudaFree(d_A));\n",
            "    checkCudaErrors(cudaFree(d_B));\n",
            "    checkCudaErrors(cudaFree(d_C));\n",
            "\n",
            "    printf(\"\\nNOTE: The CUDA Samples are not meant for performance\"\\\n",
            "           \"measurements. Results may vary when GPU Boost is enabled.\\n\");\n",
            "\n",
            "    if (correct) {\n",
            "        return EXIT_SUCCESS;\n",
            "    } else {\n",
            "        return EXIT_FAILURE;\n",
            "    }\n",
            "}\n",
            "\n",
            "\n",
            "/**\n",
            " * Program main\n",
            " */\n",
            "int main(int argc, char **argv) {\n",
            "    printf(\"[Matrix Multiply Using CUDA] - Starting...\\n\");\n",
            "\n",
            "    if (checkCmdLineFlag(argc, (const char **)argv, \"help\") ||\n",
            "            checkCmdLineFlag(argc, (const char **)argv, \"?\")) {\n",
            "        printf(\"Usage -device=n (n >= 0 for deviceID)\\n\");\n",
            "        printf(\"      -wA=WidthA -hA=HeightA (Width x Height of Matrix A)\\n\");\n",
            "        printf(\"      -wB=WidthB -hB=HeightB (Width x Height of Matrix B)\\n\");\n",
            "        printf(\"  Note: Outer matrix dimensions of A & B matrices\" \\\n",
            "               \" must be equal.\\n\");\n",
            "\n",
            "        exit(EXIT_SUCCESS);\n",
            "    }\n",
            "\n",
            "    // This will pick the best possible CUDA capable device, otherwise\n",
            "    // override the device ID based on input provided at the command line\n",
            "    int dev = findCudaDevice(argc, (const char **)argv);\n",
            "\n",
            "    int block_size = 32;\n",
            "\n",
            "    dim3 dimsA(5 * 2 * block_size, 5 * 2 * block_size, 1);\n",
            "    dim3 dimsB(5 * 4 * block_size, 5 * 2 * block_size, 1);\n",
            "\n",
            "    // width of Matrix A\n",
            "    if (checkCmdLineFlag(argc, (const char **)argv, \"wA\")) {\n",
            "        dimsA.x = getCmdLineArgumentInt(argc, (const char **)argv, \"wA\");\n",
            "    }\n",
            "\n",
            "    // height of Matrix A\n",
            "    if (checkCmdLineFlag(argc, (const char **)argv, \"hA\")) {\n",
            "        dimsA.y = getCmdLineArgumentInt(argc, (const char **)argv, \"hA\");\n",
            "    }\n",
            "\n",
            "    // width of Matrix B\n",
            "    if (checkCmdLineFlag(argc, (const char **)argv, \"wB\")) {\n",
            "        dimsB.x = getCmdLineArgumentInt(argc, (const char **)argv, \"wB\");\n",
            "    }\n",
            "\n",
            "    // height of Matrix B\n",
            "    if (checkCmdLineFlag(argc, (const char **)argv, \"hB\")) {\n",
            "        dimsB.y = getCmdLineArgumentInt(argc, (const char **)argv, \"hB\");\n",
            "    }\n",
            "\n",
            "    if (dimsA.x != dimsB.y) {\n",
            "        printf(\"Error: outer matrix dimensions must be equal. (%d != %d)\\n\",\n",
            "               dimsA.x, dimsB.y);\n",
            "        exit(EXIT_FAILURE);\n",
            "    }\n",
            "\n",
            "    printf(\"MatrixA(%d,%d), MatrixB(%d,%d)\\n\", dimsA.x, dimsA.y,\n",
            "                                               dimsB.x, dimsB.y);\n",
            "\n",
            "    int matrix_result = MatrixMultiply(argc, argv, block_size, dimsA, dimsB);\n",
            "\n",
            "    exit(matrix_result);\n",
            "}\n",
            "\n"
          ],
          "name": "stdout"
        }
      ]
    },
    {
      "cell_type": "code",
      "metadata": {
        "id": "reUmah-PLzbB"
      },
      "source": [
        ""
      ],
      "execution_count": null,
      "outputs": []
    }
  ]
}