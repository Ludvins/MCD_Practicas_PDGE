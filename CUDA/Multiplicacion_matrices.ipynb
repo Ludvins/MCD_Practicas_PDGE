{
  "nbformat": 4,
  "nbformat_minor": 0,
  "metadata": {
    "colab": {
      "name": "Multiplicacion_matrices.ipynb",
      "provenance": [],
      "authorship_tag": "ABX9TyNqK67wEjRRr7Hkln3eApGB",
      "include_colab_link": true
    },
    "kernelspec": {
      "name": "python3",
      "display_name": "Python 3"
    },
    "accelerator": "GPU"
  },
  "cells": [
    {
      "cell_type": "markdown",
      "metadata": {
        "id": "view-in-github",
        "colab_type": "text"
      },
      "source": [
        "<a href=\"https://colab.research.google.com/github/Ludvins/Practicas_PDGE/blob/master/CUDA/Multiplicacion_matrices.ipynb\" target=\"_parent\"><img src=\"https://colab.research.google.com/assets/colab-badge.svg\" alt=\"Open In Colab\"/></a>"
      ]
    },
    {
      "cell_type": "markdown",
      "metadata": {
        "id": "kA2gC7QblMmO"
      },
      "source": [
        "# Multiplicación en CPU"
      ]
    },
    {
      "cell_type": "code",
      "metadata": {
        "id": "Kti9K705k_NW",
        "outputId": "b85d3ea2-3275-4aea-8e15-022cee7486ca",
        "colab": {
          "base_uri": "https://localhost:8080/",
          "height": 34
        }
      },
      "source": [
        "%%writefile mat_cpu.cu\n",
        "#include <stdio.h>\n",
        "const int N = 16;\n",
        "\n",
        "// Computa la multiplicación de matrices en CPU\n",
        "void matrixMultCPU(int a[N][N], int b[N][N], int c[N][N]) {\n",
        "  int n,m;\n",
        "  for (int i = 0; i < N; i++) {\n",
        "    for (int j = 0; j < N; j++) {\n",
        "      int sum = 0;\n",
        "      for (int k = 0; k < N; k++) {\n",
        "        m = a[i][k];\n",
        "        n = b[k][j];\n",
        "        sum += m * n;\n",
        "      }\n",
        "      c[i][j] = sum;\n",
        "    }\n",
        "  }\n",
        "}\n",
        "\n",
        "int main() {\n",
        "  int a[N][N], b[N][N], c[N][N];\n",
        "  int cont,i,j;\n",
        "\n",
        "  /* inicializando variables con datos*/\n",
        "  for (i = 0; i < N; i++) {\n",
        "    cont = 0;\n",
        "    for (j = 0; j < N; j++) {\n",
        "      a[i][j] = cont;\n",
        "      b[i][j] = cont;\n",
        "      cont++;\n",
        "    }\n",
        "  }\n",
        "\n",
        "  matrixMultCPU(a, b, c);\n",
        "\n",
        "  // imprimiendo\n",
        "  for (int y = 0; y < N; y++) {\n",
        "    for (int x = 0; x < N; x++) {\n",
        "      printf(\"[%d][%d]=%d \", y, x, c[y][x]);\n",
        "    }\n",
        "    printf(\"\\n\");\n",
        "  }\n",
        "  return 0;\n",
        "}"
      ],
      "execution_count": 5,
      "outputs": [
        {
          "output_type": "stream",
          "text": [
            "Overwriting mat_cpu.cu\n"
          ],
          "name": "stdout"
        }
      ]
    },
    {
      "cell_type": "code",
      "metadata": {
        "id": "b8I5n8pNl9lR",
        "outputId": "95a3f6d1-9798-434b-b0cb-0fb5b95d1920",
        "colab": {
          "base_uri": "https://localhost:8080/",
          "height": 309
        }
      },
      "source": [
        "!/usr/local/cuda/bin/nvcc -arch=sm_35 -rdc=true mat_cpu.cu -o mat_cpu -lcudadevrt\n",
        "!./mat_cpu"
      ],
      "execution_count": 8,
      "outputs": [
        {
          "output_type": "stream",
          "text": [
            "[0][0]=0 [0][1]=120 [0][2]=240 [0][3]=360 [0][4]=480 [0][5]=600 [0][6]=720 [0][7]=840 [0][8]=960 [0][9]=1080 [0][10]=1200 [0][11]=1320 [0][12]=1440 [0][13]=1560 [0][14]=1680 [0][15]=1800 \n",
            "[1][0]=0 [1][1]=120 [1][2]=240 [1][3]=360 [1][4]=480 [1][5]=600 [1][6]=720 [1][7]=840 [1][8]=960 [1][9]=1080 [1][10]=1200 [1][11]=1320 [1][12]=1440 [1][13]=1560 [1][14]=1680 [1][15]=1800 \n",
            "[2][0]=0 [2][1]=120 [2][2]=240 [2][3]=360 [2][4]=480 [2][5]=600 [2][6]=720 [2][7]=840 [2][8]=960 [2][9]=1080 [2][10]=1200 [2][11]=1320 [2][12]=1440 [2][13]=1560 [2][14]=1680 [2][15]=1800 \n",
            "[3][0]=0 [3][1]=120 [3][2]=240 [3][3]=360 [3][4]=480 [3][5]=600 [3][6]=720 [3][7]=840 [3][8]=960 [3][9]=1080 [3][10]=1200 [3][11]=1320 [3][12]=1440 [3][13]=1560 [3][14]=1680 [3][15]=1800 \n",
            "[4][0]=0 [4][1]=120 [4][2]=240 [4][3]=360 [4][4]=480 [4][5]=600 [4][6]=720 [4][7]=840 [4][8]=960 [4][9]=1080 [4][10]=1200 [4][11]=1320 [4][12]=1440 [4][13]=1560 [4][14]=1680 [4][15]=1800 \n",
            "[5][0]=0 [5][1]=120 [5][2]=240 [5][3]=360 [5][4]=480 [5][5]=600 [5][6]=720 [5][7]=840 [5][8]=960 [5][9]=1080 [5][10]=1200 [5][11]=1320 [5][12]=1440 [5][13]=1560 [5][14]=1680 [5][15]=1800 \n",
            "[6][0]=0 [6][1]=120 [6][2]=240 [6][3]=360 [6][4]=480 [6][5]=600 [6][6]=720 [6][7]=840 [6][8]=960 [6][9]=1080 [6][10]=1200 [6][11]=1320 [6][12]=1440 [6][13]=1560 [6][14]=1680 [6][15]=1800 \n",
            "[7][0]=0 [7][1]=120 [7][2]=240 [7][3]=360 [7][4]=480 [7][5]=600 [7][6]=720 [7][7]=840 [7][8]=960 [7][9]=1080 [7][10]=1200 [7][11]=1320 [7][12]=1440 [7][13]=1560 [7][14]=1680 [7][15]=1800 \n",
            "[8][0]=0 [8][1]=120 [8][2]=240 [8][3]=360 [8][4]=480 [8][5]=600 [8][6]=720 [8][7]=840 [8][8]=960 [8][9]=1080 [8][10]=1200 [8][11]=1320 [8][12]=1440 [8][13]=1560 [8][14]=1680 [8][15]=1800 \n",
            "[9][0]=0 [9][1]=120 [9][2]=240 [9][3]=360 [9][4]=480 [9][5]=600 [9][6]=720 [9][7]=840 [9][8]=960 [9][9]=1080 [9][10]=1200 [9][11]=1320 [9][12]=1440 [9][13]=1560 [9][14]=1680 [9][15]=1800 \n",
            "[10][0]=0 [10][1]=120 [10][2]=240 [10][3]=360 [10][4]=480 [10][5]=600 [10][6]=720 [10][7]=840 [10][8]=960 [10][9]=1080 [10][10]=1200 [10][11]=1320 [10][12]=1440 [10][13]=1560 [10][14]=1680 [10][15]=1800 \n",
            "[11][0]=0 [11][1]=120 [11][2]=240 [11][3]=360 [11][4]=480 [11][5]=600 [11][6]=720 [11][7]=840 [11][8]=960 [11][9]=1080 [11][10]=1200 [11][11]=1320 [11][12]=1440 [11][13]=1560 [11][14]=1680 [11][15]=1800 \n",
            "[12][0]=0 [12][1]=120 [12][2]=240 [12][3]=360 [12][4]=480 [12][5]=600 [12][6]=720 [12][7]=840 [12][8]=960 [12][9]=1080 [12][10]=1200 [12][11]=1320 [12][12]=1440 [12][13]=1560 [12][14]=1680 [12][15]=1800 \n",
            "[13][0]=0 [13][1]=120 [13][2]=240 [13][3]=360 [13][4]=480 [13][5]=600 [13][6]=720 [13][7]=840 [13][8]=960 [13][9]=1080 [13][10]=1200 [13][11]=1320 [13][12]=1440 [13][13]=1560 [13][14]=1680 [13][15]=1800 \n",
            "[14][0]=0 [14][1]=120 [14][2]=240 [14][3]=360 [14][4]=480 [14][5]=600 [14][6]=720 [14][7]=840 [14][8]=960 [14][9]=1080 [14][10]=1200 [14][11]=1320 [14][12]=1440 [14][13]=1560 [14][14]=1680 [14][15]=1800 \n",
            "[15][0]=0 [15][1]=120 [15][2]=240 [15][3]=360 [15][4]=480 [15][5]=600 [15][6]=720 [15][7]=840 [15][8]=960 [15][9]=1080 [15][10]=1200 [15][11]=1320 [15][12]=1440 [15][13]=1560 [15][14]=1680 [15][15]=1800 \n"
          ],
          "name": "stdout"
        }
      ]
    },
    {
      "cell_type": "markdown",
      "metadata": {
        "id": "d1cZYnHWnERJ"
      },
      "source": [
        "# Multiplicación en GPU"
      ]
    },
    {
      "cell_type": "markdown",
      "metadata": {
        "id": "sgkDxFIjnGbG"
      },
      "source": [
        "## Memoria no compartida"
      ]
    },
    {
      "cell_type": "code",
      "metadata": {
        "id": "Fz3_Nv1KnOPk",
        "outputId": "79a703a6-dacf-4ecc-f929-3d7e7594d274",
        "colab": {
          "base_uri": "https://localhost:8080/",
          "height": 34
        }
      },
      "source": [
        "%%writefile mat_gpu.cu\n",
        "#include <stdio.h>\n",
        "const int N = 16;\n",
        "\n",
        "// Computa la multiplicación de matrices en GPU sin memoria compartida\n",
        "__global__ void matrixMultGPU(int *a, int *b, int *c) {\n",
        "  int k, sum = 0;\n",
        "  int col = threadIdx.x + blockDim.x * blockIdx.x;\n",
        "  int fil = threadIdx.y + blockDim.y * blockIdx.y;\n",
        "  if (col < N && fil < N) {\n",
        "    for (k = 0; k < N; k++) {\n",
        "      sum += a[fil * N + k] * b[k * N + col];\n",
        "    }\n",
        "    c[fil * N + col] = sum;\n",
        "  }\n",
        "}\n",
        "\n",
        "int main() {\n",
        "  int a[N][N], b[N][N], c[N][N];\n",
        "  int *dev_a, *dev_b, *dev_c;\n",
        "  int cont,i,j;\n",
        "\n",
        "  /* inicializando variables con datos*/\n",
        "  for (i = 0; i < N; i++) {\n",
        "    cont = 0;\n",
        "    for (j = 0; j < N; j++) {\n",
        "      a[i][j] = cont;\n",
        "      b[i][j] = cont;\n",
        "      cont++;\n",
        "    }\n",
        "  }\n",
        "\n",
        "  int size = N * N * sizeof(int);\n",
        "  cudaMalloc((void **) &dev_a, size);\n",
        "  cudaMalloc((void **) &dev_b, size);\n",
        "  cudaMalloc((void **) &dev_c, size);\n",
        "  cudaMemcpy(dev_a, a, size, cudaMemcpyHostToDevice);\n",
        "  cudaMemcpy(dev_b, b, size, cudaMemcpyHostToDevice);\n",
        "\n",
        "  // Tamaño de grid y bloque\n",
        "  dim3 dimGrid(1, 1);\n",
        "  dim3 dimBlock(N, N);\n",
        "\n",
        "  matrixMultGPU<<<dimGrid, dimBlock>>>(dev_a, dev_b, dev_c);\n",
        "  cudaMemcpy(c, dev_c, size, cudaMemcpyDeviceToHost);\n",
        "\n",
        "\n",
        "  cudaFree(dev_a);\n",
        "  cudaFree(dev_b);\n",
        "  cudaFree(dev_c);\n",
        "\n",
        "  // imprimiendo\n",
        "  for (int y = 0; y < N; y++) {\n",
        "    for (int x = 0; x < N; x++) {\n",
        "      printf(\"[%d][%d]=%d \", y, x, c[y][x]);\n",
        "    }\n",
        "    printf(\"\\n\");\n",
        "  }\n",
        "  return 0;\n",
        "}"
      ],
      "execution_count": 9,
      "outputs": [
        {
          "output_type": "stream",
          "text": [
            "Writing mat_gpu.cu\n"
          ],
          "name": "stdout"
        }
      ]
    },
    {
      "cell_type": "code",
      "metadata": {
        "id": "AWnT1dWEnYVk",
        "outputId": "6546e4a5-671d-4c06-c929-52b5434d94e0",
        "colab": {
          "base_uri": "https://localhost:8080/",
          "height": 309
        }
      },
      "source": [
        "!/usr/local/cuda/bin/nvcc -arch=sm_35 -rdc=true mat_gpu.cu -o mat_gpu -lcudadevrt\n",
        "!./mat_gpu"
      ],
      "execution_count": 10,
      "outputs": [
        {
          "output_type": "stream",
          "text": [
            "[0][0]=0 [0][1]=120 [0][2]=240 [0][3]=360 [0][4]=480 [0][5]=600 [0][6]=720 [0][7]=840 [0][8]=960 [0][9]=1080 [0][10]=1200 [0][11]=1320 [0][12]=1440 [0][13]=1560 [0][14]=1680 [0][15]=1800 \n",
            "[1][0]=0 [1][1]=120 [1][2]=240 [1][3]=360 [1][4]=480 [1][5]=600 [1][6]=720 [1][7]=840 [1][8]=960 [1][9]=1080 [1][10]=1200 [1][11]=1320 [1][12]=1440 [1][13]=1560 [1][14]=1680 [1][15]=1800 \n",
            "[2][0]=0 [2][1]=120 [2][2]=240 [2][3]=360 [2][4]=480 [2][5]=600 [2][6]=720 [2][7]=840 [2][8]=960 [2][9]=1080 [2][10]=1200 [2][11]=1320 [2][12]=1440 [2][13]=1560 [2][14]=1680 [2][15]=1800 \n",
            "[3][0]=0 [3][1]=120 [3][2]=240 [3][3]=360 [3][4]=480 [3][5]=600 [3][6]=720 [3][7]=840 [3][8]=960 [3][9]=1080 [3][10]=1200 [3][11]=1320 [3][12]=1440 [3][13]=1560 [3][14]=1680 [3][15]=1800 \n",
            "[4][0]=0 [4][1]=120 [4][2]=240 [4][3]=360 [4][4]=480 [4][5]=600 [4][6]=720 [4][7]=840 [4][8]=960 [4][9]=1080 [4][10]=1200 [4][11]=1320 [4][12]=1440 [4][13]=1560 [4][14]=1680 [4][15]=1800 \n",
            "[5][0]=0 [5][1]=120 [5][2]=240 [5][3]=360 [5][4]=480 [5][5]=600 [5][6]=720 [5][7]=840 [5][8]=960 [5][9]=1080 [5][10]=1200 [5][11]=1320 [5][12]=1440 [5][13]=1560 [5][14]=1680 [5][15]=1800 \n",
            "[6][0]=0 [6][1]=120 [6][2]=240 [6][3]=360 [6][4]=480 [6][5]=600 [6][6]=720 [6][7]=840 [6][8]=960 [6][9]=1080 [6][10]=1200 [6][11]=1320 [6][12]=1440 [6][13]=1560 [6][14]=1680 [6][15]=1800 \n",
            "[7][0]=0 [7][1]=120 [7][2]=240 [7][3]=360 [7][4]=480 [7][5]=600 [7][6]=720 [7][7]=840 [7][8]=960 [7][9]=1080 [7][10]=1200 [7][11]=1320 [7][12]=1440 [7][13]=1560 [7][14]=1680 [7][15]=1800 \n",
            "[8][0]=0 [8][1]=120 [8][2]=240 [8][3]=360 [8][4]=480 [8][5]=600 [8][6]=720 [8][7]=840 [8][8]=960 [8][9]=1080 [8][10]=1200 [8][11]=1320 [8][12]=1440 [8][13]=1560 [8][14]=1680 [8][15]=1800 \n",
            "[9][0]=0 [9][1]=120 [9][2]=240 [9][3]=360 [9][4]=480 [9][5]=600 [9][6]=720 [9][7]=840 [9][8]=960 [9][9]=1080 [9][10]=1200 [9][11]=1320 [9][12]=1440 [9][13]=1560 [9][14]=1680 [9][15]=1800 \n",
            "[10][0]=0 [10][1]=120 [10][2]=240 [10][3]=360 [10][4]=480 [10][5]=600 [10][6]=720 [10][7]=840 [10][8]=960 [10][9]=1080 [10][10]=1200 [10][11]=1320 [10][12]=1440 [10][13]=1560 [10][14]=1680 [10][15]=1800 \n",
            "[11][0]=0 [11][1]=120 [11][2]=240 [11][3]=360 [11][4]=480 [11][5]=600 [11][6]=720 [11][7]=840 [11][8]=960 [11][9]=1080 [11][10]=1200 [11][11]=1320 [11][12]=1440 [11][13]=1560 [11][14]=1680 [11][15]=1800 \n",
            "[12][0]=0 [12][1]=120 [12][2]=240 [12][3]=360 [12][4]=480 [12][5]=600 [12][6]=720 [12][7]=840 [12][8]=960 [12][9]=1080 [12][10]=1200 [12][11]=1320 [12][12]=1440 [12][13]=1560 [12][14]=1680 [12][15]=1800 \n",
            "[13][0]=0 [13][1]=120 [13][2]=240 [13][3]=360 [13][4]=480 [13][5]=600 [13][6]=720 [13][7]=840 [13][8]=960 [13][9]=1080 [13][10]=1200 [13][11]=1320 [13][12]=1440 [13][13]=1560 [13][14]=1680 [13][15]=1800 \n",
            "[14][0]=0 [14][1]=120 [14][2]=240 [14][3]=360 [14][4]=480 [14][5]=600 [14][6]=720 [14][7]=840 [14][8]=960 [14][9]=1080 [14][10]=1200 [14][11]=1320 [14][12]=1440 [14][13]=1560 [14][14]=1680 [14][15]=1800 \n",
            "[15][0]=0 [15][1]=120 [15][2]=240 [15][3]=360 [15][4]=480 [15][5]=600 [15][6]=720 [15][7]=840 [15][8]=960 [15][9]=1080 [15][10]=1200 [15][11]=1320 [15][12]=1440 [15][13]=1560 [15][14]=1680 [15][15]=1800 \n"
          ],
          "name": "stdout"
        }
      ]
    },
    {
      "cell_type": "markdown",
      "metadata": {
        "id": "r8mM75xXndbv"
      },
      "source": [
        "## Memoria compartida"
      ]
    },
    {
      "cell_type": "code",
      "metadata": {
        "id": "r_GDTqyljLIW",
        "outputId": "c9ae663c-f958-4b29-e08f-86ea8a7fb52b",
        "colab": {
          "base_uri": "https://localhost:8080/",
          "height": 34
        }
      },
      "source": [
        "%%writefile mat_gpu2.cu\n",
        "#include <stdio.h>\n",
        "// Tamaño de matrices\n",
        "const int N = 16;\n",
        "// Tamaño de mosaico\n",
        "const int M = 8;\n",
        "\n",
        "// Computa la multiplicación de matrices en GPU con memoria compartida y B traspuesta\n",
        "__global__ void matrixMultGPU2(int* A, int* B, int* C, int N) {\n",
        "    \n",
        "    int sum = 0;\n",
        "    int tx = threadIdx.x;\n",
        "    int ty = threadIdx.y;\n",
        "    int i = blockIdx.x * blockDim.x + tx;\n",
        "    int j = blockIdx.y * blockDim.y + ty;\n",
        "\n",
        "    __shared__ int As[M][M];\n",
        "    __shared__ int Bs[M][M];\n",
        "\n",
        "    // Recorre los mosaicos de A y B necesarios para computar la submatriz de C\n",
        "    for (int tile = 0; tile < (N/M); tile++){\n",
        "        // Carga los mosaicos (M x M) de A y B en paralelo (y de forma traspuesta)\n",
        "        As[ty][tx] = A[(i * N) + (ty + (tile*M))];\n",
        "        Bs[ty][tx] = B[((tx + (tile * M))*N) + j];\n",
        "\n",
        "        __syncthreads();\n",
        "\n",
        "        // Computa los resultados para la submatriz de C\n",
        "        for (int k = 0; k < M; k++)\n",
        "          sum += As[k][tx] * Bs[ty][k];\n",
        "\n",
        "        __syncthreads();\n",
        "    }\n",
        "    // Escribe en paralelo los resultados obtenidos por el bloque\n",
        "    C[i * N + j] = sum;\n",
        "}\n",
        "\n",
        "int main() {\n",
        "  int a[N][N], b[N][N], c[N][N];\n",
        "  int *dev_a, *dev_b, *dev_c;\n",
        "  int cont,i,j;\n",
        "\n",
        "  /* inicializando variables con datos*/\n",
        "  for (i = 0; i < N; i++) {\n",
        "    cont = 0;\n",
        "    for (j = 0; j < N; j++) {\n",
        "      a[i][j] = cont;\n",
        "      b[i][j] = cont;\n",
        "      cont++;\n",
        "    }\n",
        "  }\n",
        "\n",
        "  int size = N * N * sizeof(int);\n",
        "  cudaMalloc((void **) &dev_a, size);\n",
        "  cudaMalloc((void **) &dev_b, size);\n",
        "  cudaMalloc((void **) &dev_c, size);\n",
        "  cudaMemcpy(dev_a, a, size, cudaMemcpyHostToDevice);\n",
        "  cudaMemcpy(dev_b, b, size, cudaMemcpyHostToDevice);\n",
        "\n",
        "  // Tamaño de grid y bloque\n",
        "  dim3 dimGrid(N/M, N/M);\n",
        "  dim3 dimBlock(M, M);\n",
        "\n",
        "  matrixMultGPU2<<<dimGrid, dimBlock>>>(dev_a, dev_b, dev_c, N);\n",
        "\n",
        "  cudaMemcpy(c, dev_c, size, cudaMemcpyDeviceToHost);\n",
        "\n",
        "\n",
        "  cudaFree(dev_a);\n",
        "  cudaFree(dev_b);\n",
        "  cudaFree(dev_c);\n",
        "\n",
        "  // imprimiendo\n",
        "  for (int y = 0; y < N; y++) {\n",
        "    for (int x = 0; x < N; x++) {\n",
        "      printf(\"[%d][%d]=%d \", y, x, c[y][x]);\n",
        "    }\n",
        "    printf(\"\\n\");\n",
        "  }\n",
        "  return 0;\n",
        "}"
      ],
      "execution_count": 22,
      "outputs": [
        {
          "output_type": "stream",
          "text": [
            "Overwriting mat_gpu2.cu\n"
          ],
          "name": "stdout"
        }
      ]
    },
    {
      "cell_type": "code",
      "metadata": {
        "id": "I4C940mGqTTN",
        "outputId": "f8b32f51-f53a-40da-c054-7c169536574a",
        "colab": {
          "base_uri": "https://localhost:8080/",
          "height": 309
        }
      },
      "source": [
        "!/usr/local/cuda/bin/nvcc -arch=sm_35 -rdc=true mat_gpu2.cu -o mat_gpu2 -lcudadevrt\n",
        "!./mat_gpu2"
      ],
      "execution_count": 23,
      "outputs": [
        {
          "output_type": "stream",
          "text": [
            "[0][0]=0 [0][1]=120 [0][2]=240 [0][3]=360 [0][4]=480 [0][5]=600 [0][6]=720 [0][7]=840 [0][8]=960 [0][9]=1080 [0][10]=1200 [0][11]=1320 [0][12]=1440 [0][13]=1560 [0][14]=1680 [0][15]=1800 \n",
            "[1][0]=0 [1][1]=120 [1][2]=240 [1][3]=360 [1][4]=480 [1][5]=600 [1][6]=720 [1][7]=840 [1][8]=960 [1][9]=1080 [1][10]=1200 [1][11]=1320 [1][12]=1440 [1][13]=1560 [1][14]=1680 [1][15]=1800 \n",
            "[2][0]=0 [2][1]=120 [2][2]=240 [2][3]=360 [2][4]=480 [2][5]=600 [2][6]=720 [2][7]=840 [2][8]=960 [2][9]=1080 [2][10]=1200 [2][11]=1320 [2][12]=1440 [2][13]=1560 [2][14]=1680 [2][15]=1800 \n",
            "[3][0]=0 [3][1]=120 [3][2]=240 [3][3]=360 [3][4]=480 [3][5]=600 [3][6]=720 [3][7]=840 [3][8]=960 [3][9]=1080 [3][10]=1200 [3][11]=1320 [3][12]=1440 [3][13]=1560 [3][14]=1680 [3][15]=1800 \n",
            "[4][0]=0 [4][1]=120 [4][2]=240 [4][3]=360 [4][4]=480 [4][5]=600 [4][6]=720 [4][7]=840 [4][8]=960 [4][9]=1080 [4][10]=1200 [4][11]=1320 [4][12]=1440 [4][13]=1560 [4][14]=1680 [4][15]=1800 \n",
            "[5][0]=0 [5][1]=120 [5][2]=240 [5][3]=360 [5][4]=480 [5][5]=600 [5][6]=720 [5][7]=840 [5][8]=960 [5][9]=1080 [5][10]=1200 [5][11]=1320 [5][12]=1440 [5][13]=1560 [5][14]=1680 [5][15]=1800 \n",
            "[6][0]=0 [6][1]=120 [6][2]=240 [6][3]=360 [6][4]=480 [6][5]=600 [6][6]=720 [6][7]=840 [6][8]=960 [6][9]=1080 [6][10]=1200 [6][11]=1320 [6][12]=1440 [6][13]=1560 [6][14]=1680 [6][15]=1800 \n",
            "[7][0]=0 [7][1]=120 [7][2]=240 [7][3]=360 [7][4]=480 [7][5]=600 [7][6]=720 [7][7]=840 [7][8]=960 [7][9]=1080 [7][10]=1200 [7][11]=1320 [7][12]=1440 [7][13]=1560 [7][14]=1680 [7][15]=1800 \n",
            "[8][0]=0 [8][1]=120 [8][2]=240 [8][3]=360 [8][4]=480 [8][5]=600 [8][6]=720 [8][7]=840 [8][8]=960 [8][9]=1080 [8][10]=1200 [8][11]=1320 [8][12]=1440 [8][13]=1560 [8][14]=1680 [8][15]=1800 \n",
            "[9][0]=0 [9][1]=120 [9][2]=240 [9][3]=360 [9][4]=480 [9][5]=600 [9][6]=720 [9][7]=840 [9][8]=960 [9][9]=1080 [9][10]=1200 [9][11]=1320 [9][12]=1440 [9][13]=1560 [9][14]=1680 [9][15]=1800 \n",
            "[10][0]=0 [10][1]=120 [10][2]=240 [10][3]=360 [10][4]=480 [10][5]=600 [10][6]=720 [10][7]=840 [10][8]=960 [10][9]=1080 [10][10]=1200 [10][11]=1320 [10][12]=1440 [10][13]=1560 [10][14]=1680 [10][15]=1800 \n",
            "[11][0]=0 [11][1]=120 [11][2]=240 [11][3]=360 [11][4]=480 [11][5]=600 [11][6]=720 [11][7]=840 [11][8]=960 [11][9]=1080 [11][10]=1200 [11][11]=1320 [11][12]=1440 [11][13]=1560 [11][14]=1680 [11][15]=1800 \n",
            "[12][0]=0 [12][1]=120 [12][2]=240 [12][3]=360 [12][4]=480 [12][5]=600 [12][6]=720 [12][7]=840 [12][8]=960 [12][9]=1080 [12][10]=1200 [12][11]=1320 [12][12]=1440 [12][13]=1560 [12][14]=1680 [12][15]=1800 \n",
            "[13][0]=0 [13][1]=120 [13][2]=240 [13][3]=360 [13][4]=480 [13][5]=600 [13][6]=720 [13][7]=840 [13][8]=960 [13][9]=1080 [13][10]=1200 [13][11]=1320 [13][12]=1440 [13][13]=1560 [13][14]=1680 [13][15]=1800 \n",
            "[14][0]=0 [14][1]=120 [14][2]=240 [14][3]=360 [14][4]=480 [14][5]=600 [14][6]=720 [14][7]=840 [14][8]=960 [14][9]=1080 [14][10]=1200 [14][11]=1320 [14][12]=1440 [14][13]=1560 [14][14]=1680 [14][15]=1800 \n",
            "[15][0]=0 [15][1]=120 [15][2]=240 [15][3]=360 [15][4]=480 [15][5]=600 [15][6]=720 [15][7]=840 [15][8]=960 [15][9]=1080 [15][10]=1200 [15][11]=1320 [15][12]=1440 [15][13]=1560 [15][14]=1680 [15][15]=1800 \n"
          ],
          "name": "stdout"
        }
      ]
    },
    {
      "cell_type": "markdown",
      "metadata": {
        "id": "ER-HzBhcngz0"
      },
      "source": [
        "# Medición de tiempos"
      ]
    },
    {
      "cell_type": "markdown",
      "metadata": {
        "id": "8OVduU4usZly"
      },
      "source": [
        "## Tiempos en CPU"
      ]
    },
    {
      "cell_type": "code",
      "metadata": {
        "id": "bkCJd4hEsZDM",
        "outputId": "51baa197-602e-4739-b1c7-9493e8c521a3",
        "colab": {
          "base_uri": "https://localhost:8080/",
          "height": 34
        }
      },
      "source": [
        "%%writefile mat_cpu.cu\n",
        "#include <stdio.h>\n",
        "#include <time.h>\n",
        "\n",
        "const int N = 16;\n",
        "\n",
        "// Computa la multiplicación de matrices en CPU\n",
        "void matrixMultCPU(int a[N][N], int b[N][N], int c[N][N]) {\n",
        "  int n,m;\n",
        "  for (int i = 0; i < N; i++) {\n",
        "    for (int j = 0; j < N; j++) {\n",
        "      int sum = 0;\n",
        "      for (int k = 0; k < N; k++) {\n",
        "        m = a[i][k];\n",
        "        n = b[k][j];\n",
        "        sum += m * n;\n",
        "      }\n",
        "      c[i][j] = sum;\n",
        "    }\n",
        "  }\n",
        "}\n",
        "\n",
        "int main() {\n",
        "  int a[N][N], b[N][N], c[N][N];\n",
        "  int cont,i,j;\n",
        "\n",
        "  /* inicializando variables con datos*/\n",
        "  for (i = 0; i < N; i++) {\n",
        "    cont = 0;\n",
        "    for (j = 0; j < N; j++) {\n",
        "      a[i][j] = cont;\n",
        "      b[i][j] = cont;\n",
        "      cont++;\n",
        "    }\n",
        "  }\n",
        "\n",
        "  clock_t start, end;\n",
        "  double cpu_time_used;\n",
        "  int nIter = 1000;\n",
        "\n",
        "  start = clock();\n",
        "  for (int i = 0; i < nIter; i++)\n",
        "      matrixMultCPU(a, b, c);\n",
        "  \n",
        "  end = clock();\n",
        "  cpu_time_used = (double) (end - start) / CLOCKS_PER_SEC;\n",
        "  printf(cpu_time_used);\n",
        "\n",
        "  return 0;\n",
        "}"
      ],
      "execution_count": 91,
      "outputs": [
        {
          "output_type": "stream",
          "text": [
            "Overwriting mat_cpu.cu\n"
          ],
          "name": "stdout"
        }
      ]
    },
    {
      "cell_type": "code",
      "metadata": {
        "id": "vaCTJ0HdvoLa",
        "outputId": "57408f29-d3bf-487f-d2bb-3139b1871465",
        "colab": {
          "base_uri": "https://localhost:8080/",
          "height": 360
        }
      },
      "source": [
        "!/usr/local/cuda/bin/nvcc -arch=sm_35 -rdc=true mat_cpu.cu -o mat_cpu -lcudadevrt\n",
        "!./mat_cpu"
      ],
      "execution_count": 92,
      "outputs": [
        {
          "output_type": "stream",
          "text": [
            "mat_cpu.cu(46): error: argument of type \"double\" is incompatible with parameter of type \"const char *\"\n",
            "\n",
            "1 error detected in the compilation of \"/tmp/tmpxft_0000087b_00000000-8_mat_cpu.cpp1.ii\".\n",
            "[0][0]=0 [0][1]=120 [0][2]=240 [0][3]=360 [0][4]=480 [0][5]=600 [0][6]=720 [0][7]=840 [0][8]=960 [0][9]=1080 [0][10]=1200 [0][11]=1320 [0][12]=1440 [0][13]=1560 [0][14]=1680 [0][15]=1800 \n",
            "[1][0]=0 [1][1]=120 [1][2]=240 [1][3]=360 [1][4]=480 [1][5]=600 [1][6]=720 [1][7]=840 [1][8]=960 [1][9]=1080 [1][10]=1200 [1][11]=1320 [1][12]=1440 [1][13]=1560 [1][14]=1680 [1][15]=1800 \n",
            "[2][0]=0 [2][1]=120 [2][2]=240 [2][3]=360 [2][4]=480 [2][5]=600 [2][6]=720 [2][7]=840 [2][8]=960 [2][9]=1080 [2][10]=1200 [2][11]=1320 [2][12]=1440 [2][13]=1560 [2][14]=1680 [2][15]=1800 \n",
            "[3][0]=0 [3][1]=120 [3][2]=240 [3][3]=360 [3][4]=480 [3][5]=600 [3][6]=720 [3][7]=840 [3][8]=960 [3][9]=1080 [3][10]=1200 [3][11]=1320 [3][12]=1440 [3][13]=1560 [3][14]=1680 [3][15]=1800 \n",
            "[4][0]=0 [4][1]=120 [4][2]=240 [4][3]=360 [4][4]=480 [4][5]=600 [4][6]=720 [4][7]=840 [4][8]=960 [4][9]=1080 [4][10]=1200 [4][11]=1320 [4][12]=1440 [4][13]=1560 [4][14]=1680 [4][15]=1800 \n",
            "[5][0]=0 [5][1]=120 [5][2]=240 [5][3]=360 [5][4]=480 [5][5]=600 [5][6]=720 [5][7]=840 [5][8]=960 [5][9]=1080 [5][10]=1200 [5][11]=1320 [5][12]=1440 [5][13]=1560 [5][14]=1680 [5][15]=1800 \n",
            "[6][0]=0 [6][1]=120 [6][2]=240 [6][3]=360 [6][4]=480 [6][5]=600 [6][6]=720 [6][7]=840 [6][8]=960 [6][9]=1080 [6][10]=1200 [6][11]=1320 [6][12]=1440 [6][13]=1560 [6][14]=1680 [6][15]=1800 \n",
            "[7][0]=0 [7][1]=120 [7][2]=240 [7][3]=360 [7][4]=480 [7][5]=600 [7][6]=720 [7][7]=840 [7][8]=960 [7][9]=1080 [7][10]=1200 [7][11]=1320 [7][12]=1440 [7][13]=1560 [7][14]=1680 [7][15]=1800 \n",
            "[8][0]=0 [8][1]=120 [8][2]=240 [8][3]=360 [8][4]=480 [8][5]=600 [8][6]=720 [8][7]=840 [8][8]=960 [8][9]=1080 [8][10]=1200 [8][11]=1320 [8][12]=1440 [8][13]=1560 [8][14]=1680 [8][15]=1800 \n",
            "[9][0]=0 [9][1]=120 [9][2]=240 [9][3]=360 [9][4]=480 [9][5]=600 [9][6]=720 [9][7]=840 [9][8]=960 [9][9]=1080 [9][10]=1200 [9][11]=1320 [9][12]=1440 [9][13]=1560 [9][14]=1680 [9][15]=1800 \n",
            "[10][0]=0 [10][1]=120 [10][2]=240 [10][3]=360 [10][4]=480 [10][5]=600 [10][6]=720 [10][7]=840 [10][8]=960 [10][9]=1080 [10][10]=1200 [10][11]=1320 [10][12]=1440 [10][13]=1560 [10][14]=1680 [10][15]=1800 \n",
            "[11][0]=0 [11][1]=120 [11][2]=240 [11][3]=360 [11][4]=480 [11][5]=600 [11][6]=720 [11][7]=840 [11][8]=960 [11][9]=1080 [11][10]=1200 [11][11]=1320 [11][12]=1440 [11][13]=1560 [11][14]=1680 [11][15]=1800 \n",
            "[12][0]=0 [12][1]=120 [12][2]=240 [12][3]=360 [12][4]=480 [12][5]=600 [12][6]=720 [12][7]=840 [12][8]=960 [12][9]=1080 [12][10]=1200 [12][11]=1320 [12][12]=1440 [12][13]=1560 [12][14]=1680 [12][15]=1800 \n",
            "[13][0]=0 [13][1]=120 [13][2]=240 [13][3]=360 [13][4]=480 [13][5]=600 [13][6]=720 [13][7]=840 [13][8]=960 [13][9]=1080 [13][10]=1200 [13][11]=1320 [13][12]=1440 [13][13]=1560 [13][14]=1680 [13][15]=1800 \n",
            "[14][0]=0 [14][1]=120 [14][2]=240 [14][3]=360 [14][4]=480 [14][5]=600 [14][6]=720 [14][7]=840 [14][8]=960 [14][9]=1080 [14][10]=1200 [14][11]=1320 [14][12]=1440 [14][13]=1560 [14][14]=1680 [14][15]=1800 \n",
            "[15][0]=0 [15][1]=120 [15][2]=240 [15][3]=360 [15][4]=480 [15][5]=600 [15][6]=720 [15][7]=840 [15][8]=960 [15][9]=1080 [15][10]=1200 [15][11]=1320 [15][12]=1440 [15][13]=1560 [15][14]=1680 [15][15]=1800 \n"
          ],
          "name": "stdout"
        }
      ]
    },
    {
      "cell_type": "markdown",
      "metadata": {
        "id": "Cc6b1IV6sbPG"
      },
      "source": [
        "## Tiempos en GPU"
      ]
    },
    {
      "cell_type": "code",
      "metadata": {
        "id": "4IluEtxWAnw5",
        "outputId": "fbe61a45-03ef-4d17-c429-87d7b89611fc",
        "colab": {
          "base_uri": "https://localhost:8080/",
          "height": 34
        }
      },
      "source": [
        "%%writefile mat.cu\n",
        "#include <stdio.h>\n",
        "// Tamaño de matrices\n",
        "const int N = 16;\n",
        "// Tamaño de mosaico\n",
        "const int M = 8;\n",
        "\n",
        "// Computa la multiplicación de matrices en GPU sin memoria compartida\n",
        "__global__ void matrixMultGPU(int *a, int *b, int *c) {\n",
        "  int k, sum = 0;\n",
        "  int col = threadIdx.x + blockDim.x * blockIdx.x;\n",
        "  int fil = threadIdx.y + blockDim.y * blockIdx.y;\n",
        "  if (col < N && fil < N) {\n",
        "    for (k = 0; k < N; k++) {\n",
        "      sum += a[fil * N + k] * b[k * N + col];\n",
        "    }\n",
        "    c[fil * N + col] = sum;\n",
        "  }\n",
        "}\n",
        "\n",
        "// Computa la multiplicación de matrices en GPU con memoria compartida y B traspuesta\n",
        "__global__ void matrixMultGPU2(int* A, int* B, int* C) {\n",
        "    \n",
        "    int sum = 0;\n",
        "    int tx = threadIdx.x;\n",
        "    int ty = threadIdx.y;\n",
        "    int i = blockIdx.x * blockDim.x + tx;\n",
        "    int j = blockIdx.y * blockDim.y + ty;\n",
        "\n",
        "    __shared__ int As[M][M];\n",
        "    __shared__ int Bs[M][M];\n",
        "\n",
        "    // Recorre los mosaicos de A y B necesarios para computar la submatriz de C\n",
        "    for (int tile = 0; tile < (N/M); tile++){\n",
        "        // Carga los mosaicos (M x M) de A y B en paralelo (y de forma traspuesta)\n",
        "        As[ty][tx] = A[(i * N) + (ty + (tile*M))];\n",
        "        Bs[ty][tx] = B[((tx + (tile * M))*N) + j];\n",
        "\n",
        "        __syncthreads();\n",
        "\n",
        "        // Computa los resultados para la submatriz de C\n",
        "        for (int k = 0; k < M; k++)\n",
        "          sum += As[k][tx] * Bs[ty][k];\n",
        "\n",
        "        __syncthreads();\n",
        "    }\n",
        "    // Escribe en paralelo los resultados obtenidos por el bloque\n",
        "    C[i * N + j] = sum;\n",
        "}\n",
        "\n",
        "int main() {\n",
        "\n",
        "  int a[N][N], b[N][N];\n",
        "  int *dev_a, *dev_b, *dev_c;\n",
        "  int cont,i,j;\n",
        "\n",
        "  /* inicializando variables con datos*/\n",
        "  for (i = 0; i < N; i++) {\n",
        "    cont = 0;\n",
        "    for (j = 0; j < N; j++) {\n",
        "      a[i][j] = cont;\n",
        "      b[i][j] = cont;\n",
        "      cont++;\n",
        "    }\n",
        "  }\n",
        "\n",
        "  int size = N * N * sizeof(int);\n",
        "  cudaMalloc((void **) &dev_a, size);\n",
        "  cudaMalloc((void **) &dev_b, size);\n",
        "  cudaMalloc((void **) &dev_c, size);\n",
        "  cudaMemcpy(dev_a, a, size, cudaMemcpyHostToDevice);\n",
        "  cudaMemcpy(dev_b, b, size, cudaMemcpyHostToDevice);\n",
        "\n",
        "  // Tamaño de grid y bloque\n",
        "  //dim3 dimGrid(1, 1);\n",
        "  //dim3 dimBlock(N, N);\n",
        "\n",
        "  // Tamaño de grid y bloque\n",
        "  dim3 dimGrid(N/M, N/M);\n",
        "  dim3 dimBlock(M, M);\n",
        "\n",
        "  cudaEvent_t start;\n",
        "  cudaEventCreate(&start);\n",
        "\n",
        "  cudaEvent_t stop;\n",
        "  cudaEventCreate(&stop);\n",
        "\n",
        "  cudaEventRecord(start, NULL);\n",
        "\n",
        "  int nIter = 1000;\n",
        "  for (int i = 0; i < nIter; i++){\n",
        "      //matrixMultGPU<<<dimGrid, dimBlock>>>(dev_a, dev_b, dev_c);\n",
        "      matrixMultGPU2<<<dimGrid, dimBlock>>>(dev_a, dev_b, dev_c);\n",
        "  }\n",
        "\n",
        "  cudaEventRecord(stop, NULL);\n",
        "\n",
        "  cudaEventSynchronize(stop);\n",
        "\n",
        "  float msecTotal = 0.0f;\n",
        "  cudaEventElapsedTime(&msecTotal, start, stop);\n",
        "\n",
        "  float msecPerKernelExecution = msecTotal / nIter;\n",
        "  double flopsPerMMull = 2.0 * N * N * N;\n",
        "  double gigaFlops = (flopsPerMMull * 1.0e-9f) / (msecPerKernelExecution / 1000.0f);\n",
        "\n",
        "  printf(\"GFLOPS: %f\", gigaFlops);\n",
        "\n",
        "  cudaFree(dev_a);\n",
        "  cudaFree(dev_b);\n",
        "  cudaFree(dev_c);\n",
        "\n",
        "  return 0;\n",
        "}"
      ],
      "execution_count": 67,
      "outputs": [
        {
          "output_type": "stream",
          "text": [
            "Overwriting mat.cu\n"
          ],
          "name": "stdout"
        }
      ]
    },
    {
      "cell_type": "code",
      "metadata": {
        "id": "uzRma4s5FC6I"
      },
      "source": [
        "!/usr/local/cuda/bin/nvcc -arch=sm_35 -rdc=true mat.cu -o mat -lcudadevrt"
      ],
      "execution_count": 68,
      "outputs": []
    },
    {
      "cell_type": "code",
      "metadata": {
        "id": "BRyjfdg_Ix_7",
        "outputId": "c815d45b-58ee-43e3-ebec-4ca03f52dc5c",
        "colab": {
          "base_uri": "https://localhost:8080/",
          "height": 34
        }
      },
      "source": [
        "!./mat"
      ],
      "execution_count": 69,
      "outputs": [
        {
          "output_type": "stream",
          "text": [
            "GFLOPS: 2.734488"
          ],
          "name": "stdout"
        }
      ]
    },
    {
      "cell_type": "markdown",
      "metadata": {
        "id": "0A3PDEOytzC3"
      },
      "source": [
        "Sin memoria compartida:\n",
        "- 16 - 2.620347\n",
        "- 32 - 7.096351\n",
        "- 64 - 3644.938416\n",
        "- 128 - 29172.491339\n",
        "- 512 - 6673514.212443\n",
        "\n",
        "Con memoria compartida:\n",
        "- 16 - 2.734488\n",
        "- 32 - 11.243418\n",
        "- 64 - 95.765257\n",
        "- 128 - 418.859430\n",
        "- 512 - 1030.160123"
      ]
    },
    {
      "cell_type": "code",
      "metadata": {
        "id": "A6f1tG6nKtlY"
      },
      "source": [
        ""
      ],
      "execution_count": null,
      "outputs": []
    }
  ]
}