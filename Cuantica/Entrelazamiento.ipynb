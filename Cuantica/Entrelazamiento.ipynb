{
 "cells": [
  {
   "cell_type": "code",
   "execution_count": 1,
   "metadata": {},
   "outputs": [
    {
     "name": "stderr",
     "output_type": "stream",
     "text": [
      "/home/ludvins/.local/lib/python3.8/site-packages/qiskit/providers/ibmq/ibmqfactory.py:192: UserWarning: Timestamps in IBMQ backend properties, jobs, and job results are all now in local time instead of UTC.\n",
      "  warnings.warn('Timestamps in IBMQ backend properties, jobs, and job results '\n"
     ]
    }
   ],
   "source": [
    "%matplotlib inline\n",
    "# Importing standard Qiskit libraries and configuring account\n",
    "from qiskit import  QuantumRegister, ClassicalRegister, QuantumCircuit, execute, Aer, IBMQ\n",
    "from qiskit.compiler import transpile, assemble\n",
    "from qiskit.tools.jupyter import *\n",
    "from qiskit.visualization import *\n",
    "from qiskit_textbook.tools import array_to_latex\n",
    "\n",
    "# Loading your IBM Q account(s)\n",
    "provider = IBMQ.load_account()"
   ]
  },
  {
   "cell_type": "markdown",
   "metadata": {},
   "source": [
    "Compruebe el comportamiento de siguiente circuito y explique porque el resultado es una función de onda entrelazada."
   ]
  },
  {
   "cell_type": "code",
   "execution_count": 6,
   "metadata": {},
   "outputs": [],
   "source": [
    "# Create 2 qubits\n",
    "q = QuantumRegister(2, 'q')\n",
    "# Create a circuit\n",
    "circuit = QuantumCircuit(q)\n",
    "\n",
    "# Applies hadamard gate to the first wbit\n",
    "circuit.h(q[0])\n",
    "# Apply cnot gate\n",
    "circuit.cnot(q[0], q[1])\n",
    "\n",
    "circuit.x(q[0])\n",
    "\n",
    "circuit.measure_all()"
   ]
  },
  {
   "cell_type": "code",
   "execution_count": 7,
   "metadata": {},
   "outputs": [
    {
     "data": {
      "image/png": "[encoded data removed]",
      "text/plain": [
       "<Figure size 478.079x204.68 with 1 Axes>"
      ]
     },
     "execution_count": 7,
     "metadata": {},
     "output_type": "execute_result"
    }
   ],
   "source": [
    "circuit.draw(output='mpl')"
   ]
  },
  {
   "cell_type": "markdown",
   "metadata": {},
   "source": [
    "Estudiamos analíticamente el circuito. La primera operacion que hacemos es aplicar una puerta de Hadamard al qbit 0 y ninguna transformación al qbit 1. Utilizamos que\n",
    "$$\n",
    "H \\lvert 0 \\rangle \\otimes I \\lvert 0 \\rangle = (H \\otimes I)(\\lvert 0 \\rangle \\otimes \\lvert 0 \\rangle),\n",
    "$$\n",
    "y el hecho de que si las distintas puertas se aplican en el orden $G_1 ,\\dots, G_n$, las operaciones matriciales se deben realizar en el orden inverso $G_n(G_{n-1}(\\dots G_1(q)\\dots )$ para construir la matriz correspondiente al circuito. Este caso:\n",
    "$$\n",
    "M = (NOT \\otimes I)CNOT(H \\otimes I)\n",
    "$$\n",
    "\n",
    "$$\n",
    "H \\otimes I = \\frac{1}{\\sqrt{2}}\\begin{pmatrix} 1 & 1 \\\\ 1 & -1 \\end{pmatrix}\\otimes  \\begin{pmatrix} 1 & 0 \\\\ 0 & 1 \\end{pmatrix} = \\frac{1}{\\sqrt{2}}\\begin{pmatrix}1 & 0 & 1 & 0\\\\ 0 & 1 & 0 & 1\\\\ 1 & 0 & -1 & 0\\\\ 0 & 1 & 0 & -1 \\end{pmatrix}\n",
    "$$\n",
    "$$\n",
    "CNOT = \\begin{pmatrix}1 & 0 & 0 & 0\\\\0 & 1 & 0 & 0\\\\ 0 & 0 & 0 & 1\\\\ 0 & 0 & 1 & 0 \\end{pmatrix}\n",
    "$$\n",
    "$$\n",
    "NOT \\otimes I = \\begin{pmatrix} 0 & 1 \\\\ 1 & 0 \\end{pmatrix}\\otimes \\begin{pmatrix} 1 & 0 \\\\ 0 & 1 \\end{pmatrix} = \\begin{pmatrix}0 & 0 & 1 & 0\\\\0 & 0 & 0 & 1\\\\ 1 & 0 & 0 & 0\\\\ 0 & 1 & 0 & 0 \\end{pmatrix}\n",
    "$$\n",
    "\n",
    "Por lo tanto, aplicar todo el circuito es equivalente a:\n",
    "$$\n",
    "\\begin{aligned}\n",
    "M \\ \\begin{pmatrix} 1 \\\\ 0 \\\\ 0 \\\\ 0 \\end{pmatrix} &= \\frac{1}{\\sqrt{2}}\\begin{pmatrix}0 & 0 & 1 & 0\\\\0 & 0 & 0 & 1\\\\ 1 & 0 & 0 & 0\\\\ 0 & 1 & 0 & 0 \\end{pmatrix}\n",
    "\\begin{pmatrix}1 & 0 & 0 & 0\\\\0 & 1 & 0 & 0\\\\ 0 & 0 & 0 & 1\\\\ 0 & 0 & 1 & 0 \\end{pmatrix}\n",
    "\\begin{pmatrix}1 & 0 & 1 & 0\\\\ 0 & 1 & 0 & 1\\\\ 1 & 0 & -1 & 0\\\\ 0 & 1 & 0 & -1 \\end{pmatrix} \\begin{pmatrix} 1 \\\\ 0 \\\\ 0 \\\\ 0 \\end{pmatrix}\\\\\n",
    "&=\\frac{1}{\\sqrt{2}}\\begin{pmatrix}0 & 0 & 0 & 1\\\\0 & 0 & 1 & 0\\\\ 1 & 0 & 0 & 0\\\\ 0 & 1 & 0 & 0 \\end{pmatrix}\n",
    "\\begin{pmatrix}1 & 0 & 1 & 0\\\\ 0 & 1 & 0 & 1\\\\ 1 & 0 & -1 & 0\\\\ 0 & 1 & 0 & -1 \\end{pmatrix} \\begin{pmatrix} 1 \\\\ 0 \\\\ 0 \\\\ 0 \\end{pmatrix}\\\\\n",
    "&= \\frac{1}{\\sqrt{2}}\\begin{pmatrix}0 & 1 & 0 & -1\\\\ 1 & 0 & -1 & 0\\\\ 1 & 0 & 1 & 0\\\\ 0 & 1 & 0 & 1 \\end{pmatrix} \\begin{pmatrix} 1 \\\\ 0 \\\\ 0 \\\\ 0 \\end{pmatrix} = \\frac{1}{\\sqrt{2}}\\begin{pmatrix} 0 \\\\ 1 \\\\ 1 \\\\ 0 \\end{pmatrix}\n",
    "\\end{aligned}\n",
    "$$\n"
   ]
  },
  {
   "cell_type": "markdown",
   "metadata": {},
   "source": [
    "Demostramos ahora que el restado resultado es un estado entrelazado, para ello veremos que no se puede escribir como la combinacion de 2 estados simples. Supongamos que\n",
    "$$\n",
    "\\frac{1}{\\sqrt{2}}\\begin{pmatrix} 0 \\\\ 1 \\\\ 1 \\\\ 0 \\end{pmatrix} = \\begin{pmatrix} a\\\\ b  \\end{pmatrix} \\otimes \\begin{pmatrix} c \\\\ d \\end{pmatrix} = \\begin{pmatrix} ac \\\\ ad \\\\ bc \\\\ bd \\end{pmatrix}.\n",
    "$$\n",
    "Lo cual implica que \n",
    "$$\n",
    "ad \\neq 0 \\implies a, d \\neq 0 \\quad  \\text{y}\\quad bc \\neq 0 \\implies b, c \\neq 0 \n",
    "$$\n",
    "Pero por otro lado\n",
    "$$\n",
    "ac = 0 \\implies a = 0 \\text{ o } c = 0.\n",
    "$$"
   ]
  },
  {
   "cell_type": "code",
   "execution_count": 8,
   "metadata": {},
   "outputs": [
    {
     "data": {
      "text/latex": [
       "$\\displaystyle \n",
       "\\text{Statevector = }\\begin{bmatrix}\n",
       "0 \\\\\n",
       "1 \\\\\n",
       "0 \\\\\n",
       "0\n",
       "\\end{bmatrix}\n",
       "$"
      ],
      "text/plain": [
       "<IPython.core.display.Math object>"
      ]
     },
     "metadata": {},
     "output_type": "display_data"
    }
   ],
   "source": [
    "backend = Aer.get_backend('statevector_simulator')\n",
    "final_state = execute(circuit, backend).result().get_statevector()\n",
    "# Print the statevector neatly:\n",
    "array_to_latex(final_state, pretext=\"\\\\text{Statevector = }\")"
   ]
  },
  {
   "cell_type": "code",
   "execution_count": 9,
   "metadata": {},
   "outputs": [
    {
     "name": "stdout",
     "output_type": "stream",
     "text": [
      "Executing Job...\n",
      "\n",
      "Results:  {'01': 487, '10': 537}\n"
     ]
    }
   ],
   "source": [
    "# Set backend proider\n",
    "backend = provider.get_backend('ibmq_qasm_simulator')\n",
    "\n",
    "# Execute the circuit 1024 times\n",
    "job = execute(circuit, backend, shots=1024)\n",
    "\n",
    "print('Executing Job...\\n')\n",
    "result = job.result()\n",
    "counts = result.get_counts(circuit)\n",
    "\n",
    "print(\"Results: \", counts)"
   ]
  },
  {
   "cell_type": "code",
   "execution_count": null,
   "metadata": {},
   "outputs": [],
   "source": []
  }
 ],
 "metadata": {
  "kernelspec": {
   "display_name": "Python 3",
   "language": "python",
   "name": "python3"
  },
  "language_info": {
   "codemirror_mode": {
    "name": "ipython",
    "version": 3
   },
   "file_extension": ".py",
   "mimetype": "text/x-python",
   "name": "python",
   "nbconvert_exporter": "python",
   "pygments_lexer": "ipython3",
   "version": "3.8.5"
  }
 },
 "nbformat": 4,
 "nbformat_minor": 4
}
