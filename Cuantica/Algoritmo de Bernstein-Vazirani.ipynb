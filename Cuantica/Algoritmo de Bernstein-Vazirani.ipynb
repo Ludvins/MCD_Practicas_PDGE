{
 "cells": [
  {
   "cell_type": "markdown",
   "metadata": {},
   "source": [
    "# Imports"
   ]
  },
  {
   "cell_type": "code",
   "execution_count": 8,
   "metadata": {},
   "outputs": [
    {
     "name": "stderr",
     "output_type": "stream",
     "text": [
      "/home/ludvins/.local/lib/python3.8/site-packages/qiskit/providers/ibmq/ibmqfactory.py:192: UserWarning: Timestamps in IBMQ backend properties, jobs, and job results are all now in local time instead of UTC.\n",
      "  warnings.warn('Timestamps in IBMQ backend properties, jobs, and job results '\n",
      "ibmqfactory.load_account:WARNING:2020-11-05 11:00:23,073: Credentials are already in use. The existing account in the session will be replaced.\n"
     ]
    }
   ],
   "source": [
    "%matplotlib inline\n",
    "# Importing standard Qiskit libraries and configuring account\n",
    "from qiskit import  QuantumRegister, ClassicalRegister, QuantumCircuit, execute, Aer, IBMQ\n",
    "from qiskit.compiler import transpile, assemble\n",
    "from qiskit.tools.jupyter import *\n",
    "from qiskit.visualization import *\n",
    "from qiskit_textbook.tools import array_to_latex\n",
    "\n",
    "# Loading your IBM Q account(s)\n",
    "provider = IBMQ.load_account()"
   ]
  },
  {
   "cell_type": "markdown",
   "metadata": {},
   "source": [
    "# Planteamiento del problema"
   ]
  },
  {
   "cell_type": "markdown",
   "metadata": {},
   "source": [
    "Sea $n \\in \\mathbb{N}$ fijo y conocido, $s \\in \\{0,1\\}^n$ desconocido y la aplicacación \n",
    "$$\n",
    "\\begin{aligned}\n",
    "f:\\{0,1\\}^n &\\to \\{0,1\\}\\\\\n",
    "x &\\mapsto (x·s) \\text{ mod}(2)\n",
    "\\end{aligned}\n",
    "$$\n",
    "Donde $(x·s)$ es la multiplicación bit a bit de ambos elementos. Se plantea descubir el valor de $s$."
   ]
  },
  {
   "cell_type": "markdown",
   "metadata": {},
   "source": [
    "# Resolución"
   ]
  },
  {
   "cell_type": "markdown",
   "metadata": {},
   "source": [
    "## Clásica\n",
    "\n",
    "El algoritmo clásico para resolver el problema se basa en la siguiente idea: dado un elemento $x \\in \\{0,1\\}^n$ tal que $x$ está formado por todo $0$'s excepto un $1$ en la posición $j$-ésima. \n",
    "$$\n",
    "f(x) = s_j%2 = s_j.\n",
    "$$\n",
    "Entonces, si aplicamos la función a cada elemento del conjunto $\\{(10\\dots 0),(010\\dots 0)\\dots (0\\dots 0 1)\\}$ obtenemos los $n$ valores que componen a $s$ con un total de $n$ iteraciones.\n"
   ]
  },
  {
   "cell_type": "markdown",
   "metadata": {},
   "source": [
    "## Cuántica\n",
    "\n",
    "Explicamos ahora el funcionamiento del algoritmo de Bernstein-Vazirani para resolver el problema utilizando computación cuántica.\n",
    "\n",
    "Utilizaremos la siguiente propiedad del la puerta de Hadamard:\n",
    "\n",
    "**Proposición**. Sea $\\lvert a \\rangle$ un qbit de dimensión $n$ y $H^{\\otimes n}$ la puerta de Hadamard de dimensión $n$. Se verifica:\n",
    "$$\n",
    "H^{\\otimes n} \\lvert a \\rangle = \\frac{1}{\\sqrt{2^n}} \\sum_{x\\in\\{0,1\\}^n} (-1)^{a·x} \\lvert x \\rangle\n",
    "$$\n",
    "\n",
    "**Demostración.** Comprobar lo que se pide es equivalente a demostrar que la forma matricial de $H^{\\otimes n}$ es\n",
    "$$\n",
    "H^{\\otimes n} = \\frac{1}{2^{n/2}}\\begin{pmatrix}  (-1)^{i·j}\\end{pmatrix}_{i,j}\n",
    "$$"
   ]
  },
  {
   "cell_type": "markdown",
   "metadata": {},
   "source": [
    "Procedemos mediante un razonamiento inductivo. Sea $n = 1$.\n",
    "$$\n",
    "H^1 = \\frac{1}{\\sqrt{2}}\\begin{pmatrix} 1 & 1 \\\\ 1 & -1 \\end{pmatrix}\n",
    "$$\n",
    "La cual cumple la proposición. Supongamos ahora que $H^{\\otimes n-1}$ lo verifica, veamos que lo hace $H^{\\otimes n}$:\n",
    "$$\n",
    "H^{\\otimes n} = H^1 \\otimes H^{\\otimes n-1} = \\frac{1}{\\sqrt{2}} \\begin{pmatrix} H^{\\otimes n-1} & H^{\\otimes n-1} \\\\ H^{\\otimes n-1} & -H^{\\otimes n-1}\\end{pmatrix}\n",
    "$$\n",
    "El hecho de que el primer cuadrante (superior izquierdo) cumpla lo que buscamos es evidente, pues los indices $i,j$ son los mismos que hacen que $H^{\\otimes n-1}$ lo verifique. Por otro lado, para el resto de cuadrantes utilizamos la siguiente idea: los indices correspondientes al cuadrante superior derecho coindicen con añadir un 1 en binario a la izquierda del indice de las columnas y un 0 en el de las filas (viceversa en el cuadrante inferior izquierdo), es decir, sea $i$ y $j$ dos índices del primer cuadrante, los del segundo se pueden construir como $0i$ y $1j$ en binario. Por lo tanto, al realizar la multiplicación a nivel de bits, el resultado no se altera\n",
    "$$\n",
    "\\begin{pmatrix}  (-1)^{i·j}\\end{pmatrix}_{i,j} = \\begin{pmatrix}  (-1)^{i·(n+j)}\\end{pmatrix}_{i,j} = \\begin{pmatrix}  (-1)^{(i+n)·j}\\end{pmatrix}_{i,j}.\n",
    "$$\n",
    "Siguiendo la misma idea los indices correspondientes a el cuadrante inferior derecho son iguales a los originales añadiendo un 1 a ambos indices.\n",
    "$$\n",
    "\\begin{pmatrix}  (-1)^{(i+n)·(j+n)}\\end{pmatrix}_{i,j} = -1 \\begin{pmatrix}  (-1)^{i·j}\\end{pmatrix}_{i,j}.\n",
    "$$\n",
    "\n",
    "Notamos ahora que \n",
    "$$\n",
    "H^{\\otimes n} \\lvert 00\\dots 0 \\rangle = \\frac{1}{\\sqrt{2^n}} \\sum_{x\\in\\{0,1\\}^n} \\lvert x \\rangle\n",
    "$$"
   ]
  },
  {
   "cell_type": "markdown",
   "metadata": {},
   "source": [
    "Definimos entonces una puerta cuántica a partir de la función que buscamos \n",
    "$$\n",
    "F\\lvert x \\rangle = (-1)^{f(x)}\\lvert x \\rangle = (-1)^{s·x} \\lvert x \\rangle.\n",
    "$$\n",
    "Utilizando que la puerta de Hadamard es su propia inversa, tenemos:\n",
    "$$\n",
    " \\lvert 00\\dots 0 \\rangle \\xrightarrow{H^{\\otimes n}} \\frac{1}{\\sqrt{2^n}} \\sum_{x\\in\\{0,1\\}^n} \\lvert x \\rangle \\xrightarrow{F}  \\frac{1}{\\sqrt{2^n}} \\sum_{x\\in\\{0,1\\}^n} (-1)^{s·x} \\lvert x \\rangle \\xrightarrow{H^{\\otimes n}} \\lvert s \\rangle\n",
    "$$"
   ]
  },
  {
   "cell_type": "markdown",
   "metadata": {},
   "source": [
    "## Circuito Cuántico"
   ]
  },
  {
   "cell_type": "code",
   "execution_count": 41,
   "metadata": {},
   "outputs": [],
   "source": [
    "n = 5\n",
    "s = '01100'"
   ]
  },
  {
   "cell_type": "code",
   "execution_count": 45,
   "metadata": {},
   "outputs": [
    {
     "data": {
      "text/plain": [
       "<qiskit.circuit.instructionset.InstructionSet at 0x7f057dd0d580>"
      ]
     },
     "execution_count": 45,
     "metadata": {},
     "output_type": "execute_result"
    }
   ],
   "source": [
    "# Necesitamos 1 registro mas del tamaño de s\n",
    "q = QuantumRegister(n+1, 'q')\n",
    "# Tantos registros de escritura como bits tenga s\n",
    "c = ClassicalRegister(n, 'c')\n",
    "circuit = QuantumCircuit(q, c)\n",
    "\n",
    "# Aplicamos H a todos los qbits\n",
    "circuit.h(q)\n",
    "circuit.z(q[n])\n",
    "    \n",
    "# Apply barrier \n",
    "circuit.barrier()\n",
    "\n",
    "s = s[::-1]\n",
    "for i in range(n):\n",
    "    if s[i] != '0':\n",
    "        circuit.cnot(q[i], q[n])\n",
    "\n",
    "# Apply barrier \n",
    "circuit.barrier()\n",
    "\n",
    "circuit.h(q[0:n])\n",
    "\n",
    "\n",
    "circuit.measure(q[0:n], c[0:n])"
   ]
  },
  {
   "cell_type": "code",
   "execution_count": 46,
   "metadata": {},
   "outputs": [
    {
     "data": {
      "image/png": "[encoded data removed]",
      "text/plain": [
       "<Figure size 808.997x445.48 with 1 Axes>"
      ]
     },
     "execution_count": 46,
     "metadata": {},
     "output_type": "execute_result"
    }
   ],
   "source": [
    "circuit.draw(output='mpl')"
   ]
  },
  {
   "cell_type": "code",
   "execution_count": 47,
   "metadata": {},
   "outputs": [
    {
     "name": "stdout",
     "output_type": "stream",
     "text": [
      "Executing Job...\n",
      "\n",
      "Results:  {'01100': 1024}\n"
     ]
    }
   ],
   "source": [
    "# Set backend proider\n",
    "backend = provider.get_backend('ibmq_qasm_simulator')\n",
    "\n",
    "# Execute the circuit 1024 times\n",
    "job = execute(circuit, backend, shots=1024)\n",
    "\n",
    "print('Executing Job...\\n')\n",
    "result = job.result()\n",
    "counts = result.get_counts(circuit)\n",
    "\n",
    "print(\"Results: \", counts)"
   ]
  },
  {
   "cell_type": "code",
   "execution_count": null,
   "metadata": {},
   "outputs": [],
   "source": []
  }
 ],
 "metadata": {
  "kernelspec": {
   "display_name": "Python 3",
   "language": "python",
   "name": "python3"
  },
  "language_info": {
   "codemirror_mode": {
    "name": "ipython",
    "version": 3
   },
   "file_extension": ".py",
   "mimetype": "text/x-python",
   "name": "python",
   "nbconvert_exporter": "python",
   "pygments_lexer": "ipython3",
   "version": "3.8.5"
  }
 },
 "nbformat": 4,
 "nbformat_minor": 4
}
