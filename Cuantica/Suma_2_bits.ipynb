{
 "cells": [
  {
   "cell_type": "code",
   "execution_count": 2,
   "metadata": {},
   "outputs": [
    {
     "name": "stderr",
     "output_type": "stream",
     "text": [
      "/home/ludvins/.local/lib/python3.8/site-packages/qiskit/providers/ibmq/ibmqfactory.py:192: UserWarning: Timestamps in IBMQ backend properties, jobs, and job results are all now in local time instead of UTC.\n",
      "  warnings.warn('Timestamps in IBMQ backend properties, jobs, and job results '\n"
     ]
    }
   ],
   "source": [
    "%matplotlib inline\n",
    "# Importing standard Qiskit libraries and configuring account\n",
    "from qiskit import  QuantumRegister, ClassicalRegister, QuantumCircuit, execute, Aer, IBMQ\n",
    "from qiskit.compiler import transpile, assemble\n",
    "from qiskit.tools.jupyter import *\n",
    "from qiskit.visualization import *\n",
    "from qiskit_textbook.tools import array_to_latex\n",
    "\n",
    "# Loading your IBM Q account(s)\n",
    "provider = IBMQ.load_account()"
   ]
  },
  {
   "cell_type": "markdown",
   "metadata": {},
   "source": [
    "Realice el circuito cuántico que equivale a un sumador de dos bits."
   ]
  },
  {
   "cell_type": "code",
   "execution_count": 15,
   "metadata": {},
   "outputs": [
    {
     "data": {
      "text/plain": [
       "<qiskit.circuit.instructionset.InstructionSet at 0x7f3cd6ae0d60>"
      ]
     },
     "execution_count": 15,
     "metadata": {},
     "output_type": "execute_result"
    }
   ],
   "source": [
    "# Create 2 qubits\n",
    "q = QuantumRegister(4, 'q')\n",
    "\n",
    "c = ClassicalRegister(2, 'c')\n",
    "\n",
    "# Create a circuit\n",
    "circuit = QuantumCircuit(q, c)\n",
    "\n",
    "circuit.x(q[0])\n",
    "circuit.x(q[1])\n",
    "circuit.barrier()\n",
    "\n",
    "circuit.cnot(q[0], q[2])\n",
    "circuit.cnot(q[1], q[2])\n",
    "circuit.toffoli(q[0], q[1], q[3])\n",
    "circuit.barrier()\n",
    "\n",
    "circuit.measure([q[2], q[3]], [c[0], c[1]])"
   ]
  },
  {
   "cell_type": "code",
   "execution_count": 16,
   "metadata": {},
   "outputs": [
    {
     "data": {
      "image/png": "[encoded data removed]",
      "text/plain": [
       "<Figure size 568.197x325.08 with 1 Axes>"
      ]
     },
     "execution_count": 16,
     "metadata": {},
     "output_type": "execute_result"
    }
   ],
   "source": [
    "circuit.draw(output='mpl')"
   ]
  },
  {
   "cell_type": "markdown",
   "metadata": {},
   "source": [
    "El funcionamiento del circuito es el siguiente, en caso de existir un valor de $1$ en $q_0$ y/o $q_1$, se sumarán (en binario) estos valores en la entrada $q_2$, es decir, $q_2 = (q_0 + q_1)%2$. Por otro lado, en caso de que ambos registros sean $1$, se altera el valor de $q_3$ asignandole un 1, es decir, $q_3 = q_0 \\& q_1$.\n",
    "\n",
    "Al solo utilizar puertas NOT y CNOT e inicializar los qbits a $0$ o $1$, el circuito no presenta aleatoriedad, permitiendo sumar los valores de los bits."
   ]
  },
  {
   "cell_type": "code",
   "execution_count": 17,
   "metadata": {},
   "outputs": [
    {
     "name": "stdout",
     "output_type": "stream",
     "text": [
      "Executing Job...\n",
      "\n",
      "Results:  {'10': 1024}\n"
     ]
    }
   ],
   "source": [
    "# Set backend proider\n",
    "backend = provider.get_backend('ibmq_qasm_simulator')\n",
    "\n",
    "# Execute the circuit 1024 times\n",
    "job = execute(circuit, backend, shots=1024)\n",
    "\n",
    "print('Executing Job...\\n')\n",
    "result = job.result()\n",
    "counts = result.get_counts(circuit)\n",
    "\n",
    "print(\"Results: \", counts)"
   ]
  },
  {
   "cell_type": "code",
   "execution_count": null,
   "metadata": {},
   "outputs": [],
   "source": []
  }
 ],
 "metadata": {
  "kernelspec": {
   "display_name": "Python 3",
   "language": "python",
   "name": "python3"
  },
  "language_info": {
   "codemirror_mode": {
    "name": "ipython",
    "version": 3
   },
   "file_extension": ".py",
   "mimetype": "text/x-python",
   "name": "python",
   "nbconvert_exporter": "python",
   "pygments_lexer": "ipython3",
   "version": "3.8.5"
  }
 },
 "nbformat": 4,
 "nbformat_minor": 4
}
