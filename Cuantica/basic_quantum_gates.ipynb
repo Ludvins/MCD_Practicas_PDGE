{
 "cells": [
  {
   "cell_type": "markdown",
   "metadata": {},
   "source": [
    "*Luis Antonio Ortega Andrés    \n",
    "Antonio Coín Castro*"
   ]
  },
  {
   "cell_type": "code",
   "execution_count": 31,
   "metadata": {
    "ExecuteTime": {
     "end_time": "2020-11-25T15:46:07.792953Z",
     "start_time": "2020-11-25T15:46:03.599887Z"
    }
   },
   "outputs": [
    {
     "name": "stderr",
     "output_type": "stream",
     "text": [
      "/home/antcc/.local/lib/python3.8/site-packages/qiskit/providers/ibmq/ibmqfactory.py:192: UserWarning: Timestamps in IBMQ backend properties, jobs, and job results are all now in local time instead of UTC.\n",
      "  warnings.warn('Timestamps in IBMQ backend properties, jobs, and job results '\n",
      "ibmqfactory.load_account:WARNING:2020-11-25 16:46:04,400: Credentials are already in use. The existing account in the session will be replaced.\n"
     ]
    }
   ],
   "source": [
    "from qiskit import QuantumCircuit, Aer, IBMQ, execute\n",
    "from qiskit.visualization import plot_histogram, plot_bloch_multivector\n",
    "from qiskit_textbook.tools import array_to_latex\n",
    "\n",
    "import numpy as np\n",
    "%matplotlib inline\n",
    "\n",
    "# Load IBM account\n",
    "provider = IBMQ.load_account()"
   ]
  },
  {
   "cell_type": "markdown",
   "metadata": {},
   "source": [
    "# Algunas puertas cuánticas en Qiskit"
   ]
  },
  {
   "cell_type": "markdown",
   "metadata": {},
   "source": [
    "## Puertas de 1 qubit\n",
    "\n",
    "Probamos la puerta $X$ (*bit-flip*), la puerta $Y$ (*bit-and-phase flip*) y la puerta $Z$ (*phase flip*)."
   ]
  },
  {
   "cell_type": "code",
   "execution_count": 32,
   "metadata": {
    "ExecuteTime": {
     "end_time": "2020-11-25T15:46:14.137609Z",
     "start_time": "2020-11-25T15:46:14.119307Z"
    }
   },
   "outputs": [],
   "source": [
    "# Create 1-qubit circuits\n",
    "qcX = QuantumCircuit(1)\n",
    "qcY = QuantumCircuit(1)\n",
    "qcZ = QuantumCircuit(1)\n",
    "\n",
    "# Add gates connected to the only qubit q0\n",
    "qcX.x(0)\n",
    "qcY.y(0)\n",
    "_ = qcZ.z(0)"
   ]
  },
  {
   "cell_type": "code",
   "execution_count": 33,
   "metadata": {
    "ExecuteTime": {
     "end_time": "2020-11-25T15:46:14.700616Z",
     "start_time": "2020-11-25T15:46:14.350304Z"
    }
   },
   "outputs": [
    {
     "data": {
      "image/png": "[encoded data removed]",
      "text/plain": [
       "<Figure size 133.526x84.28 with 1 Axes>"
      ]
     },
     "execution_count": 33,
     "metadata": {},
     "output_type": "execute_result"
    }
   ],
   "source": [
    "qcX.draw('mpl')"
   ]
  },
  {
   "cell_type": "code",
   "execution_count": 34,
   "metadata": {
    "ExecuteTime": {
     "end_time": "2020-11-25T15:46:16.630144Z",
     "start_time": "2020-11-25T15:46:16.296032Z"
    }
   },
   "outputs": [
    {
     "data": {
      "image/png": "[encoded data removed]",
      "text/plain": [
       "<Figure size 133.526x84.28 with 1 Axes>"
      ]
     },
     "execution_count": 34,
     "metadata": {},
     "output_type": "execute_result"
    }
   ],
   "source": [
    "qcY.draw('mpl')"
   ]
  },
  {
   "cell_type": "code",
   "execution_count": 35,
   "metadata": {
    "ExecuteTime": {
     "end_time": "2020-11-25T15:46:16.954448Z",
     "start_time": "2020-11-25T15:46:16.642552Z"
    }
   },
   "outputs": [
    {
     "data": {
      "image/png": "[encoded data removed]",
      "text/plain": [
       "<Figure size 133.526x84.28 with 1 Axes>"
      ]
     },
     "execution_count": 35,
     "metadata": {},
     "output_type": "execute_result"
    }
   ],
   "source": [
    "qcZ.draw('mpl')"
   ]
  },
  {
   "cell_type": "markdown",
   "metadata": {},
   "source": [
    "Una vez construidos los circuitos, mostramos las matrices que intervienen. Sabemos que deberían ser:\n",
    "\n",
    "$$X=\\begin{pmatrix} 0 & 1\\\\ 1 & 0 \\end{pmatrix}, \\quad Y=\\begin{pmatrix} 0 & -i\\\\ i & 0 \\end{pmatrix}, \\quad Z=\\begin{pmatrix} 1 & 0\\\\ 0 & -1 \\end{pmatrix}$$"
   ]
  },
  {
   "cell_type": "code",
   "execution_count": 36,
   "metadata": {
    "ExecuteTime": {
     "end_time": "2020-11-25T15:46:19.269365Z",
     "start_time": "2020-11-25T15:46:19.216506Z"
    }
   },
   "outputs": [],
   "source": [
    "backend_unitary = Aer.get_backend('unitary_simulator')\n",
    "\n",
    "jobX = execute(qcX, backend_unitary)\n",
    "jobY = execute(qcY, backend_unitary)\n",
    "jobZ = execute(qcZ, backend_unitary)\n",
    "resultX = jobX.result()\n",
    "resultY = jobY.result()\n",
    "resultZ = jobZ.result()"
   ]
  },
  {
   "cell_type": "code",
   "execution_count": 37,
   "metadata": {
    "ExecuteTime": {
     "end_time": "2020-11-25T15:46:23.231941Z",
     "start_time": "2020-11-25T15:46:23.214130Z"
    }
   },
   "outputs": [
    {
     "name": "stdout",
     "output_type": "stream",
     "text": [
      "X gate:\n",
      " [[0.+0.j 1.+0.j]\n",
      " [1.+0.j 0.+0.j]]\n",
      "Y gate:\n",
      " [[0.-0.j 0.-1.j]\n",
      " [0.+1.j 0.+0.j]]\n",
      "Z gate:\n",
      " [[ 1.+0.j  0.+0.j]\n",
      " [-0.+0.j -1.+0.j]]\n"
     ]
    }
   ],
   "source": [
    "print(\"X gate:\\n\", resultX.get_unitary(qcX, decimals=3))\n",
    "print(\"Y gate:\\n\", resultY.get_unitary(qcY, decimals=3))\n",
    "print(\"Z gate:\\n\", resultZ.get_unitary(qcZ, decimals=3))"
   ]
  },
  {
   "cell_type": "markdown",
   "metadata": {},
   "source": [
    "Por último, ejecutamos las simulaciones y mostramos los resultados, tomando como qubit inicial el valor por defecto $|0\\rangle=(1, 0)^T$. Para ello, añadimos un registro clásico y una medida para hacer corresponder qubits a bits clásicos."
   ]
  },
  {
   "cell_type": "code",
   "execution_count": 38,
   "metadata": {
    "ExecuteTime": {
     "end_time": "2020-11-25T15:46:26.308628Z",
     "start_time": "2020-11-25T15:46:26.289598Z"
    }
   },
   "outputs": [],
   "source": [
    "# Create measurement circuit with 1 qubit and 1 bit\n",
    "meas = QuantumCircuit(1, 1)\n",
    "meas.measure([0], [0])\n",
    "\n",
    "qcX_meas = qcX + meas\n",
    "qcY_meas = qcY + meas\n",
    "qcZ_meas = qcZ + meas"
   ]
  },
  {
   "cell_type": "code",
   "execution_count": 39,
   "metadata": {
    "ExecuteTime": {
     "end_time": "2020-11-25T15:46:26.862742Z",
     "start_time": "2020-11-25T15:46:26.443971Z"
    }
   },
   "outputs": [
    {
     "data": {
      "image/png": "[encoded data removed]",
      "text/plain": [
       "<Figure size 193.726x144.48 with 1 Axes>"
      ]
     },
     "execution_count": 39,
     "metadata": {},
     "output_type": "execute_result"
    }
   ],
   "source": [
    "qcX_meas.draw('mpl')"
   ]
  },
  {
   "cell_type": "code",
   "execution_count": 40,
   "metadata": {
    "ExecuteTime": {
     "end_time": "2020-11-25T15:46:29.350786Z",
     "start_time": "2020-11-25T15:46:28.907929Z"
    }
   },
   "outputs": [
    {
     "data": {
      "image/png": "[encoded data removed]",
      "text/plain": [
       "<Figure size 193.726x144.48 with 1 Axes>"
      ]
     },
     "execution_count": 40,
     "metadata": {},
     "output_type": "execute_result"
    }
   ],
   "source": [
    "qcY_meas.draw('mpl')"
   ]
  },
  {
   "cell_type": "code",
   "execution_count": 41,
   "metadata": {
    "ExecuteTime": {
     "end_time": "2020-11-25T15:46:30.807748Z",
     "start_time": "2020-11-25T15:46:30.335734Z"
    }
   },
   "outputs": [
    {
     "data": {
      "image/png": "[encoded data removed]",
      "text/plain": [
       "<Figure size 193.726x144.48 with 1 Axes>"
      ]
     },
     "execution_count": 41,
     "metadata": {},
     "output_type": "execute_result"
    }
   ],
   "source": [
    "qcZ_meas.draw('mpl')"
   ]
  },
  {
   "cell_type": "code",
   "execution_count": 42,
   "metadata": {
    "ExecuteTime": {
     "end_time": "2020-11-25T15:46:33.740870Z",
     "start_time": "2020-11-25T15:46:33.668423Z"
    }
   },
   "outputs": [],
   "source": [
    "# Use Aer's qasm_simulator\n",
    "backend_sim = Aer.get_backend('qasm_simulator')\n",
    "\n",
    "# Execute the circuits on the simulator\n",
    "job_sim_X = execute(qcX_meas, backend_sim, shots=1024)\n",
    "job_sim_Y = execute(qcY_meas, backend_sim, shots=1024)\n",
    "job_sim_Z = execute(qcZ_meas, backend_sim, shots=1024)\n",
    "\n",
    "# Grab the results from the job and count measurements\n",
    "result_sim_X = job_sim_X.result()\n",
    "result_sim_Y = job_sim_Y.result()\n",
    "result_sim_Z = job_sim_Z.result()\n",
    "countsX = result_sim_X.get_counts(qcX_meas)\n",
    "countsY = result_sim_Y.get_counts(qcY_meas)\n",
    "countsZ = result_sim_Z.get_counts(qcZ_meas)"
   ]
  },
  {
   "cell_type": "markdown",
   "metadata": {},
   "source": [
    "Para la puerta $X$ deberíamos obtener siempre la misma salida:\n",
    "\n",
    "$$X|0\\rangle=\\begin{pmatrix} 0 & 1\\\\ 1 & 0 \\end{pmatrix}\\begin{pmatrix} 1\\\\ 0\\end{pmatrix} = \\begin{pmatrix}0\\\\ 1\\end{pmatrix}=|1\\rangle.$$"
   ]
  },
  {
   "cell_type": "code",
   "execution_count": 43,
   "metadata": {
    "ExecuteTime": {
     "end_time": "2020-11-25T15:46:36.590856Z",
     "start_time": "2020-11-25T15:46:36.219856Z"
    },
    "scrolled": true
   },
   "outputs": [
    {
     "data": {
      "image/png": "[encoded data removed]",
      "text/plain": [
       "<Figure size 504x360 with 1 Axes>"
      ]
     },
     "execution_count": 43,
     "metadata": {},
     "output_type": "execute_result"
    }
   ],
   "source": [
    "# Results for X gate\n",
    "plot_histogram(countsX)"
   ]
  },
  {
   "cell_type": "markdown",
   "metadata": {},
   "source": [
    "Para la puerta $Y$ tenemos:\n",
    "\n",
    "$$Y|0\\rangle=\\begin{pmatrix} 0 & -i\\\\ i & 0 \\end{pmatrix}\\begin{pmatrix} 1\\\\ 0\\end{pmatrix} = \\begin{pmatrix}0\\\\ i\\end{pmatrix}=i|1\\rangle.$$\n",
    "\n",
    "Es decir, obtendremos el qubit $|1\\rangle$ con probabilidad $|i|^2=1.$"
   ]
  },
  {
   "cell_type": "code",
   "execution_count": 44,
   "metadata": {
    "ExecuteTime": {
     "end_time": "2020-11-25T15:46:39.678463Z",
     "start_time": "2020-11-25T15:46:39.313813Z"
    }
   },
   "outputs": [
    {
     "data": {
      "image/png": "[encoded data removed]",
      "text/plain": [
       "<Figure size 504x360 with 1 Axes>"
      ]
     },
     "execution_count": 44,
     "metadata": {},
     "output_type": "execute_result"
    }
   ],
   "source": [
    "# Results for Y gate\n",
    "plot_histogram(countsX)"
   ]
  },
  {
   "cell_type": "markdown",
   "metadata": {},
   "source": [
    "Para la puerta $Z$ tenemos:\n",
    "\n",
    "$$Z|0\\rangle=\\begin{pmatrix} 1 & 0\\\\ 0 & -1 \\end{pmatrix}\\begin{pmatrix} 1\\\\ 0\\end{pmatrix} = \\begin{pmatrix}1\\\\ 0\\end{pmatrix}=|1\\rangle.$$\n",
    "\n",
    "Es decir, obtendremos el qubit $|1\\rangle$ con probabilidad $|1|^2=1.$"
   ]
  },
  {
   "cell_type": "code",
   "execution_count": 45,
   "metadata": {
    "ExecuteTime": {
     "end_time": "2020-11-25T15:46:42.627668Z",
     "start_time": "2020-11-25T15:46:42.187444Z"
    }
   },
   "outputs": [
    {
     "data": {
      "image/png": "[encoded data removed]",
      "text/plain": [
       "<Figure size 504x360 with 1 Axes>"
      ]
     },
     "execution_count": 45,
     "metadata": {},
     "output_type": "execute_result"
    }
   ],
   "source": [
    "# Results for Z gate\n",
    "plot_histogram(countsX)"
   ]
  },
  {
   "cell_type": "markdown",
   "metadata": {},
   "source": [
    "## Puertas de 2 qubits\n",
    "\n",
    "Probamos en este caso la puerta $C_X$, que introduce un qubit de control en la puerta $X$, que ahora solo se activa si el control es $|1\\rangle$. También se conoce como puerta CNOT (Controlled NOT, $\\oplus$). Consideramos que el qubit de control es $q_0$, el primero del circuito."
   ]
  },
  {
   "cell_type": "code",
   "execution_count": 46,
   "metadata": {
    "ExecuteTime": {
     "end_time": "2020-11-25T15:46:46.204821Z",
     "start_time": "2020-11-25T15:46:45.725586Z"
    }
   },
   "outputs": [
    {
     "data": {
      "image/png": "[encoded data removed]",
      "text/plain": [
       "<Figure size 146.652x144.48 with 1 Axes>"
      ]
     },
     "execution_count": 46,
     "metadata": {},
     "output_type": "execute_result"
    }
   ],
   "source": [
    "qc2 = QuantumCircuit(2)\n",
    "qc2.cx(0, 1)\n",
    "qc2.draw('mpl')"
   ]
  },
  {
   "cell_type": "markdown",
   "metadata": {},
   "source": [
    "Sabemos que la matriz representación de la puerta $C_X$ en este caso es:\n",
    "\n",
    "$$C_X=\\begin{pmatrix}1 & 0 & 0 & 0\\\\ 0 & 1 & 0 & 0\\\\ 0 & 0 & 0 & 1\\\\ 0 & 0 & 1 & 0\\end{pmatrix}.$$\n",
    "\n",
    "Esta representación de la matriz es la utilizada cuando se considera que el qubit más significativo es $q_0$ (es decir, cuando consideramos el estado conjunto $|q_0q_1\\rangle$, que es lo habitual). Si, por el contrario, se considera que $q_0$ es el qubit menos significativo (entendiendo que los estados conjuntos son de la forma $|q_1q_0\\rangle$), entonces la matriz a considerar es:\n",
    "\n",
    "$$\\tilde C_X=\\begin{pmatrix}1 & 0 & 0 & 0\\\\ 0 & 0 & 0 & 1\\\\ 0 & 0 & 1 & 0\\\\ 0 & 1 & 0 & 0\\end{pmatrix}.$$\n",
    "\n",
    "En Qiskit, los circuitos se leen \"de abajo hacia arriba\", por lo que el primer qubit es el menos significativo, y por tanto la matriz considerada internamente es $\\tilde C_X$. En concreto, **se permutan la segunda y la tercera fila y columna**, para hacer corresponder los únicos estados que cambian, $|01\\rangle \\leftrightsquigarrow |10\\rangle$.\n",
    "\n",
    "*Nota:* Si consideramos que el qubit de control es $q_1$, las dos matrices anteriores se intercambian."
   ]
  },
  {
   "cell_type": "code",
   "execution_count": 47,
   "metadata": {
    "ExecuteTime": {
     "end_time": "2020-11-25T15:46:50.873724Z",
     "start_time": "2020-11-25T15:46:50.843773Z"
    }
   },
   "outputs": [
    {
     "data": {
      "text/plain": [
       "array([[1.+0.j, 0.+0.j, 0.+0.j, 0.+0.j],\n",
       "       [0.+0.j, 0.+0.j, 0.+0.j, 1.+0.j],\n",
       "       [0.+0.j, 0.+0.j, 1.+0.j, 0.+0.j],\n",
       "       [0.+0.j, 1.+0.j, 0.+0.j, 0.+0.j]])"
      ]
     },
     "execution_count": 47,
     "metadata": {},
     "output_type": "execute_result"
    }
   ],
   "source": [
    "job = execute(qc2, backend_unitary)\n",
    "job.result().get_unitary(qc2, decimals=3)"
   ]
  },
  {
   "cell_type": "markdown",
   "metadata": {},
   "source": [
    "Pasamos ahora a hacer dos simulaciones, una con el qubit de control a $|0\\rangle$ y otra con el qubit de control a $|1\\rangle$, tomando en ambos casos $q_1=|0\\rangle$. En el primer caso, se tiene que la puerta está \"desactivada\", y se comporta como la identidad:\n",
    "\n",
    "$$C_X|00\\rangle=\\begin{pmatrix}1 & 0 & 0 & 0\\\\ 0 & 1 & 0 & 0\\\\ 0 & 0 & 0 & 1\\\\ 0 & 0 & 1 & 0\\end{pmatrix}\\begin{pmatrix}1\\\\0\\\\0\\\\0\\end{pmatrix}=\\begin{pmatrix}1\\\\0\\\\0\\\\0\\end{pmatrix}=|00\\rangle.$$"
   ]
  },
  {
   "cell_type": "code",
   "execution_count": 48,
   "metadata": {
    "ExecuteTime": {
     "end_time": "2020-11-25T15:46:53.920004Z",
     "start_time": "2020-11-25T15:46:53.225819Z"
    }
   },
   "outputs": [
    {
     "data": {
      "image/png": "[encoded data removed]",
      "text/plain": [
       "<Figure size 327.252x204.68 with 1 Axes>"
      ]
     },
     "execution_count": 48,
     "metadata": {},
     "output_type": "execute_result"
    }
   ],
   "source": [
    "meas = QuantumCircuit(2, 2)\n",
    "meas.measure([0, 1], [0, 1])\n",
    "qc2.barrier()\n",
    "qc2 += meas\n",
    "qc2.draw('mpl')"
   ]
  },
  {
   "cell_type": "code",
   "execution_count": 49,
   "metadata": {
    "ExecuteTime": {
     "end_time": "2020-11-25T15:46:56.270035Z",
     "start_time": "2020-11-25T15:46:55.829353Z"
    }
   },
   "outputs": [
    {
     "data": {
      "image/png": "[encoded data removed]",
      "text/plain": [
       "<Figure size 504x360 with 1 Axes>"
      ]
     },
     "execution_count": 49,
     "metadata": {},
     "output_type": "execute_result"
    }
   ],
   "source": [
    "job_sim2 = execute(qc2, backend_sim, shots=1024)\n",
    "result_sim2 = job_sim2.result()\n",
    "counts2 = result_sim2.get_counts(qc2)\n",
    "plot_histogram(counts2)"
   ]
  },
  {
   "cell_type": "markdown",
   "metadata": {},
   "source": [
    "En el segundo caso, como la puerta está \"activada\", se comporta como la puerta $X$ en el segundo qubit:\n",
    "\n",
    "$$C_X|10\\rangle=\\begin{pmatrix}1 & 0 & 0 & 0\\\\ 0 & 1 & 0 & 0\\\\ 0 & 0 & 0 & 1\\\\ 0 & 0 & 1 & 0\\end{pmatrix}\\begin{pmatrix}0\\\\0\\\\1\\\\0\\end{pmatrix}=\\begin{pmatrix}0\\\\0\\\\0\\\\1\\end{pmatrix}=|11\\rangle.$$"
   ]
  },
  {
   "cell_type": "code",
   "execution_count": 50,
   "metadata": {
    "ExecuteTime": {
     "end_time": "2020-11-25T15:47:00.949458Z",
     "start_time": "2020-11-25T15:46:59.920545Z"
    }
   },
   "outputs": [
    {
     "data": {
      "image/png": "[encoded data removed]",
      "text/plain": [
       "<Figure size 387.452x204.68 with 1 Axes>"
      ]
     },
     "execution_count": 50,
     "metadata": {},
     "output_type": "execute_result"
    }
   ],
   "source": [
    "qc2bis = QuantumCircuit(2)\n",
    "qc2bis.initialize([0, 1], 0)\n",
    "qc2bis.cx(0, 1)\n",
    "qc2bis.barrier()\n",
    "qc2bis += meas\n",
    "qc2bis.draw('mpl')"
   ]
  },
  {
   "cell_type": "code",
   "execution_count": 51,
   "metadata": {
    "ExecuteTime": {
     "end_time": "2020-11-25T15:47:03.202413Z",
     "start_time": "2020-11-25T15:47:02.758418Z"
    }
   },
   "outputs": [
    {
     "data": {
      "image/png": "[encoded data removed]",
      "text/plain": [
       "<Figure size 504x360 with 1 Axes>"
      ]
     },
     "execution_count": 51,
     "metadata": {},
     "output_type": "execute_result"
    }
   ],
   "source": [
    "job_sim2bis = execute(qc2bis, backend_sim, shots=1024)\n",
    "result_sim2bis = job_sim2bis.result()\n",
    "counts2bis = result_sim2bis.get_counts(qc2bis)\n",
    "plot_histogram(counts2bis)"
   ]
  },
  {
   "cell_type": "markdown",
   "metadata": {},
   "source": [
    "De modo análogo pueden definirse las puertas $C_Y$ y $C_Z$. En general, si $U$ es una puerta dada por \n",
    "$$U=\\begin{pmatrix}u_{00} & u_{01}\\\\ u_{10} & u_{11}\\end{pmatrix},$$\n",
    "\n",
    "entonces la puerta $C_U$ (donde el primer qubit es el de control) viene dada por:\n",
    "\n",
    "$$C_U=\\begin{pmatrix}1 & 0 & 0 & 0\\\\\n",
    "0 & 1 & 0 & 0\\\\\n",
    "0 & 0 & u_{00} & u_{01}\\\\ 0 & 0 & u_{10} & u_{11}\\end{pmatrix}.$$"
   ]
  },
  {
   "cell_type": "markdown",
   "metadata": {},
   "source": [
    "## Puertas en serie y en paralelo\n",
    "\n",
    "Por último, veamos los circuitos más sencillos que podemos construir con dos puertas de un qubit (la generalización al caso de puertas con varios qubits es inmediata)."
   ]
  },
  {
   "cell_type": "markdown",
   "metadata": {},
   "source": [
    "### Puertas en serie\n",
    "En primer lugar consideramos el caso de puertas en serie. Por ejemplo, queremos combinar la salida de la puerta $X$ aplicada al qubit $|\\psi\\rangle=\\frac{i}{\\sqrt{2}}|0\\rangle + \\frac{1}{\\sqrt{2}}|1\\rangle$ con la puerta $Y$. Teóricamente, se tendría:\n",
    "\n",
    "$$Y(X|\\psi\\rangle)= YX|\\psi\\rangle=\\begin{pmatrix} 0 & -i\\\\ i & 0 \\end{pmatrix}\\begin{pmatrix} 0 & 1\\\\ 1 & 0 \\end{pmatrix}\\frac{1}{\\sqrt{2}}\\begin{pmatrix} i\\\\ 1\\end{pmatrix} = \\frac{1}{\\sqrt{2}}\\begin{pmatrix} -i & 0\\\\ 0 & i \\end{pmatrix}\n",
    "\\begin{pmatrix} i\\\\ 1\\end{pmatrix}=\\frac{1}{\\sqrt{2}}\\begin{pmatrix}1\\\\ i\\end{pmatrix}=|\\psi\\rangle=\\frac{1}{\\sqrt{2}}|0\\rangle + \\frac{i}{\\sqrt{2}}|1\\rangle.$$\n",
    "\n",
    "Es decir, deberíamos obtener como salida $|0\\rangle$ y $|1\\rangle$ con la misma probabilidad $\\left|\\frac{1}{\\sqrt{2}}\\right|^2=\\left|\\frac{i}{\\sqrt{2}}\\right|^2=\\frac{1}{2}.$"
   ]
  },
  {
   "cell_type": "code",
   "execution_count": 52,
   "metadata": {
    "ExecuteTime": {
     "end_time": "2020-11-25T15:47:14.302839Z",
     "start_time": "2020-11-25T15:47:13.888200Z"
    }
   },
   "outputs": [
    {
     "data": {
      "image/png": "[encoded data removed]",
      "text/plain": [
       "<Figure size 193.726x84.28 with 1 Axes>"
      ]
     },
     "execution_count": 52,
     "metadata": {},
     "output_type": "execute_result"
    }
   ],
   "source": [
    "qc_orig = QuantumCircuit(1)\n",
    "qc_orig.x(0)\n",
    "qc_orig.y(0)\n",
    "qc_orig.draw('mpl')"
   ]
  },
  {
   "cell_type": "markdown",
   "metadata": {},
   "source": [
    "Podemos comprobar que, efectivamente, la matriz del circuito corresponde a la matriz $YX$ que hemos calculado arriba."
   ]
  },
  {
   "cell_type": "code",
   "execution_count": 53,
   "metadata": {
    "ExecuteTime": {
     "end_time": "2020-11-25T15:47:16.622744Z",
     "start_time": "2020-11-25T15:47:16.589509Z"
    }
   },
   "outputs": [
    {
     "name": "stdout",
     "output_type": "stream",
     "text": [
      "Matriz unitaria del circuito:\n"
     ]
    },
    {
     "data": {
      "text/plain": [
       "array([[0.-1.j, 0.-0.j],\n",
       "       [0.+0.j, 0.+1.j]])"
      ]
     },
     "execution_count": 53,
     "metadata": {},
     "output_type": "execute_result"
    }
   ],
   "source": [
    "job = execute(qc_orig, backend_unitary)\n",
    "print(\"Matriz unitaria del circuito:\")\n",
    "job.result().get_unitary(qc_orig, decimals=3)"
   ]
  },
  {
   "cell_type": "markdown",
   "metadata": {},
   "source": [
    "Modificamos el circuito para que tenga en cuenta el estado inicial $|\\psi\\rangle$."
   ]
  },
  {
   "cell_type": "code",
   "execution_count": 58,
   "metadata": {
    "ExecuteTime": {
     "end_time": "2020-11-25T15:57:02.500543Z",
     "start_time": "2020-11-25T15:57:01.970592Z"
    }
   },
   "outputs": [
    {
     "data": {
      "image/png": "[encoded data removed]",
      "text/plain": [
       "<Figure size 314.126x84.28 with 1 Axes>"
      ]
     },
     "execution_count": 58,
     "metadata": {},
     "output_type": "execute_result"
    }
   ],
   "source": [
    "qc = QuantumCircuit(1)\n",
    "qc.initialize([1.0j/np.sqrt(2), 1.0/np.sqrt(2)], 0)\n",
    "qc.x(0)\n",
    "qc.y(0)\n",
    "qc.draw('mpl')"
   ]
  },
  {
   "cell_type": "markdown",
   "metadata": {},
   "source": [
    "Podemos estudiar el vector de estados tras una simulación (antes de medir), y ver que efectivamente es $\\frac{1}{\\sqrt{2}}(1, i)^T$. Visualmente, se encuentra en el ecuador de la esfera de Bloch, lo que indica equiprobabilidad entre los estados $|0\\rangle$ y $|1\\rangle$."
   ]
  },
  {
   "cell_type": "code",
   "execution_count": 59,
   "metadata": {
    "ExecuteTime": {
     "end_time": "2020-11-25T15:57:16.183366Z",
     "start_time": "2020-11-25T15:57:15.267680Z"
    }
   },
   "outputs": [
    {
     "data": {
      "text/latex": [
       "$\\displaystyle \n",
       "\\text{Statevector = }\\begin{bmatrix}\n",
       "\\tfrac{1}{\\sqrt{2}} \\\\\n",
       "\\tfrac{1}{\\sqrt{2}}i\n",
       "\\end{bmatrix}\n",
       "$"
      ],
      "text/plain": [
       "<IPython.core.display.Math object>"
      ]
     },
     "metadata": {},
     "output_type": "display_data"
    },
    {
     "name": "stdout",
     "output_type": "stream",
     "text": [
      "None\n"
     ]
    },
    {
     "data": {
      "image/png": "[encoded data removed]",
      "text/plain": [
       "<Figure size 288x288 with 1 Axes>"
      ]
     },
     "execution_count": 59,
     "metadata": {},
     "output_type": "execute_result"
    }
   ],
   "source": [
    "backend_state = Aer.get_backend('statevector_simulator')\n",
    "psi = execute(qc, backend_state).result().get_statevector()\n",
    "print(array_to_latex(psi, pretext=\"\\\\text{Statevector = }\"))\n",
    "plot_bloch_multivector(psi)"
   ]
  },
  {
   "cell_type": "markdown",
   "metadata": {},
   "source": [
    "Si añadimos una medición al final de nuestro circuito y lo simulamos muchas veces, podemos comprobar como aproximadamente en la mitad de los casos colapsa al estado $|0\\rangle$ y en la otra mitad al $|1\\rangle$."
   ]
  },
  {
   "cell_type": "code",
   "execution_count": 60,
   "metadata": {
    "ExecuteTime": {
     "end_time": "2020-11-25T15:58:12.832550Z",
     "start_time": "2020-11-25T15:58:12.278297Z"
    }
   },
   "outputs": [
    {
     "data": {
      "image/png": "[encoded data removed]",
      "text/plain": [
       "<Figure size 374.326x144.48 with 1 Axes>"
      ]
     },
     "execution_count": 60,
     "metadata": {},
     "output_type": "execute_result"
    }
   ],
   "source": [
    "meas = QuantumCircuit(1, 1)\n",
    "meas.measure([0], [0])\n",
    "qc_meas = qc + meas\n",
    "qc_meas.draw('mpl')"
   ]
  },
  {
   "cell_type": "code",
   "execution_count": 62,
   "metadata": {
    "ExecuteTime": {
     "end_time": "2020-11-25T15:58:18.515452Z",
     "start_time": "2020-11-25T15:58:18.062797Z"
    }
   },
   "outputs": [
    {
     "data": {
      "image/png": "[encoded data removed]",
      "text/plain": [
       "<Figure size 504x360 with 1 Axes>"
      ]
     },
     "execution_count": 62,
     "metadata": {},
     "output_type": "execute_result"
    }
   ],
   "source": [
    "job_sim = execute(qc_meas, backend_sim, shots=1024)\n",
    "result_sim = job_sim.result()\n",
    "counts = result_sim.get_counts(qc_meas)\n",
    "plot_histogram(counts)"
   ]
  },
  {
   "cell_type": "markdown",
   "metadata": {},
   "source": [
    "### Puertas en paralelo\n",
    "\n",
    "Finalmente analizamos el caso ligeramente más complejo de puertas en paralelo. Podemos hacer un análisis conjunto de las puertas, e incluso combinar sus matrices para conseguir una nueva matriz que poder aplicar al estado conjunto. Por ejemplo, si aplicamos la puerta $X$ al qubit $q_0$ y la puerta $Y$ al qubit $q_1$, el resultado conjunto de $X|q_0\\rangle \\otimes Y|q_1\\rangle$ puede expresarse como el resultado de multiplicar la matriz $X \\otimes Y$ por el vector conjunto $|q_0q_1\\rangle$. Veámoslo para $q_0=q_1=0$. Por un lado,\n",
    "\n",
    "$$X|0\\rangle = |1\\rangle, \\quad Y|0\\rangle = i|0\\rangle$$\n",
    "$$X|0\\rangle \\otimes Y|0\\rangle=\\begin{pmatrix}0\\\\1\\end{pmatrix}\\otimes \\begin{pmatrix}i\\\\0\\end{pmatrix}=\\begin{pmatrix}0\\\\0\\\\0\\\\i\\end{pmatrix}=i|11\\rangle$$\n",
    "\n",
    "Por otro lado:\n",
    "$$X \\otimes Y = \\begin{pmatrix} 0 & Y\\\\Y & 0\\end{pmatrix}=\\begin{pmatrix} 0 & 0 & 0 & -i\\\\0 & 0 & i & 0\\\\ 0 & -i & 0 & 0\\\\i & 0 & 0 & 0\\end{pmatrix}$$\n",
    "$$(X\\otimes Y)|00\\rangle= \\begin{pmatrix} 0 & 0 & 0 & -i\\\\0 & 0 & i & 0\\\\ 0 & -i & 0 & 0\\\\i & 0 & 0 & 0\\end{pmatrix}\\begin{pmatrix}1\\\\0\\\\0\\\\0\\end{pmatrix}=\\begin{pmatrix}0\\\\0\\\\0\\\\i\\end{pmatrix}=i|11\\rangle$$"
   ]
  },
  {
   "cell_type": "code",
   "execution_count": 63,
   "metadata": {
    "ExecuteTime": {
     "end_time": "2020-11-25T15:58:24.526904Z",
     "start_time": "2020-11-25T15:58:23.826648Z"
    }
   },
   "outputs": [
    {
     "data": {
      "image/png": "[encoded data removed]",
      "text/plain": [
       "<Figure size 327.252x204.68 with 1 Axes>"
      ]
     },
     "execution_count": 63,
     "metadata": {},
     "output_type": "execute_result"
    }
   ],
   "source": [
    "qc_par = QuantumCircuit(2)\n",
    "qc_par.x(0)\n",
    "qc_par.y(1)\n",
    "qc_par.draw('mpl')\n",
    "qc_par.barrier()\n",
    "meas = QuantumCircuit(2, 2)\n",
    "meas.measure([0, 1], [0, 1])\n",
    "qc_meas_par = qc_par + meas\n",
    "qc_meas_par.draw('mpl')"
   ]
  },
  {
   "cell_type": "markdown",
   "metadata": {},
   "source": [
    "Podemos mostrar la matriz unitaria del circuito. Como en Qiskit el qubit $q_0$ es el menos significativo, la matriz cambia con respecto a la que mostramos antes, permutando la segunda y tercera fila y columna."
   ]
  },
  {
   "cell_type": "code",
   "execution_count": 64,
   "metadata": {
    "ExecuteTime": {
     "end_time": "2020-11-25T15:58:26.724024Z",
     "start_time": "2020-11-25T15:58:26.682637Z"
    }
   },
   "outputs": [
    {
     "name": "stdout",
     "output_type": "stream",
     "text": [
      "Matriz unitaria del circuito:\n"
     ]
    },
    {
     "data": {
      "text/plain": [
       "array([[0.-0.j, 0.-0.j, 0.-0.j, 0.-1.j],\n",
       "       [0.-0.j, 0.-0.j, 0.-1.j, 0.-0.j],\n",
       "       [0.+0.j, 0.+1.j, 0.+0.j, 0.+0.j],\n",
       "       [0.+1.j, 0.+0.j, 0.+0.j, 0.+0.j]])"
      ]
     },
     "execution_count": 64,
     "metadata": {},
     "output_type": "execute_result"
    }
   ],
   "source": [
    "job = execute(qc_par, backend_unitary)\n",
    "print(\"Matriz unitaria del circuito:\")\n",
    "job.result().get_unitary(qc_par, decimals=3)"
   ]
  },
  {
   "cell_type": "markdown",
   "metadata": {},
   "source": [
    "Finalmente podemos ejecutar el circuito, aunque sabemos que obtendremos siempre el estado $|11\\rangle$ (con probabilidad $|i|^2=1$)."
   ]
  },
  {
   "cell_type": "code",
   "execution_count": 65,
   "metadata": {
    "ExecuteTime": {
     "end_time": "2020-11-25T15:58:29.591797Z",
     "start_time": "2020-11-25T15:58:29.132107Z"
    }
   },
   "outputs": [
    {
     "data": {
      "image/png": "[encoded data removed]",
      "text/plain": [
       "<Figure size 504x360 with 1 Axes>"
      ]
     },
     "execution_count": 65,
     "metadata": {},
     "output_type": "execute_result"
    }
   ],
   "source": [
    "job_sim = execute(qc_meas_par, backend_sim)\n",
    "result_sim = job_sim.result()\n",
    "counts = result_sim.get_counts(qc_meas_par)\n",
    "plot_histogram(counts)"
   ]
  }
 ],
 "metadata": {
  "kernelspec": {
   "display_name": "Python 3",
   "language": "python",
   "name": "python3"
  },
  "language_info": {
   "codemirror_mode": {
    "name": "ipython",
    "version": 3
   },
   "file_extension": ".py",
   "mimetype": "text/x-python",
   "name": "python",
   "nbconvert_exporter": "python",
   "pygments_lexer": "ipython3",
   "version": "3.8.6"
  },
  "latex_envs": {
   "LaTeX_envs_menu_present": false,
   "autoclose": true,
   "autocomplete": false,
   "bibliofile": "bibliography.bib",
   "cite_by": "apalike",
   "current_citInitial": 1,
   "eqLabelWithNumbers": true,
   "eqNumInitial": 1,
   "hotkeys": {
    "equation": "Ctrl-E",
    "itemize": "Ctrl-I"
   },
   "labels_anchors": false,
   "latex_user_defs": false,
   "report_style_numbering": false,
   "user_envs_cfg": false
  },
  "toc": {
   "base_numbering": 1,
   "nav_menu": {},
   "number_sections": true,
   "sideBar": true,
   "skip_h1_title": false,
   "title_cell": "Table of Contents",
   "title_sidebar": "Contents",
   "toc_cell": false,
   "toc_position": {},
   "toc_section_display": true,
   "toc_window_display": false
  },
  "varInspector": {
   "cols": {
    "lenName": 16,
    "lenType": 16,
    "lenVar": 40
   },
   "kernels_config": {
    "python": {
     "delete_cmd_postfix": "",
     "delete_cmd_prefix": "del ",
     "library": "var_list.py",
     "varRefreshCmd": "print(var_dic_list())"
    },
    "r": {
     "delete_cmd_postfix": ") ",
     "delete_cmd_prefix": "rm(",
     "library": "var_list.r",
     "varRefreshCmd": "cat(var_dic_list()) "
    }
   },
   "types_to_exclude": [
    "module",
    "function",
    "builtin_function_or_method",
    "instance",
    "_Feature"
   ],
   "window_display": false
  }
 },
 "nbformat": 4,
 "nbformat_minor": 4
}
