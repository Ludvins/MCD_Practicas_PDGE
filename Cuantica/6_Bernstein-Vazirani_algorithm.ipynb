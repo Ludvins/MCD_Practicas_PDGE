{
 "cells": [
  {
   "cell_type": "markdown",
   "metadata": {},
   "source": [
    "*Luis Antonio Ortega Andrés   \n",
    "Antonio Coín Castro*"
   ]
  },
  {
   "cell_type": "code",
   "execution_count": 9,
   "metadata": {
    "ExecuteTime": {
     "end_time": "2020-11-27T16:14:42.989220Z",
     "start_time": "2020-11-27T16:14:38.485721Z"
    }
   },
   "outputs": [
    {
     "name": "stderr",
     "output_type": "stream",
     "text": [
      "ibmqfactory.load_account:WARNING:2020-11-27 17:14:39,589: Credentials are already in use. The existing account in the session will be replaced.\n"
     ]
    }
   ],
   "source": [
    "from qiskit import QuantumCircuit, QuantumRegister, ClassicalRegister, Aer, IBMQ, execute\n",
    "from qiskit.visualization import plot_histogram\n",
    "from qiskit.providers.ibmq import least_busy\n",
    "\n",
    "%matplotlib inline\n",
    "\n",
    "# Load IBM account\n",
    "provider = IBMQ.load_account()"
   ]
  },
  {
   "cell_type": "markdown",
   "metadata": {},
   "source": [
    "# Algoritmo de Bernstein-Vazirani\n",
    "\n",
    "Estudiamos el enfoque cuántico del [algoritmo de Bernstein-Vazirani](https://en.wikipedia.org/wiki/Bernstein%E2%80%93Vazirani_algorithm)."
   ]
  },
  {
   "cell_type": "markdown",
   "metadata": {},
   "source": [
    "## Planteamiento del problema"
   ]
  },
  {
   "cell_type": "markdown",
   "metadata": {},
   "source": [
    "Consideramos un natural $n \\in \\mathbb{N}$ fijo y conocido, una cadena binaria $s \\in \\{0,1\\}^n$ desconocida, y la aplicación (conocida)\n",
    "\n",
    "$$\n",
    "\\begin{aligned}\n",
    "f:\\{0,1\\}^n &\\to \\{0,1\\}\\\\\n",
    "x &\\mapsto x\\cdot s,\n",
    "\\end{aligned}\n",
    "$$\n",
    "\n",
    "donde $\\cdot$ es el producto escalar bit a bit módulo 2. Es decir, si $s = s_0s_1,\\dots,s_{n-1}$ y $x = x_0,x_1,\\dots,x_{n-1}$, entonces\n",
    "\n",
    "$$\n",
    "x\\cdot s = \\sum_{i=0}^{n-1} x_is_i\\, \\bmod 2.\n",
    "$$\n",
    "\n",
    "Resolver el problema consiste en encontrar el valor de la cadena secreta $s$."
   ]
  },
  {
   "cell_type": "markdown",
   "metadata": {},
   "source": [
    "## Resolución clásica\n",
    "\n",
    "El algoritmo clásico para resolver el problema se basa en la siguiente idea: dado un elemento $x^{(j)} \\in \\{0,1\\}^n$ formado por todo $0$s excepto un $1$ en la posición $j$-ésima, se tiene que\n",
    "\n",
    "$$\n",
    "f(x^{(j)}) = s_j.\n",
    "$$\n",
    "\n",
    "Entonces, si aplicamos la función $f$ a cada elemento del conjunto $\\left\\{ x^{(j)} : j=0,1,\\dots,n-1\\right\\}$, obtendremos los $n$ bits que componen a $s$. Notamos que el número de consultas necesarias a $f$ es justamente $n$, el tamaño de $s$. Por tanto, se trata de un algoritmo que escala de manera **lineal** con el tamaño del secreto.\n"
   ]
  },
  {
   "cell_type": "markdown",
   "metadata": {},
   "source": [
    "## Resolución cuántica\n",
    "\n",
    "Explicamos ahora el funcionamiento del algoritmo de Bernstein-Vazirani para resolver el problema utilizando computación cuántica. La novedad de este algoritmo es que requiere una única consulta a la función $f$, mejorando la eficiencia lineal del algoritmo clásico.\n",
    "\n",
    "Utilizaremos la siguiente propiedad del la puerta de Hadamard:\n",
    "\n",
    "**Lema (Nielsen and Chuang (2010), eq. 1.50)**. Sea $\\lvert a \\rangle$ un qubit básico de dimensión $n$ y $H^{\\otimes n}$ la puerta de Hadamard de dimensión $n$. Se verifica:\n",
    "\n",
    "$$\n",
    "H^{\\otimes n} \\lvert a \\rangle = \\frac{1}{\\sqrt{2^n}} \\sum_{x\\in\\{0,1\\}^n} (-1)^{a·x} \\lvert x \\rangle.\n",
    "$$\n",
    "\n",
    "*Demostración.* Procedemos mediante un un razonamiento inductivo. Para $n = 1$, se comprueba fácilmente que\n",
    "$$\n",
    "H \\lvert a \\rangle = \\frac{1}{\\sqrt{2}}(\\lvert 0 \\rangle + (-1)^a \\lvert 1 \\rangle) = \\sum_{x=0}^1 (-1)^{ax}\\lvert x \\rangle.\n",
    "$$\n",
    "\n",
    "Para $n > 1$, se tiene que:\n",
    "$$\n",
    "H^{\\otimes n} \\lvert a \\rangle = \\bigotimes_{i=1}^n \\frac{1}{\\sqrt{2^n}}\\sum_{x_i = 0}^1 (-1)^{a_i x_i} \\lvert x_i \\rangle  =\\frac{1}{\\sqrt{2^n}}\\sum_{x \\in \\{0,1\\}^n}  \\bigotimes_{i=1}^n (-1)^{a_i x_i} \\lvert x \\rangle =\\frac{1}{\\sqrt{2^n}}\\sum_{x \\in \\{0,1\\}^n} (-1)^{\\sum_{i=1}^n a_i x_i} \\lvert x \\rangle = \\frac{1}{\\sqrt{2^n}}\\sum_{x \\in \\{0,1\\}^n} (-1)^{a · x} \\lvert x \\rangle .\n",
    "$$\n",
    "\n",
    "**Corolario**. En particular se tiene que:\n",
    "$$\n",
    "H^{\\otimes n} \\lvert 0 \\rangle ^{\\otimes n} = \\frac{1}{\\sqrt{2^n}} \\sum_{x\\in\\{0,1\\}^n} \\lvert x \\rangle.\n",
    "$$"
   ]
  },
  {
   "cell_type": "markdown",
   "metadata": {},
   "source": [
    "Definimos entonces una puerta cuántica a partir de la función que buscamos:\n",
    "\n",
    "$$\n",
    "U_f\\lvert x \\rangle = (-1)^{f(x)}\\lvert x \\rangle = (-1)^{s·x} \\lvert x \\rangle.\n",
    "$$\n",
    "\n",
    "Se comprueba inmediatamente que se trata de una auténtica puerta cuántica (es reversible). Ahora, utilizando que la puerta de Hadamard es su propia inversa, tenemos:\n",
    "\n",
    "$$\n",
    " \\lvert 00\\dots 0 \\rangle \\xrightarrow{H^{\\otimes n}} \\frac{1}{\\sqrt{2^n}} \\sum_{x\\in\\{0,1\\}^n} \\lvert x \\rangle \\xrightarrow{U_f}  \\frac{1}{\\sqrt{2^n}} \\sum_{x\\in\\{0,1\\}^n} (-1)^{s·x} \\lvert x \\rangle \\xrightarrow{H^{\\otimes n}} \\lvert s \\rangle.\n",
    "$$"
   ]
  },
  {
   "cell_type": "markdown",
   "metadata": {},
   "source": [
    "## Circuito Cuántico\n",
    "\n",
    "La construcción del circuito cuántico se basa en tres etapas:\n",
    "\n",
    "1. Utilizar un qubit más de la longitud de $s$ y aplicar una puerta $H$ a cada qubit. Aplicamos además una puerta $Z$ al último qubit, que a partir de entonces actúa como qubit de signo, poniendo con signo \"$-$\" aquellos estados que tuvieran un $1$ como qubit más significativo.\n",
    "2. Aplicamos la función $U_f$ a los qubits, lo cual consiste en alterar el bit de signo de cada estado tanto como indique la salida de la función.\n",
    "3. Aplicamos las puertas $H$ nuevamente para obtener $s$. \n",
    "\n",
    "La idea es usar el entrelazamiento cuántico que implica la aplicación de las puertas $H$, de forma que actuando únicamente sobre el último qubit de signo, los cambios se \"propagan\" al resto. Realmente, estamos aprovechando el fenómeno de *phase kickback* para transmitir información del qubit de signo a los anteriores (ver cuaderno sobre *phase kickback*)."
   ]
  },
  {
   "cell_type": "markdown",
   "metadata": {},
   "source": [
    "## Ejemplo práctico\n",
    "\n",
    "Vamos a construir el circuito que resuelve el problema de encontrar un secreto $s$ de longitud $6$. Por ejemplo, consideramos $s=011001$."
   ]
  },
  {
   "cell_type": "code",
   "execution_count": 2,
   "metadata": {
    "ExecuteTime": {
     "end_time": "2020-11-27T13:15:23.216850Z",
     "start_time": "2020-11-27T13:15:23.209728Z"
    }
   },
   "outputs": [],
   "source": [
    "n = 6\n",
    "s = '011001'"
   ]
  },
  {
   "cell_type": "markdown",
   "metadata": {},
   "source": [
    "Para construir la puerta $U_f$, nos basamos en la idea de que debemos modificar el bit de signo tantas veces como $1$s haya en $s$, ya que son los únicos que influyen. Para implementar esta idea nos basamos en las puertas CNOT, que pueden controlar a través del qubit de control si hay un $1$ en la posición que nos interesa, y en ese caso hacer un *flip* del qubit de signo.\n",
    "\n",
    "Debemos tener en cuenta la convención de Qiskit de leer los qubits \"al revés\"."
   ]
  },
  {
   "cell_type": "code",
   "execution_count": 3,
   "metadata": {
    "ExecuteTime": {
     "end_time": "2020-11-27T13:15:23.733771Z",
     "start_time": "2020-11-27T13:15:23.220824Z"
    }
   },
   "outputs": [
    {
     "data": {
      "image/png": "[encoded data removed]",
      "text/plain": [
       "<Figure size 267.197x445.48 with 1 Axes>"
      ]
     },
     "execution_count": 3,
     "metadata": {},
     "output_type": "execute_result"
    }
   ],
   "source": [
    "circuit_uf = QuantumCircuit(n + 1, name = \"  Oracle Uf  \")\n",
    "\n",
    "# Añadimos puertas CNOT\n",
    "s_inv = s[::-1]\n",
    "for i in range(n):\n",
    "    if s_inv[i] != '0':\n",
    "        circuit_uf.cnot(i, n)\n",
    "        \n",
    "circuit_uf.draw('mpl')"
   ]
  },
  {
   "cell_type": "markdown",
   "metadata": {},
   "source": [
    "Convertimos nuestro subcircuito en una caja negra, que será la que usaremos en el circuito definitivo."
   ]
  },
  {
   "cell_type": "code",
   "execution_count": 4,
   "metadata": {
    "ExecuteTime": {
     "end_time": "2020-11-27T13:15:23.742469Z",
     "start_time": "2020-11-27T13:15:23.736316Z"
    }
   },
   "outputs": [],
   "source": [
    "Uf = circuit_uf.to_instruction()"
   ]
  },
  {
   "cell_type": "markdown",
   "metadata": {},
   "source": [
    "Ahora, seguimos el algoritmo descrito arriba para construir el circuito que encuentra $s$."
   ]
  },
  {
   "cell_type": "code",
   "execution_count": 7,
   "metadata": {
    "ExecuteTime": {
     "end_time": "2020-11-27T13:18:25.287053Z",
     "start_time": "2020-11-27T13:18:24.848082Z"
    }
   },
   "outputs": [
    {
     "data": {
      "image/png": "[encoded data removed]",
      "text/plain": [
       "<Figure size 989.597x505.68 with 1 Axes>"
      ]
     },
     "execution_count": 7,
     "metadata": {},
     "output_type": "execute_result"
    }
   ],
   "source": [
    "# Construimos un circuito con n+1 qubits\n",
    "q = QuantumRegister(n + 1, 'q')\n",
    "c = ClassicalRegister(n, 'c')\n",
    "circuit = QuantumCircuit(n + 1, n)\n",
    "\n",
    "# Aplicamos H a todos los qubits\n",
    "circuit.h(q)\n",
    "circuit.z(q[n])\n",
    "circuit.barrier()\n",
    "\n",
    "# Añadimos el oráculo U_f\n",
    "circuit.append(Uf, range(n+1))\n",
    "circuit.barrier()\n",
    "\n",
    "# Aplicamos H de nuevo\n",
    "circuit.h(q[0:n])\n",
    "circuit.barrier()\n",
    "\n",
    "# Añadimos mediciones a todo excepto al bit de signo\n",
    "circuit.measure(q[0:n], c[0:n])\n",
    "\n",
    "circuit.draw('mpl')"
   ]
  },
  {
   "cell_type": "markdown",
   "metadata": {},
   "source": [
    "Finalmente, ejecutamos el algoritmo y vemos como siempre encuentra el valor de $s$."
   ]
  },
  {
   "cell_type": "code",
   "execution_count": 8,
   "metadata": {
    "ExecuteTime": {
     "end_time": "2020-11-27T13:18:39.664540Z",
     "start_time": "2020-11-27T13:18:32.279115Z"
    },
    "scrolled": true
   },
   "outputs": [
    {
     "data": {
      "image/png": "[encoded data removed]",
      "text/plain": [
       "<Figure size 504x360 with 1 Axes>"
      ]
     },
     "execution_count": 8,
     "metadata": {},
     "output_type": "execute_result"
    }
   ],
   "source": [
    "backend = provider.get_backend('ibmq_qasm_simulator')\n",
    "counts = execute(circuit, backend, shots=1024).result().get_counts(circuit)\n",
    "plot_histogram(counts)"
   ]
  },
  {
   "cell_type": "markdown",
   "metadata": {},
   "source": [
    "Planteamos por último un problema de tamaño más pequeño, con tamaño de secreto de 3 bits, para ejecutarlo en un ordenador cuántico real."
   ]
  },
  {
   "cell_type": "code",
   "execution_count": 1,
   "metadata": {
    "ExecuteTime": {
     "end_time": "2020-11-27T16:08:49.194951Z",
     "start_time": "2020-11-27T16:08:49.188714Z"
    }
   },
   "outputs": [],
   "source": [
    "n = 3\n",
    "s = '101'"
   ]
  },
  {
   "cell_type": "code",
   "execution_count": 6,
   "metadata": {
    "ExecuteTime": {
     "end_time": "2020-11-27T16:11:43.468120Z",
     "start_time": "2020-11-27T16:11:43.451499Z"
    }
   },
   "outputs": [],
   "source": [
    "circuit_uf = QuantumCircuit(n + 1, name = \"  Oracle Uf  \")\n",
    "\n",
    "# Añadimos puertas CNOT\n",
    "s_inv = s[::-1]\n",
    "for i in range(n):\n",
    "    if s_inv[i] != '0':\n",
    "        circuit_uf.cnot(i, n)\n",
    "\n",
    "Uf = circuit_uf.to_instruction() "
   ]
  },
  {
   "cell_type": "code",
   "execution_count": 7,
   "metadata": {
    "ExecuteTime": {
     "end_time": "2020-11-27T16:11:44.165784Z",
     "start_time": "2020-11-27T16:11:43.630543Z"
    }
   },
   "outputs": [
    {
     "data": {
      "image/png": "[encoded data removed]",
      "text/plain": [
       "<Figure size 808.997x325.08 with 1 Axes>"
      ]
     },
     "execution_count": 7,
     "metadata": {},
     "output_type": "execute_result"
    }
   ],
   "source": [
    "# Construimos un circuito con n+1 qubits\n",
    "q = QuantumRegister(n + 1, 'q')\n",
    "c = ClassicalRegister(n, 'c')\n",
    "circuit = QuantumCircuit(n + 1, n)\n",
    "circuit.h(q)\n",
    "circuit.z(q[n])\n",
    "circuit.barrier()\n",
    "circuit.append(Uf, range(n+1))\n",
    "circuit.barrier()\n",
    "circuit.h(q[0:n])\n",
    "circuit.barrier()\n",
    "circuit.measure(q[0:n], c[0:n])\n",
    "circuit.draw('mpl')"
   ]
  },
  {
   "cell_type": "markdown",
   "metadata": {},
   "source": [
    "Buscamos el backend de entre 4 y 5 qubits que esté más libre, y ejecutamos el circuito ahí."
   ]
  },
  {
   "cell_type": "code",
   "execution_count": 10,
   "metadata": {
    "ExecuteTime": {
     "end_time": "2020-11-27T16:32:55.945352Z",
     "start_time": "2020-11-27T16:14:43.054279Z"
    }
   },
   "outputs": [
    {
     "data": {
      "image/png": "[encoded data removed]",
      "text/plain": [
       "<Figure size 504x360 with 1 Axes>"
      ]
     },
     "execution_count": 10,
     "metadata": {},
     "output_type": "execute_result"
    }
   ],
   "source": [
    "backend = least_busy(provider.backends(filters = lambda x: x.configuration().n_qubits <= 5 and\n",
    "                     x.configuration().n_qubits >= 4 and \n",
    "                     not x.configuration().simulator and \n",
    "                     x.status().operational == True))\n",
    "counts = execute(circuit, backend, shots=1024).result().get_counts(circuit)\n",
    "plot_histogram(counts)"
   ]
  },
  {
   "cell_type": "markdown",
   "metadata": {},
   "source": [
    "Vemos que se obtiene el resultado correcto ($s=101$) con la probabilidad más alta, de un 85%. Los otros resultados medidos son debidos al ruido y errores de medición del ordenador cuántico."
   ]
  }
 ],
 "metadata": {
  "kernelspec": {
   "display_name": "Python 3",
   "language": "python",
   "name": "python3"
  },
  "language_info": {
   "codemirror_mode": {
    "name": "ipython",
    "version": 3
   },
   "file_extension": ".py",
   "mimetype": "text/x-python",
   "name": "python",
   "nbconvert_exporter": "python",
   "pygments_lexer": "ipython3",
   "version": "3.8.6"
  },
  "latex_envs": {
   "LaTeX_envs_menu_present": false,
   "autoclose": true,
   "autocomplete": false,
   "bibliofile": "bibliography.bib",
   "cite_by": "apalike",
   "current_citInitial": 1,
   "eqLabelWithNumbers": true,
   "eqNumInitial": 1,
   "hotkeys": {
    "equation": "Ctrl-E",
    "itemize": "Ctrl-I"
   },
   "labels_anchors": false,
   "latex_user_defs": false,
   "report_style_numbering": false,
   "user_envs_cfg": false
  },
  "toc": {
   "base_numbering": 1,
   "nav_menu": {},
   "number_sections": true,
   "sideBar": true,
   "skip_h1_title": false,
   "title_cell": "Table of Contents",
   "title_sidebar": "Contents",
   "toc_cell": false,
   "toc_position": {},
   "toc_section_display": true,
   "toc_window_display": false
  },
  "varInspector": {
   "cols": {
    "lenName": 16,
    "lenType": 16,
    "lenVar": 40
   },
   "kernels_config": {
    "python": {
     "delete_cmd_postfix": "",
     "delete_cmd_prefix": "del ",
     "library": "var_list.py",
     "varRefreshCmd": "print(var_dic_list())"
    },
    "r": {
     "delete_cmd_postfix": ") ",
     "delete_cmd_prefix": "rm(",
     "library": "var_list.r",
     "varRefreshCmd": "cat(var_dic_list()) "
    }
   },
   "types_to_exclude": [
    "module",
    "function",
    "builtin_function_or_method",
    "instance",
    "_Feature"
   ],
   "window_display": false
  }
 },
 "nbformat": 4,
 "nbformat_minor": 4
}
