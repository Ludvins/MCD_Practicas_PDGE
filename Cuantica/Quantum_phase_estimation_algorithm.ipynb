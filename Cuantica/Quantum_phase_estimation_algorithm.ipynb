{
 "cells": [
  {
   "cell_type": "markdown",
   "metadata": {},
   "source": [
    "*Luis Antonio Ortega Andrés   \n",
    "Antonio Coín Castro*"
   ]
  },
  {
   "cell_type": "code",
   "execution_count": 1,
   "metadata": {
    "ExecuteTime": {
     "end_time": "2020-11-29T12:32:14.235557Z",
     "start_time": "2020-11-29T12:32:02.752148Z"
    }
   },
   "outputs": [
    {
     "name": "stderr",
     "output_type": "stream",
     "text": [
      "/home/antcc/.local/lib/python3.8/site-packages/qiskit/providers/ibmq/ibmqfactory.py:192: UserWarning: Timestamps in IBMQ backend properties, jobs, and job results are all now in local time instead of UTC.\n",
      "  warnings.warn('Timestamps in IBMQ backend properties, jobs, and job results '\n"
     ]
    }
   ],
   "source": [
    "from qiskit import QuantumCircuit, QuantumRegister, ClassicalRegister, Aer, IBMQ, execute\n",
    "from qiskit.visualization import plot_histogram, plot_bloch_multivector\n",
    "from qiskit_textbook.tools import array_to_latex\n",
    "from qiskit.providers.ibmq import least_busy\n",
    "from qiskit.tools.monitor import job_monitor\n",
    "\n",
    "import numpy as np\n",
    "import matplotlib.pyplot as plt\n",
    "%matplotlib inline\n",
    "\n",
    "# Load IBM account\n",
    "provider = IBMQ.load_account()"
   ]
  },
  {
   "cell_type": "markdown",
   "metadata": {},
   "source": [
    "# Algoritmo cuántico de estimación de fase\n",
    "\n"
   ]
  },
  {
   "cell_type": "markdown",
   "metadata": {},
   "source": [
    "Mostramos el desarrollo del algoritmo cuántico para estimación de la fase de un autovalor de una puerta cuántica. Suponemos que tenemos una puerta $U$ de $m$ qubits y conocemos un autovector $|\\psi\\rangle$ con autovalor asociado $e^{2\\pi i \\theta}$. El objetivo del algoritmo es estimar $e^{2\\pi i \\theta}$, que equivale a estimar $\\theta$, donde estamos suponiendo que $0\\leq \\theta \\leq 1$.\n",
    "\n",
    "## Descripción del algoritmo QPE\n",
    "\n",
    "El circuito que implementa el algoritmo (que describiremos a continuación) es el siguiente:\n",
    "\n",
    "<img src=\"https://qiskit.org/textbook/ch-algorithms/images/qpe_tex_qz.png\" alt=\"quantum phase estimation circuit\" width=500></img>\n",
    "\n",
    "Veamos las fases de las que consta el algoritmo.\n",
    "\n",
    "### Inicialización\n",
    "\n",
    "Elegimos un valor $n$ que representa el número de bits de precisión con el que queremos aproximar $\\theta$. Consideramos dos registros cuánticos: en el primero (llamado registro de conteo) tendremos $n$ qubits inicializados a $|0\\rangle$, y en el segundo tendremos $m$ qubits inicializados al estado $|\\psi\\rangle$.\n",
    "\n",
    "Así, el estado inicial del sistema será:\n",
    "\n",
    "$$|\\psi_0\\rangle = |0\\rangle^{\\otimes n}|\\psi\\rangle.$$\n",
    "\n",
    "### Superposición de estados\n",
    "\n",
    "Aplicamos una puerta de Hadamard a cada qubit del registro de conteo, por lo que el nuevo estado del circuito será:\n",
    "\n",
    "$$|\\psi_1\\rangle = H^{\\otimes n}|0\\rangle^{\\otimes n}|\\psi\\rangle = \\frac{1}{2^{n/2}}\\left(|0\\rangle + |1\\rangle\\right)^{\\otimes n}|\\psi\\rangle.$$\n",
    "\n",
    "### Phase kickback de $|\\psi\\rangle$ \n",
    "\n",
    "Ahora utilizamos la idea del algoritmo de *phase kickback* que vimos en otro de los cuadernos para codificar la información de la fase del autovalor $e^{2\\pi i \\theta}$ en los $n$ qubits del registro de conteo. Para ello usaremos una propiedad evidente:\n",
    "\n",
    "**Proposición.** Si $\\lambda=e^{2\\pi i \\theta}$ es un autovalor de $U$ asociado al autovector $|\\psi\\rangle$, entonces $\\lambda^j=e^{2\\pi i j\\theta}$ es un autovalor de $U^j$ asociado al mismo autovector, para todo $j\\in \\mathbb N$.\n",
    "\n",
    "*Demostración.* Dado $j>1$, se tiene que:\n",
    "\n",
    "$$U^j|\\psi \\rangle = U^{j-1}U|\\psi\\rangle = U^{j-1}\\lambda|\\psi\\rangle = \\lambda U^{j-2}U|\\psi\\rangle = \\dots = \\lambda^j|\\psi\\rangle.$$\n",
    "\n",
    "Lo que hacemos entonces es codificar una potencia $2^j$ de $e^{2\\pi i \\theta}$ en el $j$-ésimo qubit del registro de conteo, para $j=0,1,\\dots, n-1$. Sabemos que esto se puede conseguir aplicando una puerta Controlled-$U^{2^j}$ al registro que contiene $|\\psi\\rangle$, utilizando como qubit de control aquel donde queremos codificar la información. A la hora de aplicar las puertas lo hacemos en orden inverso para seguir la convención de Qiskit:\n",
    "\n",
    "$$|\\psi_2\\rangle = \\frac{1}{2^{n/2}}\\left(|0\\rangle + e^{2\\pi i 2^{n-1}\\theta}|1\\rangle\\right)\\otimes \\dots \\otimes \\left(|0\\rangle + e^{2\\pi i 2^{0}\\theta}|1\\rangle\\right)\\otimes |\\psi\\rangle.$$\n",
    "\n",
    "*Nota: ver el cuaderno sobre el algoritmo de phase kickback para ver la derivación de esta fórmula.*\n",
    "\n",
    "Por otro lado, si denotamos $|k\\rangle$ al qubit $n$-dimensional dado por la representación binaria del número decimal $k$ con $n$ bits (es decir, $|k\\rangle$ tiene un $1$ en la posición $k$-ésima y $0$s en el resto), con algunas manipulaciones algebraicas podemos reescribir lo anterior como:\n",
    "\n",
    "$$|\\psi_2\\rangle=\\frac{1}{2^{n/2}} \\sum_{k=0}^{2^n - 1} e^{2\\pi i k \\theta}|k\\rangle\\otimes |\\psi\\rangle.$$\n",
    "\n",
    "### Transformada de Fourier cuántica inversa\n",
    "\n",
    "[Se puede demostrar](https://qiskit.org/textbook/ch-algorithms/quantum-fourier-transform.html) que la puerta cuántica conocida como *transformada de Fourier cuántica* ($\\mathcal{QFT}$) aplicada a un qubit básico genérico $|x\\rangle$ de dimensión $n$ (siguiendo la notación introducida anteriormente) tiene la siguiente expresión:\n",
    "\n",
    "$$\\mathcal{QFT}|x\\rangle = \\frac{1}{2^{n/2}}\\sum_{k=0}^{2^n -1} e^{2\\pi i kx/2^n}|k\\rangle.$$\n",
    "\n",
    "Nos damos cuenta entonces que esto es justamente lo que tenemos en la expresión anterior de $|\\psi_2\\rangle$, tomando $x=2^n\\theta$. Por tanto, como la puerta $\\mathcal {QFT}$ es reversible (como puerta cuántica que es), podemos en principio aplicar su puerta inversa, $\\mathcal {QFT}^{-1}$, para recuperar el estado $|2^n\\theta\\rangle$.\n",
    "\n",
    "Análogamente a lo anterior, la transformada cuántica de Fourier inversa tiene la expresión:\n",
    "\n",
    "$$\\mathcal{QFT}^{-1}|y\\rangle = \\frac{1}{2^{n/2}}\\sum_{x=0}^{2^n -1} e^{-2\\pi i xy/2^n}|x\\rangle.$$\n",
    "\n",
    "Por tanto, aplicando esta puerta a los $n$ primers qubits en la expresión de $|\\psi_2\\rangle$, se tiene (ya que la puerta $\\mathcal {QFT}$ es lineal):\n",
    "\n",
    "$$|\\psi_3\\rangle = \\mathcal{QFT}^{-1}\\left(\\frac{1}{2^{n/2}} \\sum_{k=0}^{2^n - 1} e^{2\\pi i k \\theta}|k \\rangle\\right) \\otimes |\\psi\\rangle =\\frac{1}{2^{n/2}} \\sum_{k=0}^{2^n - 1} e^{2\\pi i k \\theta} \\mathcal{QFT}^{-1}|k\\rangle \\otimes |\\psi\\rangle= \\frac{1}{2^{n/2}} \\sum_{k=0}^{2^n - 1} e^{2\\pi i k \\theta} \\frac{1}{2^{n/2}}\\sum_{x=0}^{2^n -1} e^{-2\\pi i kx/2^n}|x\\rangle \\otimes |\\psi \\rangle = \\frac{1}{2^n}\\sum_{x=0}^{2^n-1} \\sum_{k=0}^{2^n-1} e^{-2\\pi i k (x-2^n\\theta)/2^n}|x\\rangle \\otimes |\\psi\\rangle.$$\n",
    "\n",
    "### Medición aproximada de $\\theta$\n",
    "\n",
    "Hay un problema, y es que este intento de revertir la aplicación de la puerta solo funcionará en el caso de que $2^n\\theta$ sea un entero (representando un número binario de longitud $n$). Para atacar el caso general, podemos expresar $2^n\\theta = a + 2^n\\delta$, donde $a$ es el entero más cercano a $2^n\\theta$, y la diferencia $2^n\\delta$ satisface $0\\leq |2^n\\delta|\\leq 1/2$ (recordemos que $0\\leq \\theta \\leq 1$). Entonces, podemos escribir:\n",
    "\n",
    "$$|\\psi_3\\rangle=\\frac{1}{2^n}\\sum_{x=0}^{2^n-1} \\sum_{k=0}^{2^n-1} e^{-2\\pi i k (x-a)/2^n}e^{2\\pi i k \\delta}|x\\rangle \\otimes |\\psi\\rangle.$$\n",
    "\n",
    "Ahora, recordamos que para obtener la probabilidad de medir un valor $x$ en un estado $\\varphi$, no tenemos más que calcular $p(|x\\rangle)=|\\langle x|\\varphi\\rangle|^2$. Por tanto, se tiene que,midiendo solo en los $n$ qubits del primer registro:\n",
    "\n",
    "$$p(|a\\rangle)=|\\langle a | \\psi^{0,\\dots,n-1}_3\\rangle|^2=\\left|\\left\\langle a \\left| \\frac{1}{2^n}\\sum_{x=0}^{2^n-1} \\sum_{k=0}^{2^n-1} e^{-2\\pi i k (x-a)/2^n}e^{2\\pi i k \\delta}\\right|x \\right\\rangle \\right|^2=\\frac{1}{2^{2n}}\\left|\\sum_{k=0}^{2^n-1}e^{2\\pi i k\\delta}\\right|^2.$$\n",
    "\n",
    "Para entender de dónde sale la última igualdad, podemos pensar que como $|a\\rangle$ es un qubit básico, el vector que lo representa tendrá un $1$ en la posición $a$-ésima y $0$s en el resto (viendo $a$ en decimal). Por tanto, al hacer el producto escalar nos quedaremos solo con la componente $a$-ésima del vector que forma el *ket*, es decir, con\n",
    "\n",
    "$$\\sum_{k=0}^{2^n-1}e^{-2\\pi i k(a-a)/2^n}e^{2\\pi i k \\delta} = \\sum_{k=0}^{2^n-1}e^{2\\pi i k\\delta}.$$\n",
    "\n",
    "Ahora dividimos por casos:\n",
    "\n",
    "- Si $\\delta=0$ (es decir, $a=2^n\\delta$), entonces de la expresión anterior obtenemos $p(|a\\rangle)=1$, por lo que en la salida mediremos siempre el valor $2^n\\theta$ (en binario). Esto es, el estado final del circuito será\n",
    "\n",
    "$$|\\psi_4\\rangle =|2^n\\theta \\rangle \\otimes |\\psi\\rangle.$$\n",
    "\n",
    "- Si $\\delta\\neq 0$, la expresión de $p(|a\\rangle)$ constituye una serie geométrica que podemos sumar. Aprovechando que $|\\delta|\\leq 2^{-(n+1)}$ y utilizando algunas cotas trigonométricas, [se puede demostrar](https://en.wikipedia.org/wiki/Quantum_phase_estimation_algorithm#cite_note-ekert-3) que $p(|a\\rangle)\\geq \\frac{4}{\\pi^2} \\approx 0.405$. Es decir, al menos en el $40$% de las veces obtendremos como salida del circuito la mejor aproximación de $2^n\\theta$ con $n$ bits.\n",
    "\n",
    "En cualquiera de los casos, una vez que medimos la salida, tan solo tenemos que dividir el resultado por $2^n$ para obtener nuestra aproximación de $\\theta$.\n",
    "\n",
    "*Nota: también [es posible probar](https://arxiv.org/pdf/quant-ph/9708016.pdf) que podemos incrementar la probabilidad de obtener lo que queremos hasta $1-\\varepsilon$ utilizando $\\mathcal O\\left(\\log \\varepsilon^{-1} \\right)$ qubits extra en el registro de conteo, y después redondeando el resultado hasta los $n$ bits más significativos.*"
   ]
  },
  {
   "cell_type": "markdown",
   "metadata": {},
   "source": [
    "## Ejemplo para aproximar el número $\\pi$"
   ]
  },
  {
   "cell_type": "markdown",
   "metadata": {},
   "source": [
    "Aprovechamos el algoritmo QPE descrito anteriormente para  intentar obtener una aproximación cuántica de $\\pi$. Para ello lo primero que debemos hacer es buscar una puerta $U$ con un autovector $|\\psi\\rangle$ y una fase que nos convenga. Por ejemplo, consideramos la puerta\n",
    "\n",
    "$$u_1(\\rho)=\\begin{pmatrix}1&0\\\\0&e^{i\\rho}\\end{pmatrix}.$$\n",
    "\n",
    "Se comprueba fácilmente que $|1\\rangle$ es un autovector de $U$, con autovalor asociado $e^{i\\rho}$:\n",
    "\n",
    "$$U|1\\rangle = \\begin{pmatrix}1&0\\\\0&e^{i/\\rho}\\end{pmatrix}\\begin{pmatrix}0\\\\1\\end{pmatrix}= e^{i\\rho}\\begin{pmatrix}0\\\\1\\end{pmatrix}.$$\n",
    "\n",
    "Si seleccionamos $U=u_1\\left(1\\right)$, el autovalor correspondiente será $e^i$. Comparando con la forma genérica $e^{2\\pi i\\theta}$ que supone el algoritmo QPE, nos damos cuenta de que realmente estaríamos estimando el valor $\\theta=\\frac{1}{2\\pi}.$ Además, tras la medición del circuito QPE obtenemos un valor $a$ que representa (con alta probabilidad) la estimación de $2^n\\theta$, por lo que nuestra estimación final será:\n",
    "\n",
    "$$2^n\\frac{1}{2\\pi} = 2^n\\theta \\approx a \\implies \\pi \\approx \\frac{2^n}{2a}=\\frac{2^{n-1}}{a}.$$"
   ]
  },
  {
   "cell_type": "markdown",
   "metadata": {},
   "source": [
    "### Construcción del circuito\n",
    "\n",
    "Creamos una serie de funciones para construir el circuito QPE. La primera de ellas será una que implementa la transformada cuántica de Fourier inversa."
   ]
  },
  {
   "cell_type": "code",
   "execution_count": 2,
   "metadata": {
    "ExecuteTime": {
     "end_time": "2020-11-29T12:32:14.272534Z",
     "start_time": "2020-11-29T12:32:14.249375Z"
    }
   },
   "outputs": [],
   "source": [
    "# adapted from https://qiskit.org/textbook/ch-algorithms/quantum-fourier-transform.html\n",
    "def qft_dagger(circ, n_qubits):\n",
    "    \"\"\"n-qubit QFTdagger the first n qubits in circ\"\"\"\n",
    "    \n",
    "    qft_inv = QuantumCircuit(n_qubits, name = \"  Inverse QFT  \")\n",
    "    for qubit in range(int(n_qubits/2)):\n",
    "        qft_inv.swap(qubit, n_qubits-qubit-1)\n",
    "    for j in range(0, n_qubits):\n",
    "        for m in range(j):\n",
    "            qft_inv.cu1(-np.pi/float(2**(j-m)), m, j)\n",
    "        qft_inv.h(j)\n",
    "        \n",
    "    circ.append(qft_inv.to_instruction(), range(n_qubits))"
   ]
  },
  {
   "cell_type": "markdown",
   "metadata": {},
   "source": [
    "A continuación escribimos una función que sitúa el circuito en el estado inicial adecuado, es decir, aplica una puerta de Hadamard a cada qubit del registro de conteo, y establece el estado $|\\psi\\rangle=|1\\rangle$ en el otro registro."
   ]
  },
  {
   "cell_type": "code",
   "execution_count": 11,
   "metadata": {
    "ExecuteTime": {
     "end_time": "2020-11-29T12:42:07.070257Z",
     "start_time": "2020-11-29T12:42:07.044920Z"
    }
   },
   "outputs": [],
   "source": [
    "# adapted from https://qiskit.org/textbook/ch-demos/piday-code.html\n",
    "def qpe_pre(circ, n_qubits):\n",
    "    circ.h(range(n_qubits))\n",
    "    circ.x(n_qubits)\n",
    "\n",
    "    for x in reversed(range(n_qubits)):\n",
    "        for _ in range(2**(n_qubits-1-x)):\n",
    "            circ.cp(1, n_qubits-1-x, n_qubits)"
   ]
  },
  {
   "cell_type": "markdown",
   "metadata": {},
   "source": [
    "También escribimos una función para ejecutar el circuito y obtener los resultados."
   ]
  },
  {
   "cell_type": "code",
   "execution_count": 4,
   "metadata": {
    "ExecuteTime": {
     "end_time": "2020-11-29T12:32:14.339212Z",
     "start_time": "2020-11-29T12:32:14.324164Z"
    }
   },
   "outputs": [],
   "source": [
    "def run_job(circ, backend, shots=1024):\n",
    "    job = execute(circ, backend=backend, shots=shots)\n",
    "    return job.result().get_counts(circ)"
   ]
  },
  {
   "cell_type": "markdown",
   "metadata": {},
   "source": [
    "Escribimos una función que se encarga de construir el circuito con el número de qubits que le indiquemos, y la ejecutamos por ejemplo con $3$ qubits para poder visualizarlo."
   ]
  },
  {
   "cell_type": "code",
   "execution_count": 12,
   "metadata": {
    "ExecuteTime": {
     "end_time": "2020-11-29T12:42:09.796131Z",
     "start_time": "2020-11-29T12:42:09.776984Z"
    }
   },
   "outputs": [],
   "source": [
    "def qpe_circ(n_qubits):\n",
    "    # Create and initialize the circuit\n",
    "    circ = QuantumCircuit(n_qubits + 1, n_qubits)\n",
    "    qpe_pre(circ, n_qubits)\n",
    "    circ.barrier()\n",
    "    \n",
    "    # Apply the inverse fourier transform\n",
    "    qft_dagger(circ, n_qubits)\n",
    "    circ.barrier()\n",
    "    \n",
    "    # Measure all but the last qubit\n",
    "    circ.measure(range(n_qubits), range(n_qubits))\n",
    "\n",
    "    return circ"
   ]
  },
  {
   "cell_type": "code",
   "execution_count": 13,
   "metadata": {
    "ExecuteTime": {
     "end_time": "2020-11-29T12:42:14.757607Z",
     "start_time": "2020-11-29T12:42:12.847776Z"
    }
   },
   "outputs": [
    {
     "data": {
      "image/png": "[encoded data removed]",
      "text/plain": [
       "<Figure size 1049.8x325.08 with 1 Axes>"
      ]
     },
     "execution_count": 13,
     "metadata": {},
     "output_type": "execute_result"
    }
   ],
   "source": [
    "n = 3\n",
    "qpe = qpe_circ(n)\n",
    "qpe.draw('mpl')"
   ]
  },
  {
   "cell_type": "markdown",
   "metadata": {},
   "source": [
    "Ejecutamos el algoritmo en el simulador."
   ]
  },
  {
   "cell_type": "code",
   "execution_count": 7,
   "metadata": {
    "ExecuteTime": {
     "end_time": "2020-11-29T12:32:27.092139Z",
     "start_time": "2020-11-29T12:32:18.045081Z"
    }
   },
   "outputs": [
    {
     "data": {
      "image/png": "[encoded data removed]",
      "text/plain": [
       "<Figure size 504x360 with 1 Axes>"
      ]
     },
     "execution_count": 7,
     "metadata": {},
     "output_type": "execute_result"
    }
   ],
   "source": [
    "backend_sim = provider.get_backend('ibmq_qasm_simulator')\n",
    "counts = run_job(qpe, backend_sim)\n",
    "plot_histogram(counts)"
   ]
  },
  {
   "cell_type": "markdown",
   "metadata": {},
   "source": [
    "Vemos que hemos obtenido como salida más probable $001$, es decir, $1$ en decimal. Según nuestros cálculos anteriores, podemos entonces recuperar el valor de $\\pi$ como:\n",
    "\n",
    "$$\\pi \\approx \\frac{2^2}{1}=4.$$\n",
    "\n",
    "Como vemos, no es una aproximación muy buena, porque estamos utilizando muy pocos qubits. Vamos a escribir una función que realice la estimación de $\\pi$ de forma automática para distintos valores de $n$, y mostraremos los resultados en el simulador."
   ]
  },
  {
   "cell_type": "code",
   "execution_count": 8,
   "metadata": {
    "ExecuteTime": {
     "end_time": "2020-11-29T12:32:27.128536Z",
     "start_time": "2020-11-29T12:32:27.101279Z"
    }
   },
   "outputs": [],
   "source": [
    "def get_pi_estimate(n_qubits, backend, shots=4096):\n",
    "    # Create and initialize the circuit\n",
    "    circ = qpe_circ(n_qubits)\n",
    "\n",
    "    # Run the job and get the results\n",
    "    counts = run_job(circ, backend=backend, shots=shots)\n",
    "\n",
    "    # Get the count that occurred most frequently\n",
    "    max_counts_result = max(counts, key=counts.get)\n",
    "    max_counts_result = int(max_counts_result, 2)\n",
    "    \n",
    "    # Solve for pi from the measured counts\n",
    "    if max_counts_result > 0:\n",
    "        pi = 1.0 * 2**(n_qubits-1)/max_counts_result\n",
    "    else:\n",
    "        pi = 0.0\n",
    "    \n",
    "    return pi, counts"
   ]
  },
  {
   "cell_type": "code",
   "execution_count": 9,
   "metadata": {
    "ExecuteTime": {
     "end_time": "2020-11-29T12:33:49.248763Z",
     "start_time": "2020-11-29T12:32:27.140784Z"
    }
   },
   "outputs": [
    {
     "name": "stdout",
     "output_type": "stream",
     "text": [
      "2 qubits, pi ≈ 2.0\n",
      "3 qubits, pi ≈ 4.0\n",
      "4 qubits, pi ≈ 2.6666666666666665\n",
      "5 qubits, pi ≈ 3.2\n",
      "6 qubits, pi ≈ 3.2\n",
      "7 qubits, pi ≈ 3.2\n",
      "8 qubits, pi ≈ 3.1219512195121952\n",
      "9 qubits, pi ≈ 3.1604938271604937\n",
      "10 qubits, pi ≈ 3.1411042944785277\n",
      "11 qubits, pi ≈ 3.1411042944785277\n",
      "12 qubits, pi ≈ 3.1411042944785277\n"
     ]
    }
   ],
   "source": [
    "# Estimate pi using different numbers of qubits\n",
    "nqs = list(range(2, 13))\n",
    "pi_estimates = []\n",
    "for nq in nqs:\n",
    "    pi_estimate, _ = get_pi_estimate(nq, backend_sim)\n",
    "    pi_estimates.append(pi_estimate)\n",
    "    print(f\"{nq} qubits, pi ≈ {pi_estimate}\")"
   ]
  },
  {
   "cell_type": "markdown",
   "metadata": {},
   "source": [
    "Vemos que a partir de 10 qubits la aproximación es correcta hasta la tercera cifra decimal, por lo que tenemos ya una buena aproximación. Podemos visualizar también los resultados en una gráfica."
   ]
  },
  {
   "cell_type": "code",
   "execution_count": 10,
   "metadata": {
    "ExecuteTime": {
     "end_time": "2020-11-29T12:33:50.153103Z",
     "start_time": "2020-11-29T12:33:49.259498Z"
    }
   },
   "outputs": [
    {
     "data": {
      "image/png": "[encoded data removed]",
      "text/plain": [
       "<Figure size 432x288 with 1 Axes>"
      ]
     },
     "metadata": {
      "needs_background": "light"
     },
     "output_type": "display_data"
    }
   ],
   "source": [
    "plt.plot(nqs, [np.pi]*len(nqs), '--r')\n",
    "plt.plot(nqs, pi_estimates, '.-', markersize=12)\n",
    "plt.xlim([1.5, 12.5])\n",
    "plt.ylim([1.5, 4.5])\n",
    "plt.legend(['$\\pi$', 'estimate of $\\pi$'])\n",
    "plt.xlabel('Number of qubits', fontdict={'size':15})\n",
    "plt.tick_params(axis='x', labelsize=12)\n",
    "plt.tick_params(axis='y', labelsize=12)\n",
    "plt.show()"
   ]
  }
 ],
 "metadata": {
  "kernelspec": {
   "display_name": "Python 3",
   "language": "python",
   "name": "python3"
  },
  "language_info": {
   "codemirror_mode": {
    "name": "ipython",
    "version": 3
   },
   "file_extension": ".py",
   "mimetype": "text/x-python",
   "name": "python",
   "nbconvert_exporter": "python",
   "pygments_lexer": "ipython3",
   "version": "3.8.6"
  },
  "latex_envs": {
   "LaTeX_envs_menu_present": false,
   "autoclose": true,
   "autocomplete": false,
   "bibliofile": "bibliography.bib",
   "cite_by": "apalike",
   "current_citInitial": 1,
   "eqLabelWithNumbers": true,
   "eqNumInitial": 1,
   "hotkeys": {
    "equation": "Ctrl-E",
    "itemize": "Ctrl-I"
   },
   "labels_anchors": false,
   "latex_user_defs": false,
   "report_style_numbering": false,
   "user_envs_cfg": false
  },
  "toc": {
   "base_numbering": 1,
   "nav_menu": {},
   "number_sections": true,
   "sideBar": true,
   "skip_h1_title": false,
   "title_cell": "Table of Contents",
   "title_sidebar": "Contents",
   "toc_cell": false,
   "toc_position": {},
   "toc_section_display": true,
   "toc_window_display": false
  },
  "varInspector": {
   "cols": {
    "lenName": 16,
    "lenType": 16,
    "lenVar": 40
   },
   "kernels_config": {
    "python": {
     "delete_cmd_postfix": "",
     "delete_cmd_prefix": "del ",
     "library": "var_list.py",
     "varRefreshCmd": "print(var_dic_list())"
    },
    "r": {
     "delete_cmd_postfix": ") ",
     "delete_cmd_prefix": "rm(",
     "library": "var_list.r",
     "varRefreshCmd": "cat(var_dic_list()) "
    }
   },
   "types_to_exclude": [
    "module",
    "function",
    "builtin_function_or_method",
    "instance",
    "_Feature"
   ],
   "window_display": false
  }
 },
 "nbformat": 4,
 "nbformat_minor": 4
}
